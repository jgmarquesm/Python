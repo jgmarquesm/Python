{
 "cells": [
  {
   "cell_type": "markdown",
   "id": "12c21404",
   "metadata": {},
   "source": [
    "<h1 style=\"color: red\">Fundamentos para Automação Web</h1>"
   ]
  },
  {
   "cell_type": "markdown",
   "id": "455659ed",
   "metadata": {},
   "source": [
    "<h2 style=\"color: blue\"> Bibliotecas</h2>"
   ]
  },
  {
   "cell_type": "code",
   "execution_count": null,
   "id": "f46fe991",
   "metadata": {},
   "outputs": [],
   "source": [
    "# Instalando a biblioteca usada\n",
    "!pip install selenium"
   ]
  },
  {
   "cell_type": "markdown",
   "id": "85f10ec6",
   "metadata": {},
   "source": [
    "<h3 style=\"color: blue\">Instalando o Webdriver no Linux (Chrome 101)</h3>"
   ]
  },
  {
   "cell_type": "code",
   "execution_count": null,
   "id": "e2bf9569",
   "metadata": {},
   "outputs": [],
   "source": [
    "# Primeiro instale um extrator de arquivos, como por exemplo o uzip\n",
    "!sudo apt-get install unzip\n",
    "# Baixando o Webdriver do Google Chrome\n",
    "!wget -N https://chromedriver.storage.googleapis.com/101.0.4951.41/chromedriver_linux64.zip -P ~/Downloads\n",
    "# Descompactando o Chrome webdriver\n",
    "!unzip ~/Downloads/chromedriver_linux64.zip -d ~/Downloads\n",
    "# Movendo para pasta de interesse\n",
    "!sudo mv -f ~/Downloads/chromedriver /usr/local/share/\n",
    "# Fazendo ele executável\n",
    "!sudo chmod +x /usr/local/share/chromedriver\n",
    "# Criando links simbolicos para uso\n",
    "!sudo ln -s /usr/local/share/chromedriver /usr/local/bin/chromedriver\n",
    "!sudo ln -s /usr/local/share/chromedriver /usr/bin/chromedriver"
   ]
  },
  {
   "cell_type": "markdown",
   "id": "33c66561",
   "metadata": {},
   "source": [
    "<h3 style=\"color: green\">Iniciando o processo</h3>"
   ]
  },
  {
   "cell_type": "code",
   "execution_count": null,
   "id": "47285859",
   "metadata": {},
   "outputs": [],
   "source": [
    "# Importando as bibliotecas que serão necessárias\n",
    "\n",
    "from selenium import webdriver # Para criar o navegador\n",
    "from selenium.webdriver.common.keys import Keys # Para clicar com o teclado\n",
    "from selenium.webdriver.common.by import By # Para localizar itens na tela\n",
    "#from selenium.webdriver.chrome.options import Options # Mais configurações\n",
    "\n",
    "# De modo geral, é interessante executar em 2º plano, mas não necessariamente. Caso deseje rodar em 2º plano:\n",
    "#chrome_options = Options()\n",
    "#chrome_options.headless = True\n",
    "# Abrir o navegador\n",
    "#navegador = webdriver.Chrome(options=chrome_options)\n",
    "\n",
    "# Abrindo em \"primeiro plano\"\n",
    "navegador = webdriver.Chrome()"
   ]
  },
  {
   "cell_type": "code",
   "execution_count": null,
   "id": "835d1d41",
   "metadata": {},
   "outputs": [],
   "source": [
    "# Abrindo o site do google como exemplo\n",
    "navegador.get(\"https://www.google.com/\")"
   ]
  },
  {
   "cell_type": "markdown",
   "id": "1bfb96f7",
   "metadata": {},
   "source": [
    "Podemos consultar toda a documentação do <i><b>Selenium</b></i> <a href=\"https://www.selenium.dev/selenium/docs/api/py/api.html\">aqui</a>, entretanto aqui teremos uma sessão destinada para os três módulos principais que serão usados.\n",
    "<br>\n",
    "<h3 style=\"color: blue\">Os módulos <i>keys</i>, <i>by</i> e <i>command</i></h3>"
   ]
  },
  {
   "cell_type": "markdown",
   "id": "ed62bb9c",
   "metadata": {},
   "source": [
    "<p>\n",
    "    Com o módulo <b><i><a href=\"https://www.selenium.dev/selenium/docs/api/py/webdriver/selenium.webdriver.common.keys.html#module-selenium.webdriver.common.keys\">keys</a></i></b>, podemos fazer com que a aplicação faça o mesmo que fazemos enquanto digitamos, apertar as teclas no teclado. Semelhante aos métodos <i>write, press e hotkey</i> do pacote <b>pyautogui</b>.\n",
    "<br>\n",
    "    Para usar determinada tecla desse módulo devemos usar a seguinte sintaxe: Keys.NOME_DA_TECLA (sim, a tecla é escrita em maiúsculo). Por exemplo, se quisermos apretar a tecla tab devemos fazer: Keys.TAB.\n",
    "</p>\n",
    "<p>\n",
    "    Usamos o módulo <b><i><a href=\"https://www.selenium.dev/selenium/docs/api/py/webdriver/selenium.webdriver.common.by.html#module-selenium.webdriver.common.by\">by</a></i></b> para localizar os elementos por determinado localizador do mesmo, como por exemplo a <i>class name, xpath</i>, entre outros. Para usá-lo basta usar: By.LOCALIZADOR. Por exemplo, se quisermos usar o localizador XPATH fazemos: By.XPATH. \n",
    "</p>\n",
    "<p>\n",
    "    O módulo <b><i><a href=\"https://www.selenium.dev/selenium/docs/api/py/webdriver_remote/selenium.webdriver.remote.command.html\">command</a></i></b>, não importado de forma explícita, é usado para definir o padrão de comandos do Webdriver como por exemplo o método .get(\"URL\") (usado para acessar a URL passada no argumento) e .find_element(\"how\", \"what\") (seleciona o \"what\" usando o \"how\". Por exemplo, selecionar um campo usando o xpath: <span style=\"color: blue\">.find_element(By.XPATH, \"XPATH_DESEJADO\")</span>). \n",
    "</p>"
   ]
  },
  {
   "cell_type": "markdown",
   "id": "9629f9a3",
   "metadata": {},
   "source": [
    "<h3 style=\"color: green\">Encontrando XPATH de elementos na tela</h3>\n",
    "<p>Para encontrar elementos de site, no caso o XPATH, devemos abrir a página desejada, pode usar a automação feita pelo pyautogui:</p>"
   ]
  },
  {
   "cell_type": "code",
   "execution_count": null,
   "id": "62411497",
   "metadata": {},
   "outputs": [],
   "source": [
    "#import pyautogui\n",
    "#import time\n",
    "#import pyperclip\n",
    "\n",
    "#pyautogui.PAUSE = 1\n",
    "\n",
    "#with pyautogui.hold(\"alt\"):\n",
    "#    pyautogui.press(\"tab\")\n",
    "#time.sleep(1)\n",
    "#pyautogui.click(x = 997, y = 36)\n",
    "#pyautogui.click(x = 1101, y = 197, button = \"right\")\n",
    "#pyautogui.click(x = 1004, y = 488)\n",
    "#pyautogui.click(x = 1025, y = 190)\n",
    "#pyautogui.click(x = 831, y = 190)\n",
    "#pyautogui.click(x = 389, y = 314)\n",
    "#pyautogui.click(x = 1127, y= 292, button = \"right\")\n",
    "#pyautogui.click(x = 1167, y = 389)\n",
    "#time.sleep(1)\n",
    "#pyautogui.move(-50, 0, duration = 0.7)\n",
    "#pyautogui.move(0, 130, duration = 0.7)\n",
    "#pyautogui.click()\n",
    "#XPATH_1 = pyperclip.paste()\n",
    "#pyautogui.click(x=1349, y=188)\n",
    "#navegador.find_element(By.XPATH, f'{XPATH_1}').send_keys(\"\")\n",
    "#navegador.find_element(By.XPATH, f'{XPATH_1}').send_keys(Keys.ENTER)"
   ]
  },
  {
   "cell_type": "code",
   "execution_count": null,
   "id": "e0f1fb88",
   "metadata": {},
   "outputs": [],
   "source": [
    "Pesq_Google = '/html/body/div[1]/div[3]/form/div[1]/div[1]/div[1]/div/div[2]/input' # Usar sempre aspas simples no \n",
    "# XPATH para evitar conflito.\n",
    "\n",
    "navegador.find_element(By.XPATH, f'{Pesq_Google}').send_keys(\"League of Legends\")\n",
    "navegador.find_element(By.XPATH, f'{Pesq_Google}').send_keys(Keys.ENTER)"
   ]
  },
  {
   "cell_type": "code",
   "execution_count": null,
   "id": "5089b74f",
   "metadata": {},
   "outputs": [],
   "source": [
    "# Para finalizar a sessão do navegador fazemos:\n",
    "navegador.quit()"
   ]
  }
 ],
 "metadata": {
  "kernelspec": {
   "display_name": "Python 3 (ipykernel)",
   "language": "python",
   "name": "python3"
  },
  "language_info": {
   "codemirror_mode": {
    "name": "ipython",
    "version": 3
   },
   "file_extension": ".py",
   "mimetype": "text/x-python",
   "name": "python",
   "nbconvert_exporter": "python",
   "pygments_lexer": "ipython3",
   "version": "3.9.7"
  }
 },
 "nbformat": 4,
 "nbformat_minor": 5
}
