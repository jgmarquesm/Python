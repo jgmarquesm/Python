{
 "cells": [
  {
   "cell_type": "markdown",
   "id": "12c21404",
   "metadata": {},
   "source": [
    "<h1 style=\"color: red\">Fundamentos para Automação Web</h1>"
   ]
  },
  {
   "cell_type": "markdown",
   "id": "455659ed",
   "metadata": {},
   "source": [
    "<h2 style=\"color: blue\"> Bibliotecas</h2>"
   ]
  },
  {
   "cell_type": "code",
   "execution_count": null,
   "id": "f46fe991",
   "metadata": {},
   "outputs": [],
   "source": [
    "# Instalando a biblioteca usada\n",
    "!pip install selenium"
   ]
  },
  {
   "cell_type": "markdown",
   "id": "85f10ec6",
   "metadata": {},
   "source": [
    "<h3 style=\"color: blue\">Instalando o Webdriver no Linux (Chrome 101)</h3>"
   ]
  },
  {
   "cell_type": "code",
   "execution_count": 4,
   "id": "e2bf9569",
   "metadata": {},
   "outputs": [
    {
     "name": "stdout",
     "output_type": "stream",
     "text": [
      "Lendo listas de pacotes... Pronto\n",
      "Construindo árvore de dependências       \n",
      "Lendo informação de estado... Pronto\n",
      "unzip já é a versão mais recente (6.0-25ubuntu1).\n",
      "Os seguintes pacotes foram instalados automaticamente e já não são necessários:\n",
      "  linux-headers-5.4.0-81 linux-headers-5.4.0-81-generic linux-headers-5.4.0-84\n",
      "  linux-headers-5.4.0-84-generic linux-headers-5.4.0-88\n",
      "  linux-headers-5.4.0-88-generic linux-headers-5.4.0-91\n",
      "  linux-headers-5.4.0-91-generic linux-image-5.4.0-81-generic\n",
      "  linux-image-5.4.0-84-generic linux-image-5.4.0-88-generic\n",
      "  linux-image-5.4.0-91-generic linux-modules-5.4.0-81-generic\n",
      "  linux-modules-5.4.0-84-generic linux-modules-5.4.0-88-generic\n",
      "  linux-modules-5.4.0-91-generic linux-modules-extra-5.4.0-81-generic\n",
      "  linux-modules-extra-5.4.0-84-generic linux-modules-extra-5.4.0-88-generic\n",
      "  linux-modules-extra-5.4.0-91-generic\n",
      "Utilize 'sudo apt autoremove' para os remover.\n",
      "0 pacotes atualizados, 0 pacotes novos instalados, 0 a serem removidos e 55 não atualizados.\n",
      "--2022-05-16 00:14:24--  https://chromedriver.storage.googleapis.com/101.0.4951.41/chromedriver_linux64.zip\n",
      "Resolvendo chromedriver.storage.googleapis.com (chromedriver.storage.googleapis.com)... 142.250.218.16, 2800:3f0:4001:811::2010\n",
      "Conectando-se a chromedriver.storage.googleapis.com (chromedriver.storage.googleapis.com)|142.250.218.16|:443... conectado.\n",
      "A requisição HTTP foi enviada, aguardando resposta... 304 Not Modified\n",
      "Arquivo “/home/notebook/Downloads/chromedriver_linux64.zip” não foi modificado no servidor. Não será baixado.\n",
      "\n",
      "Archive:  /home/notebook/Downloads/chromedriver_linux64.zip\n",
      "  inflating: /home/notebook/Downloads/chromedriver  \n",
      "ln: falha ao criar link simbólico '/usr/local/bin/chromedriver': Arquivo existe\n",
      "ln: falha ao criar link simbólico '/usr/bin/chromedriver': Arquivo existe\n"
     ]
    }
   ],
   "source": [
    "# Primeiro instale um extrator de arquivos, como por exemplo o uzip\n",
    "!sudo apt-get install unzip\n",
    "# Baixando o Webdriver do Google Chrome\n",
    "!wget -N https://chromedriver.storage.googleapis.com/101.0.4951.41/chromedriver_linux64.zip -P ~/Downloads\n",
    "# Descompactando o Chrome webdriver\n",
    "!unzip ~/Downloads/chromedriver_linux64.zip -d ~/Downloads\n",
    "# Movendo para pasta de interesse\n",
    "!sudo mv -f ~/Downloads/chromedriver /usr/local/share/\n",
    "# Fazendo ele executável\n",
    "!sudo chmod +x /usr/local/share/chromedriver\n",
    "# Criando links simbolicos para uso\n",
    "!sudo ln -s /usr/local/share/chromedriver /usr/local/bin/chromedriver\n",
    "!sudo ln -s /usr/local/share/chromedriver /usr/bin/chromedriver"
   ]
  },
  {
   "cell_type": "markdown",
   "id": "33c66561",
   "metadata": {},
   "source": [
    "<h3 style=\"color: green\">Iniciando o processo</h3>"
   ]
  },
  {
   "cell_type": "code",
   "execution_count": 50,
   "id": "47285859",
   "metadata": {},
   "outputs": [],
   "source": [
    "# Importando as bibliotecas que serão necessárias\n",
    "\n",
    "from selenium import webdriver # Para criar o navegador\n",
    "from selenium.webdriver.common.keys import Keys # Para clicar com o teclado\n",
    "from selenium.webdriver.common.by import By # Para localizar itens na tela\n",
    "#from selenium.webdriver.chrome.options import Options # Mais configurações\n",
    "\n",
    "# De modo geral, é interessante executar em 2º plano, mas não necessariamente. Caso deseje rodar em 2º plano:\n",
    "#chrome_options = Options()\n",
    "#chrome_options.headless = True\n",
    "# Abrir o navegador\n",
    "#navegador = webdriver.Chrome(options=chrome_options)\n",
    "\n",
    "# Abrindo em \"primeiro plano\"\n",
    "navegador = webdriver.Chrome()"
   ]
  },
  {
   "cell_type": "code",
   "execution_count": 51,
   "id": "835d1d41",
   "metadata": {},
   "outputs": [],
   "source": [
    "# Abrindo o site do google como exemplo\n",
    "navegador.get(\"https://www.google.com/\")"
   ]
  },
  {
   "cell_type": "markdown",
   "id": "9629f9a3",
   "metadata": {},
   "source": [
    "<h3 style=\"color: green\">Encontrando XPATH de elementos na tela</h3>\n",
    "<p>Para encontrar elementos de site, no caso o XPATH, devemos abrir a página desejada, pode usar a automação feita pelo pyautogui:</p>"
   ]
  },
  {
   "cell_type": "code",
   "execution_count": 43,
   "id": "62411497",
   "metadata": {},
   "outputs": [],
   "source": [
    "#import pyautogui\n",
    "#import time\n",
    "#import pyperclip\n",
    "\n",
    "#pyautogui.PAUSE = 1\n",
    "\n",
    "#with pyautogui.hold(\"alt\"):\n",
    "#    pyautogui.press(\"tab\")\n",
    "#time.sleep(1)\n",
    "#pyautogui.click(x = 997, y = 36)\n",
    "#pyautogui.click(x = 1101, y = 197, button = \"right\")\n",
    "#pyautogui.click(x = 1004, y = 488)\n",
    "#pyautogui.click(x = 1025, y = 190)\n",
    "#pyautogui.click(x = 831, y = 190)\n",
    "#pyautogui.click(x = 389, y = 314)\n",
    "#pyautogui.click(x = 1127, y= 292, button = \"right\")\n",
    "#pyautogui.click(x = 1167, y = 389)\n",
    "#time.sleep(1)\n",
    "#pyautogui.move(-50, 0, duration = 0.7)\n",
    "#pyautogui.move(0, 130, duration = 0.7)\n",
    "#pyautogui.click()\n",
    "#XPATH_1 = pyperclip.paste()\n",
    "#pyautogui.click(x=1349, y=188)\n",
    "#navegador.find_element(By.XPATH, f'{XPATH_1}').send_keys(\"\")\n",
    "#navegador.find_element(By.XPATH, f'{XPATH_1}').send_keys(Keys.ENTER)"
   ]
  },
  {
   "cell_type": "code",
   "execution_count": 56,
   "id": "e0f1fb88",
   "metadata": {},
   "outputs": [],
   "source": [
    "Pesq_Google = '/html/body/div[1]/div[3]/form/div[1]/div[1]/div[1]/div/div[2]/input' # Usar sempre aspas simples no \n",
    "# XPATH para evitar conflito.\n",
    "\n",
    "navegador.find_element(By.XPATH, f'{Pesq_Google}').send_keys(\"League of Legends\")\n",
    "navegador.find_element(By.XPATH, f'{Pesq_Google}').send_keys(Keys.ENTER)"
   ]
  },
  {
   "cell_type": "code",
   "execution_count": 42,
   "id": "6a4e781c",
   "metadata": {},
   "outputs": [
    {
     "data": {
      "text/plain": [
       "Point(x=1349, y=188)"
      ]
     },
     "execution_count": 42,
     "metadata": {},
     "output_type": "execute_result"
    }
   ],
   "source": [
    "time.sleep(2)\n",
    "pyautogui.position()"
   ]
  },
  {
   "cell_type": "code",
   "execution_count": null,
   "id": "5945fc96",
   "metadata": {},
   "outputs": [],
   "source": []
  }
 ],
 "metadata": {
  "kernelspec": {
   "display_name": "Python 3 (ipykernel)",
   "language": "python",
   "name": "python3"
  },
  "language_info": {
   "codemirror_mode": {
    "name": "ipython",
    "version": 3
   },
   "file_extension": ".py",
   "mimetype": "text/x-python",
   "name": "python",
   "nbconvert_exporter": "python",
   "pygments_lexer": "ipython3",
   "version": "3.9.7"
  }
 },
 "nbformat": 4,
 "nbformat_minor": 5
}
