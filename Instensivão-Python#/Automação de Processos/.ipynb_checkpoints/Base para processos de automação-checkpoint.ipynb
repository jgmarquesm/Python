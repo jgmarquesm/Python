{
 "cells": [
  {
   "cell_type": "markdown",
   "id": "9702f113",
   "metadata": {},
   "source": [
    "<h1 style=\"color: red\"> Projeto Automação de processos - Python</h1>"
   ]
  },
  {
   "cell_type": "markdown",
   "id": "bb500aea",
   "metadata": {},
   "source": [
    "<h3 style=\"color: blue\">Primeiro passo: Importar bibliotecas necessárias (pyautogui, pyperclip, time, pandas...)"
   ]
  },
  {
   "cell_type": "code",
   "execution_count": 1,
   "id": "dfb872eb",
   "metadata": {
    "scrolled": true
   },
   "outputs": [
    {
     "name": "stdout",
     "output_type": "stream",
     "text": [
      "Requirement already satisfied: pyautogui in /home/notebook/anaconda3/lib/python3.9/site-packages (0.9.53)\n",
      "Requirement already satisfied: pygetwindow>=0.0.5 in /home/notebook/anaconda3/lib/python3.9/site-packages (from pyautogui) (0.0.9)\n",
      "Requirement already satisfied: mouseinfo in /home/notebook/anaconda3/lib/python3.9/site-packages (from pyautogui) (0.1.3)\n",
      "Requirement already satisfied: PyTweening>=1.0.1 in /home/notebook/anaconda3/lib/python3.9/site-packages (from pyautogui) (1.0.4)\n",
      "Requirement already satisfied: python3-Xlib in /home/notebook/anaconda3/lib/python3.9/site-packages (from pyautogui) (0.15)\n",
      "Requirement already satisfied: pyscreeze>=0.1.21 in /home/notebook/anaconda3/lib/python3.9/site-packages (from pyautogui) (0.1.28)\n",
      "Requirement already satisfied: pymsgbox in /home/notebook/anaconda3/lib/python3.9/site-packages (from pyautogui) (1.0.9)\n",
      "Requirement already satisfied: pyrect in /home/notebook/anaconda3/lib/python3.9/site-packages (from pygetwindow>=0.0.5->pyautogui) (0.2.0)\n",
      "Requirement already satisfied: pyperclip in /home/notebook/anaconda3/lib/python3.9/site-packages (from mouseinfo->pyautogui) (1.8.2)\n",
      "Requirement already satisfied: pyperclip in /home/notebook/anaconda3/lib/python3.9/site-packages (1.8.2)\n",
      "Requirement already satisfied: pymsgbox in /home/notebook/anaconda3/lib/python3.9/site-packages (1.0.9)\n"
     ]
    }
   ],
   "source": [
    "!pip install pyautogui\n",
    "!pip install pyperclip\n",
    "!pip install pymsgbox"
   ]
  },
  {
   "cell_type": "code",
   "execution_count": 29,
   "id": "06603724",
   "metadata": {},
   "outputs": [],
   "source": [
    "import pyautogui\n",
    "import pyperclip\n",
    "import pymsgbox\n",
    "import time\n",
    "import pandas as pd\n",
    "\n",
    "pyautogui.PAUSE = 1 #Faz com que haja uma pausa de 1s entre a execuação das linhas de código do pyautogui "
   ]
  },
  {
   "cell_type": "markdown",
   "id": "e3928184",
   "metadata": {},
   "source": [
    "<h3 style=\"color: blue\">Alguns comandos usados</h3>"
   ]
  },
  {
   "cell_type": "markdown",
   "id": "a61d41ce",
   "metadata": {},
   "source": [
    "<h4 style=\"color: green\">Para o teclado:</h4>"
   ]
  },
  {
   "cell_type": "code",
   "execution_count": 3,
   "id": "c38d565f",
   "metadata": {},
   "outputs": [
    {
     "data": {
      "text/plain": [
       "Size(width=1366, height=768)"
      ]
     },
     "execution_count": 3,
     "metadata": {},
     "output_type": "execute_result"
    }
   ],
   "source": [
    "#Caso seja necessário, pode-se obter a resolução da tela usando:\n",
    "pyautogui.size()"
   ]
  },
  {
   "cell_type": "code",
   "execution_count": 6,
   "id": "c70019d7",
   "metadata": {},
   "outputs": [],
   "source": [
    "#Para pressionar alguma tecla do seu teclado use o método:\n",
    "pyautogui.press(\"enter\") #Enter é a tecla que será pressionada.\n",
    "#Esse método pode ser usado passando mais de um parametro e a execução será executa em sequência, \n",
    "#conforme foi inserido, veja:\n",
    "pyautogui.press([\"enter\", \"left\", \"p\"]) #Pressiona a tepcla enter, depois tecla da seta esquerda e depois a tecla p."
   ]
  },
  {
   "cell_type": "code",
   "execution_count": 7,
   "id": "77f4aa4a",
   "metadata": {},
   "outputs": [],
   "source": [
    "#Para pressionar um conjunto de teclas e executar um comando no seu teclado use método:\n",
    "pyautogui.hotkey(\"ctrl\", \"t\") #Nesse caso será executado o comando referente ao atalho Ctrl+t"
   ]
  },
  {
   "cell_type": "code",
   "execution_count": 8,
   "id": "189fabc5",
   "metadata": {},
   "outputs": [],
   "source": [
    "#Para digitar algo usando o seu teclado use método:\n",
    "pyautogui.write(\"Esta mensagem será escrita\") #Nesse caso a string passada pelo método preencherá um campo\n",
    "#Podemos ainda passar um outro parametro que faz com que haja um intervalo definido na digitação de cada letra.\n",
    "pyautogui.write(\"Hello world\", interval = 0.5) #Define o intervalo de 0,5s entre cada tecla."
   ]
  },
  {
   "cell_type": "code",
   "execution_count": 9,
   "id": "ece817f1",
   "metadata": {},
   "outputs": [],
   "source": [
    "#Para manter uma tecla pressionada pode-se usar:\n",
    "pyautogui.hold(\"shift\") #nesse caso mantem a tecla Shift pressionada.\n",
    "#Usar o comando hold é similar à usar os comandos keyDown e keyUp.\n",
    "pyautogui.keyDown(\"shift\") #Pressiona a tecla Shift.\n",
    "#Aqui vem uma lista de comandos a serem executados com a tecla Shift pressionada.\n",
    "pyautogui.keyUp(\"shift\") #Solta a tecla Shift."
   ]
  },
  {
   "cell_type": "code",
   "execution_count": 10,
   "id": "1d8f4964",
   "metadata": {},
   "outputs": [
    {
     "data": {
      "text/plain": [
       "'Objeto o qual quer copiar.'"
      ]
     },
     "execution_count": 10,
     "metadata": {},
     "output_type": "execute_result"
    }
   ],
   "source": [
    "#Para evitar erros de sintax por conta de caracteres especiais, palavras reservadas e etc, podemos usar o método\n",
    "#abaixo para realizar copy&paste.\n",
    "pyperclip.copy(\"Objeto o qual quer copiar.\") #Copia o que foi passado como parametro.\n",
    "pyperclip.paste() #Cola o que foi copiado."
   ]
  },
  {
   "cell_type": "markdown",
   "id": "7cf1283e",
   "metadata": {},
   "source": [
    "<h4 style=\"color: green\">Para o mouse:</h4>"
   ]
  },
  {
   "cell_type": "code",
   "execution_count": 11,
   "id": "d26a94bf",
   "metadata": {},
   "outputs": [
    {
     "data": {
      "text/plain": [
       "Point(x=222, y=212)"
      ]
     },
     "execution_count": 11,
     "metadata": {},
     "output_type": "execute_result"
    }
   ],
   "source": [
    "#Para coletar a posição em que o mouse deve clicar, use o método abaixo:\n",
    "time.sleep(3) #Faz com que o código espere um tempo em segundos (3s nesse ex.), para executar as linhas abaixo.\n",
    "pyautogui.position() #Registra a posição em x e y do mouse no momento da execução da linha de comando."
   ]
  },
  {
   "cell_type": "code",
   "execution_count": 14,
   "id": "ac2879a2",
   "metadata": {},
   "outputs": [],
   "source": [
    "#Para clicar em determinada posição x,y use o método:\n",
    "#Caso não seja colocado nenhum parametro, o método abaixo click na exata posição em que o mouse se encontra.\n",
    "pyautogui.click(x=69, y=748, clicks = 1) #Aqui usamos o método acima para descobrir a posição correta para \n",
    "# realização do click e passamos o parametro clicks para indicar a quantidade de clicks desejada.\n",
    "pyautogui.click(x=79, y=436, clicks = 2)\n",
    "#Podemos usar outro método para realizar um duplo click, veja:\n",
    "time.sleep(2) #Pausa para que execute normalmente o comando acima antes de executar as linhas abaixo.\n",
    "pyautogui.click(x=69, y=748, clicks = 1)\n",
    "pyautogui.doubleClick(x=79, y=436)\n",
    "#Também podemos acrescentar outro parametro ao método, que é o intervalo entre cada click:\n",
    "time.sleep(2)\n",
    "pyautogui.click(x=69, y=748, clicks = 1)\n",
    "pyautogui.click(x=79, y=436, clicks = 2, interval = 0.25) #Intervalo de 0,25s entre cada click. Também funciona com \n",
    "#doubleClick, tripleClick... Para clicar com o botão direito do mouse, adicione o parametro: button = \"right\".\n",
    "#Ainda podemos passar uma string como parametro nesse método. Nesse caso, ele irá procurar, na tela, um objeto cujo\n",
    "#nome é o mesmo da string passada e então clicará.\n",
    "pyautogui.click(\"objeto.formato\")"
   ]
  },
  {
   "cell_type": "code",
   "execution_count": 15,
   "id": "1ebcb87e",
   "metadata": {},
   "outputs": [],
   "source": [
    "#Podemos fazer um scroll na tela usando:\n",
    "pyautogui.scroll(5, x = 500, y = 500) #Aqui o comando movo o mousa para a posição indicada por x,y e então realiza,\n",
    "#nesse caso, 5 rolagens para cima. Para fazer um total de 5 scrolldown, use -5 no lugar de 5."
   ]
  },
  {
   "cell_type": "code",
   "execution_count": 16,
   "id": "cb36d08c",
   "metadata": {},
   "outputs": [],
   "source": [
    "#Para scroll horizontal, use:\n",
    "pyautogui.hscroll(-5) #Para rolar para esquerda e 5 para rolar para direita."
   ]
  },
  {
   "cell_type": "code",
   "execution_count": 17,
   "id": "3dbc9891",
   "metadata": {},
   "outputs": [],
   "source": [
    "#Podemos também mover o mousa usando 2 outros comandos:\n",
    "pyautogui.move(100, -300, duration = 1.5) #Faz com que o mouse se mova 100px para a direita e 100px para cima.\n",
    "#Sim, nesse caso, para mover em y para cima é usado o sinal de menos (-), já para baixo usa-se o sinal de mais (+).\n",
    "time.sleep(2) #Somente para melhor visualização da execução de cada linha.\n",
    "pyautogui.moveTo(200, 500, duration = 1.5) #Já o método descrito nessa linha faz com que o mouse se mova na tela para a posição\n",
    "#indicada e com a duração determinada como parametro."
   ]
  },
  {
   "cell_type": "code",
   "execution_count": 20,
   "id": "de0eec97",
   "metadata": {},
   "outputs": [],
   "source": [
    "#Para arrastar item usando o mouse, podemos usar:\n",
    "pyautogui.dragTo(x = 300, y = 400, duration = 5, button = \"left\") #Faz com que o mouse se mova para a posição x,y\n",
    "#designada durante o tempo determminado e com o botão, nesse caso, esquerdo do mouse pressionado."
   ]
  },
  {
   "cell_type": "code",
   "execution_count": 21,
   "id": "e6c2174d",
   "metadata": {},
   "outputs": [],
   "source": [
    "#Também podemos usar o mouseDown e mouseUp para clicar. Nesse caso, mouseDown aperta o botão designado e mouse.Up\n",
    "#solta esse mesmo botão designado podendo se mover para determinada posição.\n",
    "pyautogui.mouseDown(button = \"left\")\n",
    "pyautogui.mouseUp(button = \"left\", x = 300, y = 400)\n",
    "#Com excessão da duração do movimento, o comando acima realiza o mesmo que a célula anterior."
   ]
  },
  {
   "cell_type": "markdown",
   "id": "c36d3c34",
   "metadata": {},
   "source": [
    "<h4 style=\"color: green\">Caixas de mensagens:</h4>"
   ]
  },
  {
   "cell_type": "code",
   "execution_count": 22,
   "id": "e17c820c",
   "metadata": {},
   "outputs": [
    {
     "data": {
      "text/plain": [
       "'OK'"
      ]
     },
     "execution_count": 22,
     "metadata": {},
     "output_type": "execute_result"
    }
   ],
   "source": [
    "#Para imprimir um alerta na tela, use o método:\n",
    "pyautogui.alert(\"Insira o seu texto aqui.\") #Até que seja clicado em OK, o alerta permanecerá na tela e\n",
    "#pausará a execução do código restante."
   ]
  },
  {
   "cell_type": "code",
   "execution_count": 23,
   "id": "abb2f301",
   "metadata": {},
   "outputs": [
    {
     "data": {
      "text/plain": [
       "'OK'"
      ]
     },
     "execution_count": 23,
     "metadata": {},
     "output_type": "execute_result"
    }
   ],
   "source": [
    "#Para imprimir um alerta na tela com a opção de cancelamento e continuação, use o método:\n",
    "pyautogui.confirm(\"Insira o seu texto aqui.\") #Até que seja clicado em OK, o alerta permanecerá na tela e\n",
    "#pausará a execução do código restante. Caso seja clicado em Cancel, a execução será cancelada."
   ]
  },
  {
   "cell_type": "code",
   "execution_count": 25,
   "id": "46f5c276",
   "metadata": {},
   "outputs": [
    {
     "ename": "TclError",
     "evalue": "bad screen distance \"4.5i\"",
     "output_type": "error",
     "traceback": [
      "\u001b[0;31m---------------------------------------------------------------------------\u001b[0m",
      "\u001b[0;31mTclError\u001b[0m                                  Traceback (most recent call last)",
      "\u001b[0;32m/tmp/ipykernel_10607/1741993964.py\u001b[0m in \u001b[0;36m<module>\u001b[0;34m\u001b[0m\n\u001b[1;32m      1\u001b[0m \u001b[0;31m#Caso seja necessário que o usuário entre com algum dado, ou digite alguma frase para verificação, pode-se usar:\u001b[0m\u001b[0;34m\u001b[0m\u001b[0;34m\u001b[0m\u001b[0m\n\u001b[0;32m----> 2\u001b[0;31m \u001b[0mpyautogui\u001b[0m\u001b[0;34m.\u001b[0m\u001b[0mprompt\u001b[0m\u001b[0;34m(\u001b[0m\u001b[0;34m\"Insira o seu texto aqui.\"\u001b[0m\u001b[0;34m)\u001b[0m\u001b[0;34m\u001b[0m\u001b[0;34m\u001b[0m\u001b[0m\n\u001b[0m\u001b[1;32m      3\u001b[0m \u001b[0;31m#Note que a execução está quebrada devido à dependencias. Isso deve ser resolvido logo pelo criadores da biblioteca.\u001b[0m\u001b[0;34m\u001b[0m\u001b[0;34m\u001b[0m\u001b[0m\n",
      "\u001b[0;32m~/anaconda3/lib/python3.9/site-packages/pymsgbox/__init__.py\u001b[0m in \u001b[0;36m_promptTkinter\u001b[0;34m(text, title, default, root, timeout)\u001b[0m\n\u001b[1;32m    144\u001b[0m     \u001b[0;32massert\u001b[0m \u001b[0mTKINTER_IMPORT_SUCCEEDED\u001b[0m\u001b[0;34m,\u001b[0m \u001b[0;34m\"Tkinter is required for pymsgbox\"\u001b[0m\u001b[0;34m\u001b[0m\u001b[0;34m\u001b[0m\u001b[0m\n\u001b[1;32m    145\u001b[0m     \u001b[0mtext\u001b[0m \u001b[0;34m=\u001b[0m \u001b[0mstr\u001b[0m\u001b[0;34m(\u001b[0m\u001b[0mtext\u001b[0m\u001b[0;34m)\u001b[0m\u001b[0;34m\u001b[0m\u001b[0;34m\u001b[0m\u001b[0m\n\u001b[0;32m--> 146\u001b[0;31m     return __fillablebox(\n\u001b[0m\u001b[1;32m    147\u001b[0m         \u001b[0mtext\u001b[0m\u001b[0;34m,\u001b[0m \u001b[0mtitle\u001b[0m\u001b[0;34m,\u001b[0m \u001b[0mdefault\u001b[0m\u001b[0;34m=\u001b[0m\u001b[0mdefault\u001b[0m\u001b[0;34m,\u001b[0m \u001b[0mmask\u001b[0m\u001b[0;34m=\u001b[0m\u001b[0;32mNone\u001b[0m\u001b[0;34m,\u001b[0m \u001b[0mroot\u001b[0m\u001b[0;34m=\u001b[0m\u001b[0mroot\u001b[0m\u001b[0;34m,\u001b[0m \u001b[0mtimeout\u001b[0m\u001b[0;34m=\u001b[0m\u001b[0mtimeout\u001b[0m\u001b[0;34m\u001b[0m\u001b[0;34m\u001b[0m\u001b[0m\n\u001b[1;32m    148\u001b[0m     )\n",
      "\u001b[0;32m~/anaconda3/lib/python3.9/site-packages/pymsgbox/__init__.py\u001b[0m in \u001b[0;36m__fillablebox\u001b[0;34m(msg, title, default, mask, root, timeout)\u001b[0m\n\u001b[1;32m    360\u001b[0m \u001b[0;34m\u001b[0m\u001b[0m\n\u001b[1;32m    361\u001b[0m     \u001b[0;31m# -------------------- the msg widget ----------------------------\u001b[0m\u001b[0;34m\u001b[0m\u001b[0;34m\u001b[0m\u001b[0m\n\u001b[0;32m--> 362\u001b[0;31m     \u001b[0mmessageWidget\u001b[0m \u001b[0;34m=\u001b[0m \u001b[0mtk\u001b[0m\u001b[0;34m.\u001b[0m\u001b[0mMessage\u001b[0m\u001b[0;34m(\u001b[0m\u001b[0mmessageFrame\u001b[0m\u001b[0;34m,\u001b[0m \u001b[0mwidth\u001b[0m\u001b[0;34m=\u001b[0m\u001b[0;34m\"4.5i\"\u001b[0m\u001b[0;34m,\u001b[0m \u001b[0mtext\u001b[0m\u001b[0;34m=\u001b[0m\u001b[0mmsg\u001b[0m\u001b[0;34m)\u001b[0m\u001b[0;34m\u001b[0m\u001b[0;34m\u001b[0m\u001b[0m\n\u001b[0m\u001b[1;32m    363\u001b[0m     \u001b[0mmessageWidget\u001b[0m\u001b[0;34m.\u001b[0m\u001b[0mconfigure\u001b[0m\u001b[0;34m(\u001b[0m\u001b[0mfont\u001b[0m\u001b[0;34m=\u001b[0m\u001b[0;34m(\u001b[0m\u001b[0mPROPORTIONAL_FONT_FAMILY\u001b[0m\u001b[0;34m,\u001b[0m \u001b[0mPROPORTIONAL_FONT_SIZE\u001b[0m\u001b[0;34m)\u001b[0m\u001b[0;34m)\u001b[0m\u001b[0;34m\u001b[0m\u001b[0;34m\u001b[0m\u001b[0m\n\u001b[1;32m    364\u001b[0m     \u001b[0mmessageWidget\u001b[0m\u001b[0;34m.\u001b[0m\u001b[0mpack\u001b[0m\u001b[0;34m(\u001b[0m\u001b[0mside\u001b[0m\u001b[0;34m=\u001b[0m\u001b[0mtk\u001b[0m\u001b[0;34m.\u001b[0m\u001b[0mRIGHT\u001b[0m\u001b[0;34m,\u001b[0m \u001b[0mexpand\u001b[0m\u001b[0;34m=\u001b[0m\u001b[0;36m1\u001b[0m\u001b[0;34m,\u001b[0m \u001b[0mfill\u001b[0m\u001b[0;34m=\u001b[0m\u001b[0mtk\u001b[0m\u001b[0;34m.\u001b[0m\u001b[0mBOTH\u001b[0m\u001b[0;34m,\u001b[0m \u001b[0mpadx\u001b[0m\u001b[0;34m=\u001b[0m\u001b[0;34m\"3m\"\u001b[0m\u001b[0;34m,\u001b[0m \u001b[0mpady\u001b[0m\u001b[0;34m=\u001b[0m\u001b[0;34m\"3m\"\u001b[0m\u001b[0;34m)\u001b[0m\u001b[0;34m\u001b[0m\u001b[0;34m\u001b[0m\u001b[0m\n",
      "\u001b[0;32m~/anaconda3/lib/python3.9/tkinter/__init__.py\u001b[0m in \u001b[0;36m__init__\u001b[0;34m(self, master, cnf, **kw)\u001b[0m\n\u001b[1;32m   3406\u001b[0m \u001b[0;34m\u001b[0m\u001b[0m\n\u001b[1;32m   3407\u001b[0m     \u001b[0;32mdef\u001b[0m \u001b[0m__init__\u001b[0m\u001b[0;34m(\u001b[0m\u001b[0mself\u001b[0m\u001b[0;34m,\u001b[0m \u001b[0mmaster\u001b[0m\u001b[0;34m=\u001b[0m\u001b[0;32mNone\u001b[0m\u001b[0;34m,\u001b[0m \u001b[0mcnf\u001b[0m\u001b[0;34m=\u001b[0m\u001b[0;34m{\u001b[0m\u001b[0;34m}\u001b[0m\u001b[0;34m,\u001b[0m \u001b[0;34m**\u001b[0m\u001b[0mkw\u001b[0m\u001b[0;34m)\u001b[0m\u001b[0;34m:\u001b[0m\u001b[0;34m\u001b[0m\u001b[0;34m\u001b[0m\u001b[0m\n\u001b[0;32m-> 3408\u001b[0;31m         \u001b[0mWidget\u001b[0m\u001b[0;34m.\u001b[0m\u001b[0m__init__\u001b[0m\u001b[0;34m(\u001b[0m\u001b[0mself\u001b[0m\u001b[0;34m,\u001b[0m \u001b[0mmaster\u001b[0m\u001b[0;34m,\u001b[0m \u001b[0;34m'message'\u001b[0m\u001b[0;34m,\u001b[0m \u001b[0mcnf\u001b[0m\u001b[0;34m,\u001b[0m \u001b[0mkw\u001b[0m\u001b[0;34m)\u001b[0m\u001b[0;34m\u001b[0m\u001b[0;34m\u001b[0m\u001b[0m\n\u001b[0m\u001b[1;32m   3409\u001b[0m \u001b[0;34m\u001b[0m\u001b[0m\n\u001b[1;32m   3410\u001b[0m \u001b[0;34m\u001b[0m\u001b[0m\n",
      "\u001b[0;32m~/anaconda3/lib/python3.9/tkinter/__init__.py\u001b[0m in \u001b[0;36m__init__\u001b[0;34m(self, master, widgetName, cnf, kw, extra)\u001b[0m\n\u001b[1;32m   2570\u001b[0m         \u001b[0;32mfor\u001b[0m \u001b[0mk\u001b[0m\u001b[0;34m,\u001b[0m \u001b[0mv\u001b[0m \u001b[0;32min\u001b[0m \u001b[0mclasses\u001b[0m\u001b[0;34m:\u001b[0m\u001b[0;34m\u001b[0m\u001b[0;34m\u001b[0m\u001b[0m\n\u001b[1;32m   2571\u001b[0m             \u001b[0;32mdel\u001b[0m \u001b[0mcnf\u001b[0m\u001b[0;34m[\u001b[0m\u001b[0mk\u001b[0m\u001b[0;34m]\u001b[0m\u001b[0;34m\u001b[0m\u001b[0;34m\u001b[0m\u001b[0m\n\u001b[0;32m-> 2572\u001b[0;31m         self.tk.call(\n\u001b[0m\u001b[1;32m   2573\u001b[0m             (widgetName, self._w) + extra + self._options(cnf))\n\u001b[1;32m   2574\u001b[0m         \u001b[0;32mfor\u001b[0m \u001b[0mk\u001b[0m\u001b[0;34m,\u001b[0m \u001b[0mv\u001b[0m \u001b[0;32min\u001b[0m \u001b[0mclasses\u001b[0m\u001b[0;34m:\u001b[0m\u001b[0;34m\u001b[0m\u001b[0;34m\u001b[0m\u001b[0m\n",
      "\u001b[0;31mTclError\u001b[0m: bad screen distance \"4.5i\""
     ]
    }
   ],
   "source": [
    "#Caso seja necessário que o usuário entre com algum dado, ou digite alguma frase para verificação, pode-se usar:\n",
    "pyautogui.prompt(\"Insira o seu texto aqui.\")\n",
    "#Note que a execução está quebrada devido à dependencias. Isso deve ser resolvido logo pelo criadores da biblioteca."
   ]
  },
  {
   "cell_type": "code",
   "execution_count": 26,
   "id": "c7166629",
   "metadata": {},
   "outputs": [
    {
     "ename": "TclError",
     "evalue": "bad screen distance \"4.5i\"",
     "output_type": "error",
     "traceback": [
      "\u001b[0;31m---------------------------------------------------------------------------\u001b[0m",
      "\u001b[0;31mTclError\u001b[0m                                  Traceback (most recent call last)",
      "\u001b[0;32m/tmp/ipykernel_10607/3421103305.py\u001b[0m in \u001b[0;36m<module>\u001b[0;34m\u001b[0m\n\u001b[1;32m      1\u001b[0m \u001b[0;31m#Quando precisar soliciatar uma senha do usuário, use o código:\u001b[0m\u001b[0;34m\u001b[0m\u001b[0;34m\u001b[0m\u001b[0m\n\u001b[0;32m----> 2\u001b[0;31m \u001b[0mpyautogui\u001b[0m\u001b[0;34m.\u001b[0m\u001b[0mpassword\u001b[0m\u001b[0;34m(\u001b[0m\u001b[0;34m\"Qual sua senha?\"\u001b[0m\u001b[0;34m)\u001b[0m\u001b[0;34m\u001b[0m\u001b[0;34m\u001b[0m\u001b[0m\n\u001b[0m\u001b[1;32m      3\u001b[0m \u001b[0;31m#Note que a execução está quebrada devido à dependencias. Isso deve ser resolvido logo pelo criadores da biblioteca.\u001b[0m\u001b[0;34m\u001b[0m\u001b[0;34m\u001b[0m\u001b[0m\n",
      "\u001b[0;32m~/anaconda3/lib/python3.9/site-packages/pymsgbox/__init__.py\u001b[0m in \u001b[0;36m_passwordTkinter\u001b[0;34m(text, title, default, mask, root, timeout)\u001b[0m\n\u001b[1;32m    156\u001b[0m     \u001b[0;32massert\u001b[0m \u001b[0mTKINTER_IMPORT_SUCCEEDED\u001b[0m\u001b[0;34m,\u001b[0m \u001b[0;34m\"Tkinter is required for pymsgbox\"\u001b[0m\u001b[0;34m\u001b[0m\u001b[0;34m\u001b[0m\u001b[0m\n\u001b[1;32m    157\u001b[0m     \u001b[0mtext\u001b[0m \u001b[0;34m=\u001b[0m \u001b[0mstr\u001b[0m\u001b[0;34m(\u001b[0m\u001b[0mtext\u001b[0m\u001b[0;34m)\u001b[0m\u001b[0;34m\u001b[0m\u001b[0;34m\u001b[0m\u001b[0m\n\u001b[0;32m--> 158\u001b[0;31m     \u001b[0;32mreturn\u001b[0m \u001b[0m__fillablebox\u001b[0m\u001b[0;34m(\u001b[0m\u001b[0mtext\u001b[0m\u001b[0;34m,\u001b[0m \u001b[0mtitle\u001b[0m\u001b[0;34m,\u001b[0m \u001b[0mdefault\u001b[0m\u001b[0;34m,\u001b[0m \u001b[0mmask\u001b[0m\u001b[0;34m=\u001b[0m\u001b[0mmask\u001b[0m\u001b[0;34m,\u001b[0m \u001b[0mroot\u001b[0m\u001b[0;34m=\u001b[0m\u001b[0mroot\u001b[0m\u001b[0;34m,\u001b[0m \u001b[0mtimeout\u001b[0m\u001b[0;34m=\u001b[0m\u001b[0mtimeout\u001b[0m\u001b[0;34m)\u001b[0m\u001b[0;34m\u001b[0m\u001b[0;34m\u001b[0m\u001b[0m\n\u001b[0m\u001b[1;32m    159\u001b[0m \u001b[0;34m\u001b[0m\u001b[0m\n\u001b[1;32m    160\u001b[0m \u001b[0;34m\u001b[0m\u001b[0m\n",
      "\u001b[0;32m~/anaconda3/lib/python3.9/site-packages/pymsgbox/__init__.py\u001b[0m in \u001b[0;36m__fillablebox\u001b[0;34m(msg, title, default, mask, root, timeout)\u001b[0m\n\u001b[1;32m    360\u001b[0m \u001b[0;34m\u001b[0m\u001b[0m\n\u001b[1;32m    361\u001b[0m     \u001b[0;31m# -------------------- the msg widget ----------------------------\u001b[0m\u001b[0;34m\u001b[0m\u001b[0;34m\u001b[0m\u001b[0m\n\u001b[0;32m--> 362\u001b[0;31m     \u001b[0mmessageWidget\u001b[0m \u001b[0;34m=\u001b[0m \u001b[0mtk\u001b[0m\u001b[0;34m.\u001b[0m\u001b[0mMessage\u001b[0m\u001b[0;34m(\u001b[0m\u001b[0mmessageFrame\u001b[0m\u001b[0;34m,\u001b[0m \u001b[0mwidth\u001b[0m\u001b[0;34m=\u001b[0m\u001b[0;34m\"4.5i\"\u001b[0m\u001b[0;34m,\u001b[0m \u001b[0mtext\u001b[0m\u001b[0;34m=\u001b[0m\u001b[0mmsg\u001b[0m\u001b[0;34m)\u001b[0m\u001b[0;34m\u001b[0m\u001b[0;34m\u001b[0m\u001b[0m\n\u001b[0m\u001b[1;32m    363\u001b[0m     \u001b[0mmessageWidget\u001b[0m\u001b[0;34m.\u001b[0m\u001b[0mconfigure\u001b[0m\u001b[0;34m(\u001b[0m\u001b[0mfont\u001b[0m\u001b[0;34m=\u001b[0m\u001b[0;34m(\u001b[0m\u001b[0mPROPORTIONAL_FONT_FAMILY\u001b[0m\u001b[0;34m,\u001b[0m \u001b[0mPROPORTIONAL_FONT_SIZE\u001b[0m\u001b[0;34m)\u001b[0m\u001b[0;34m)\u001b[0m\u001b[0;34m\u001b[0m\u001b[0;34m\u001b[0m\u001b[0m\n\u001b[1;32m    364\u001b[0m     \u001b[0mmessageWidget\u001b[0m\u001b[0;34m.\u001b[0m\u001b[0mpack\u001b[0m\u001b[0;34m(\u001b[0m\u001b[0mside\u001b[0m\u001b[0;34m=\u001b[0m\u001b[0mtk\u001b[0m\u001b[0;34m.\u001b[0m\u001b[0mRIGHT\u001b[0m\u001b[0;34m,\u001b[0m \u001b[0mexpand\u001b[0m\u001b[0;34m=\u001b[0m\u001b[0;36m1\u001b[0m\u001b[0;34m,\u001b[0m \u001b[0mfill\u001b[0m\u001b[0;34m=\u001b[0m\u001b[0mtk\u001b[0m\u001b[0;34m.\u001b[0m\u001b[0mBOTH\u001b[0m\u001b[0;34m,\u001b[0m \u001b[0mpadx\u001b[0m\u001b[0;34m=\u001b[0m\u001b[0;34m\"3m\"\u001b[0m\u001b[0;34m,\u001b[0m \u001b[0mpady\u001b[0m\u001b[0;34m=\u001b[0m\u001b[0;34m\"3m\"\u001b[0m\u001b[0;34m)\u001b[0m\u001b[0;34m\u001b[0m\u001b[0;34m\u001b[0m\u001b[0m\n",
      "\u001b[0;32m~/anaconda3/lib/python3.9/tkinter/__init__.py\u001b[0m in \u001b[0;36m__init__\u001b[0;34m(self, master, cnf, **kw)\u001b[0m\n\u001b[1;32m   3406\u001b[0m \u001b[0;34m\u001b[0m\u001b[0m\n\u001b[1;32m   3407\u001b[0m     \u001b[0;32mdef\u001b[0m \u001b[0m__init__\u001b[0m\u001b[0;34m(\u001b[0m\u001b[0mself\u001b[0m\u001b[0;34m,\u001b[0m \u001b[0mmaster\u001b[0m\u001b[0;34m=\u001b[0m\u001b[0;32mNone\u001b[0m\u001b[0;34m,\u001b[0m \u001b[0mcnf\u001b[0m\u001b[0;34m=\u001b[0m\u001b[0;34m{\u001b[0m\u001b[0;34m}\u001b[0m\u001b[0;34m,\u001b[0m \u001b[0;34m**\u001b[0m\u001b[0mkw\u001b[0m\u001b[0;34m)\u001b[0m\u001b[0;34m:\u001b[0m\u001b[0;34m\u001b[0m\u001b[0;34m\u001b[0m\u001b[0m\n\u001b[0;32m-> 3408\u001b[0;31m         \u001b[0mWidget\u001b[0m\u001b[0;34m.\u001b[0m\u001b[0m__init__\u001b[0m\u001b[0;34m(\u001b[0m\u001b[0mself\u001b[0m\u001b[0;34m,\u001b[0m \u001b[0mmaster\u001b[0m\u001b[0;34m,\u001b[0m \u001b[0;34m'message'\u001b[0m\u001b[0;34m,\u001b[0m \u001b[0mcnf\u001b[0m\u001b[0;34m,\u001b[0m \u001b[0mkw\u001b[0m\u001b[0;34m)\u001b[0m\u001b[0;34m\u001b[0m\u001b[0;34m\u001b[0m\u001b[0m\n\u001b[0m\u001b[1;32m   3409\u001b[0m \u001b[0;34m\u001b[0m\u001b[0m\n\u001b[1;32m   3410\u001b[0m \u001b[0;34m\u001b[0m\u001b[0m\n",
      "\u001b[0;32m~/anaconda3/lib/python3.9/tkinter/__init__.py\u001b[0m in \u001b[0;36m__init__\u001b[0;34m(self, master, widgetName, cnf, kw, extra)\u001b[0m\n\u001b[1;32m   2570\u001b[0m         \u001b[0;32mfor\u001b[0m \u001b[0mk\u001b[0m\u001b[0;34m,\u001b[0m \u001b[0mv\u001b[0m \u001b[0;32min\u001b[0m \u001b[0mclasses\u001b[0m\u001b[0;34m:\u001b[0m\u001b[0;34m\u001b[0m\u001b[0;34m\u001b[0m\u001b[0m\n\u001b[1;32m   2571\u001b[0m             \u001b[0;32mdel\u001b[0m \u001b[0mcnf\u001b[0m\u001b[0;34m[\u001b[0m\u001b[0mk\u001b[0m\u001b[0;34m]\u001b[0m\u001b[0;34m\u001b[0m\u001b[0;34m\u001b[0m\u001b[0m\n\u001b[0;32m-> 2572\u001b[0;31m         self.tk.call(\n\u001b[0m\u001b[1;32m   2573\u001b[0m             (widgetName, self._w) + extra + self._options(cnf))\n\u001b[1;32m   2574\u001b[0m         \u001b[0;32mfor\u001b[0m \u001b[0mk\u001b[0m\u001b[0;34m,\u001b[0m \u001b[0mv\u001b[0m \u001b[0;32min\u001b[0m \u001b[0mclasses\u001b[0m\u001b[0;34m:\u001b[0m\u001b[0;34m\u001b[0m\u001b[0;34m\u001b[0m\u001b[0m\n",
      "\u001b[0;31mTclError\u001b[0m: bad screen distance \"4.5i\""
     ]
    }
   ],
   "source": [
    "#Quando precisar soliciatar uma senha do usuário, use o código:\n",
    "pyautogui.password(\"Qual sua senha?\")\n",
    "#Note que a execução está quebrada devido à dependencias. Isso deve ser resolvido logo pelo criadores da biblioteca."
   ]
  },
  {
   "cell_type": "markdown",
   "id": "cb3e8af0",
   "metadata": {},
   "source": [
    "<h4 style=\"color: green\">ScreenShots:</h4>"
   ]
  },
  {
   "cell_type": "code",
   "execution_count": 27,
   "id": "9c435420",
   "metadata": {},
   "outputs": [],
   "source": [
    "#Se deseja tirar um \"print\" (screenshot), o método usado é:\n",
    "pyautogui.screenshot() #Esse método retorna apenas um objeto de imagem, para salvar o screenshot use:\n",
    "pyautogui.screenshot(\"nome_do_arquivo.png\")"
   ]
  },
  {
   "cell_type": "code",
   "execution_count": 28,
   "id": "a68920e2",
   "metadata": {},
   "outputs": [
    {
     "data": {
      "image/png": "[encoded data removed]",
      "text/plain": [
       "<PIL.Image.Image image mode=RGB size=100x100 at 0x7FDC37857730>"
      ]
     },
     "execution_count": 28,
     "metadata": {},
     "output_type": "execute_result"
    }
   ],
   "source": [
    "#Para tirar um screenshot de apenas uma parte da tela:\n",
    "pyautogui.screenshot(\"nome.png\", region=(0, 0, 100, 100))"
   ]
  },
  {
   "cell_type": "markdown",
   "id": "672c6e1b",
   "metadata": {},
   "source": [
    "<h3 style=\"color: blue\">Os métodos apresentados acima já dão uma boa base para o processo de automação de processos usando Python. Abaixo veremos outras ferramentas, na prática, que possibilitam a apliação de futuros projetos de automação possíveis.</h3>"
   ]
  },
  {
   "cell_type": "markdown",
   "id": "0638f47d",
   "metadata": {},
   "source": [
    "<h3 style=\"color: green\">Projeto 1 - Automatizando envio de e-mails.</h3>"
   ]
  },
  {
   "cell_type": "code",
   "execution_count": null,
   "id": "aba6f175",
   "metadata": {},
   "outputs": [],
   "source": []
  },
  {
   "cell_type": "markdown",
   "id": "36c53c15",
   "metadata": {},
   "source": [
    "<h3 style=\"color: yellow\"> Aqui vem um bloco de Análise de Dados...</h3>"
   ]
  }
 ],
 "metadata": {
  "kernelspec": {
   "display_name": "Python 3 (ipykernel)",
   "language": "python",
   "name": "python3"
  },
  "language_info": {
   "codemirror_mode": {
    "name": "ipython",
    "version": 3
   },
   "file_extension": ".py",
   "mimetype": "text/x-python",
   "name": "python",
   "nbconvert_exporter": "python",
   "pygments_lexer": "ipython3",
   "version": "3.9.7"
  }
 },
 "nbformat": 4,
 "nbformat_minor": 5
}
