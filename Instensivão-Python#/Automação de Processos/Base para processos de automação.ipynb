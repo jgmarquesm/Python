{
 "cells": [
  {
   "cell_type": "markdown",
   "id": "9702f113",
   "metadata": {},
   "source": [
    "<h1 style=\"color: red\"> Projeto Automação de processos - Python</h1>"
   ]
  },
  {
   "cell_type": "markdown",
   "id": "bb500aea",
   "metadata": {},
   "source": [
    "<h3 style=\"color: blue\">Primeiro passo: Importar bibliotecas necessárias (pyautogui, pyperclip, time, pandas...)"
   ]
  },
  {
   "cell_type": "code",
   "execution_count": null,
   "id": "dfb872eb",
   "metadata": {
    "scrolled": true
   },
   "outputs": [],
   "source": [
    "!pip install pyautogui\n",
    "!pip install pyperclip\n",
    "!pip install pymsgbox"
   ]
  },
  {
   "cell_type": "code",
   "execution_count": null,
   "id": "06603724",
   "metadata": {},
   "outputs": [],
   "source": [
    "import pyautogui\n",
    "import pyperclip\n",
    "import pymsgbox\n",
    "import time\n",
    "import pandas as pd\n",
    "\n",
    "pyautogui.PAUSE = 1 #Faz com que haja uma pausa de 1s entre a execuação das linhas de código do pyautogui "
   ]
  },
  {
   "cell_type": "markdown",
   "id": "e3928184",
   "metadata": {},
   "source": [
    "<h3 style=\"color: blue\">Alguns comandos usados</h3>"
   ]
  },
  {
   "cell_type": "markdown",
   "id": "a61d41ce",
   "metadata": {},
   "source": [
    "<h4 style=\"color: green\">Para o teclado:</h4>"
   ]
  },
  {
   "cell_type": "code",
   "execution_count": null,
   "id": "c38d565f",
   "metadata": {},
   "outputs": [],
   "source": [
    "#Caso seja necessário, pode-se obter a resolução da tela usando:\n",
    "pyautogui.size()"
   ]
  },
  {
   "cell_type": "code",
   "execution_count": null,
   "id": "c70019d7",
   "metadata": {},
   "outputs": [],
   "source": [
    "#Para pressionar alguma tecla do seu teclado use o método:\n",
    "pyautogui.press(\"enter\") #Enter é a tecla que será pressionada.\n",
    "#Esse método pode ser usado passando mais de um parametro e a execução será executa em sequência, \n",
    "#conforme foi inserido, veja:\n",
    "pyautogui.press([\"enter\", \"left\", \"p\"]) #Pressiona a tepcla enter, depois tecla da seta esquerda e depois a tecla p."
   ]
  },
  {
   "cell_type": "code",
   "execution_count": null,
   "id": "77f4aa4a",
   "metadata": {},
   "outputs": [],
   "source": [
    "#Para pressionar um conjunto de teclas e executar um comando no seu teclado use método:\n",
    "pyautogui.hotkey(\"ctrl\", \"t\") #Nesse caso será executado o comando referente ao atalho Ctrl+t"
   ]
  },
  {
   "cell_type": "code",
   "execution_count": null,
   "id": "189fabc5",
   "metadata": {},
   "outputs": [],
   "source": [
    "#Para digitar algo usando o seu teclado use método:\n",
    "pyautogui.write(\"Esta mensagem será escrita\") #Nesse caso a string passada pelo método preencherá um campo\n",
    "#Podemos ainda passar um outro parametro que faz com que haja um intervalo definido na digitação de cada letra.\n",
    "pyautogui.write(\"Hello world\", interval = 0.5) #Define o intervalo de 0,5s entre cada tecla."
   ]
  },
  {
   "cell_type": "code",
   "execution_count": null,
   "id": "ece817f1",
   "metadata": {},
   "outputs": [],
   "source": [
    "#Para manter uma tecla pressionada pode-se usar:\n",
    "pyautogui.hold(\"shift\") #nesse caso mantem a tecla Shift pressionada.\n",
    "#Usar o comando hold é similar à usar os comandos keyDown e keyUp.\n",
    "pyautogui.keyDown(\"shift\") #Pressiona a tecla Shift.\n",
    "#Aqui vem uma lista de comandos a serem executados com a tecla Shift pressionada.\n",
    "pyautogui.keyUp(\"shift\") #Solta a tecla Shift."
   ]
  },
  {
   "cell_type": "code",
   "execution_count": null,
   "id": "1d8f4964",
   "metadata": {},
   "outputs": [],
   "source": [
    "#Para evitar erros de sintax por conta de caracteres especiais, palavras reservadas e etc, podemos usar o método\n",
    "#abaixo para realizar copy&paste.\n",
    "pyperclip.copy(\"Objeto o qualquer copiar.\") #Copia o que foi passado como parametro.\n",
    "pyperclip.paste() #Cola o que foi copiado."
   ]
  },
  {
   "cell_type": "markdown",
   "id": "7cf1283e",
   "metadata": {},
   "source": [
    "<h4 style=\"color: green\">Para o mouse:</h4>"
   ]
  },
  {
   "cell_type": "code",
   "execution_count": null,
   "id": "d26a94bf",
   "metadata": {},
   "outputs": [],
   "source": [
    "#Para coletar a posição em que o mouse deve clicar, use o método abaixo:\n",
    "time.sleep(3) #Faz com que o código espere um tempo em segundos (3s nesse ex.), para executar as linhas abaixo.\n",
    "pyautogui.position() #Registra a posição em x e y do mouse no momento da execução da linha de comando."
   ]
  },
  {
   "cell_type": "code",
   "execution_count": null,
   "id": "ac2879a2",
   "metadata": {},
   "outputs": [],
   "source": [
    "#Para clicar em determinada posição x,y use o método:\n",
    "#Caso não seja colocado nenhum parametro, o método abaixo click na exata posição em que o mouse se encontra.\n",
    "pyautogui.click(x = 69, y = 748, clicks = 1) #Aqui usamos o método acima para descobrir a posição correta para \n",
    "# realização do click e passamos o parametro clicks para indicar a quantidade de clicks desejada.\n",
    "pyautogui.click(x = 79, y=436, clicks = 2)\n",
    "#Podemos usar outro método para realizar um duplo click, veja:\n",
    "time.sleep(2) #Pausa para que execute normalmente o comando acima antes de executar as linhas abaixo.\n",
    "pyautogui.click(x = 69, y = 748, clicks = 1)\n",
    "pyautogui.doubleClick(x = 79, y = 436)\n",
    "#Também podemos acrescentar outro parametro ao método, que é o intervalo entre cada click:\n",
    "time.sleep(2)\n",
    "pyautogui.click(x = 69, y = 748, clicks = 1)\n",
    "pyautogui.click(x = 79, y = 436, clicks = 2, interval = 0.25) #Intervalo de 0,25s entre cada click. Também funciona com \n",
    "#doubleClick, tripleClick... Para clicar com o botão direito do mouse, adicione o parametro: button = \"right\".\n",
    "#Ainda podemos passar uma string como parametro nesse método. Nesse caso, ele irá procurar, na tela, um objeto cujo\n",
    "#nome é o mesmo da string passada e então clicará.\n",
    "#pyautogui.click(\"objeto.formato\")"
   ]
  },
  {
   "cell_type": "code",
   "execution_count": null,
   "id": "1ebcb87e",
   "metadata": {},
   "outputs": [],
   "source": [
    "#Podemos fazer um scroll na tela usando:\n",
    "pyautogui.scroll(5, x = 500, y = 500) #Aqui o comando movo o mousa para a posição indicada por x,y e então realiza,\n",
    "#nesse caso, 5 rolagens para cima. Para fazer um total de 5 scrolldown, use -5 no lugar de 5."
   ]
  },
  {
   "cell_type": "code",
   "execution_count": null,
   "id": "cb36d08c",
   "metadata": {},
   "outputs": [],
   "source": [
    "#Para scroll horizontal, use:\n",
    "pyautogui.hscroll(-5) #Para rolar para esquerda e 5 para rolar para direita."
   ]
  },
  {
   "cell_type": "code",
   "execution_count": null,
   "id": "3dbc9891",
   "metadata": {},
   "outputs": [],
   "source": [
    "#Podemos também mover o mousa usando 2 outros comandos:\n",
    "pyautogui.move(100, -300, duration = 1.5) #Faz com que o mouse se mova 100px para a direita e 100px para cima.\n",
    "#Sim, nesse caso, para mover em y para cima é usado o sinal de menos (-), já para baixo usa-se o sinal de mais (+).\n",
    "time.sleep(2) #Somente para melhor visualização da execução de cada linha.\n",
    "pyautogui.moveTo(200, 500, duration = 1.5) #Já o método descrito nessa linha faz com que o mouse se mova na tela para a posição\n",
    "#indicada e com a duração determinada como parametro."
   ]
  },
  {
   "cell_type": "code",
   "execution_count": null,
   "id": "de0eec97",
   "metadata": {},
   "outputs": [],
   "source": [
    "#Para arrastar item usando o mouse, podemos usar:\n",
    "pyautogui.dragTo(x = 300, y = 400, duration = 5, button = \"left\") #Faz com que o mouse se mova para a posição x,y\n",
    "#designada durante o tempo determminado e com o botão, nesse caso, esquerdo do mouse pressionado."
   ]
  },
  {
   "cell_type": "code",
   "execution_count": null,
   "id": "e6c2174d",
   "metadata": {},
   "outputs": [],
   "source": [
    "#Também podemos usar o mouseDown e mouseUp para clicar. Nesse caso, mouseDown aperta o botão designado e mouse.Up\n",
    "#solta esse mesmo botão designado podendo se mover para determinada posição.\n",
    "pyautogui.mouseDown(button = \"left\")\n",
    "pyautogui.mouseUp(button = \"left\", x = 300, y = 400)\n",
    "#Com excessão da duração do movimento, o comando acima realiza o mesmo que a célula anterior."
   ]
  },
  {
   "cell_type": "markdown",
   "id": "c36d3c34",
   "metadata": {},
   "source": [
    "<h4 style=\"color: green\">Caixas de mensagens:</h4>"
   ]
  },
  {
   "cell_type": "code",
   "execution_count": null,
   "id": "e17c820c",
   "metadata": {},
   "outputs": [],
   "source": [
    "#Para imprimir um alerta na tela, use o método:\n",
    "pyautogui.alert(\"Insira o seu texto aqui.\") #Até que seja clicado em OK, o alerta permanecerá na tela e\n",
    "#pausará a execução do código restante."
   ]
  },
  {
   "cell_type": "code",
   "execution_count": null,
   "id": "abb2f301",
   "metadata": {},
   "outputs": [],
   "source": [
    "#Para imprimir um alerta na tela com a opção de cancelamento e continuação, use o método:\n",
    "pyautogui.confirm(\"Insira o seu texto aqui.\") #Até que seja clicado em OK, o alerta permanecerá na tela e\n",
    "#pausará a execução do código restante. Caso seja clicado em Cancel, a execução será cancelada."
   ]
  },
  {
   "cell_type": "code",
   "execution_count": null,
   "id": "46f5c276",
   "metadata": {},
   "outputs": [],
   "source": [
    "#Caso seja necessário que o usuário entre com algum dado, ou digite alguma frase para verificação, pode-se usar:\n",
    "pyautogui.prompt(\"Insira o seu texto aqui.\")\n",
    "#Note que a execução está quebrada devido à dependencias. Isso deve ser resolvido logo pelo criadores da biblioteca."
   ]
  },
  {
   "cell_type": "code",
   "execution_count": null,
   "id": "c7166629",
   "metadata": {},
   "outputs": [],
   "source": [
    "#Quando precisar soliciatar uma senha do usuário, use o código:\n",
    "pyautogui.password(\"Qual sua senha?\")\n",
    "#Note que a execução está quebrada devido à dependencias. Isso deve ser resolvido logo pelo criadores da biblioteca."
   ]
  },
  {
   "cell_type": "markdown",
   "id": "cb3e8af0",
   "metadata": {},
   "source": [
    "<h4 style=\"color: green\">ScreenShots:</h4>"
   ]
  },
  {
   "cell_type": "code",
   "execution_count": null,
   "id": "9c435420",
   "metadata": {},
   "outputs": [],
   "source": [
    "#Se deseja tirar um \"print\" (screenshot), o método usado é:\n",
    "pyautogui.screenshot() #Esse método retorna apenas um objeto de imagem, para salvar o screenshot use:\n",
    "pyautogui.screenshot(\"nome_do_arquivo1.png\")"
   ]
  },
  {
   "cell_type": "code",
   "execution_count": null,
   "id": "a68920e2",
   "metadata": {},
   "outputs": [],
   "source": [
    "#Para tirar um screenshot de apenas uma parte da tela:\n",
    "pyautogui.screenshot(\"nome.png\", region=(0, 0, 100, 100))"
   ]
  },
  {
   "cell_type": "markdown",
   "id": "672c6e1b",
   "metadata": {},
   "source": [
    "<h3 style=\"color: blue\">Os métodos apresentados acima já dão uma boa base para o processo de automação de processos usando Python. Abaixo veremos outras ferramentas, na prática, que possibilitam a apliação de futuros projetos de automação possíveis.</h3>"
   ]
  },
  {
   "cell_type": "code",
   "execution_count": null,
   "id": "aba6f175",
   "metadata": {},
   "outputs": [],
   "source": []
  },
  {
   "cell_type": "markdown",
   "id": "36c53c15",
   "metadata": {},
   "source": [
    "<h3 style=\"color: yellow\"> Aqui vem um bloco de Análise de Dados...</h3>"
   ]
  }
 ],
 "metadata": {
  "kernelspec": {
   "display_name": "Python 3 (ipykernel)",
   "language": "python",
   "name": "python3"
  },
  "language_info": {
   "codemirror_mode": {
    "name": "ipython",
    "version": 3
   },
   "file_extension": ".py",
   "mimetype": "text/x-python",
   "name": "python",
   "nbconvert_exporter": "python",
   "pygments_lexer": "ipython3",
   "version": "3.9.7"
  }
 },
 "nbformat": 4,
 "nbformat_minor": 5
}
