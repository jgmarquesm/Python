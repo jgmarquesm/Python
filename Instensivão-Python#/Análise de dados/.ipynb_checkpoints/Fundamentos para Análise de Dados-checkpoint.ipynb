{
 "cells": [
  {
   "cell_type": "markdown",
   "id": "f937d5a3",
   "metadata": {},
   "source": [
    "<h1 style=\"color: red\">Fundamentos para Análise de dados</h1>"
   ]
  },
  {
   "cell_type": "markdown",
   "id": "11f58698",
   "metadata": {},
   "source": [
    "<h2 style=\"color: blue\"> Usando Pandas</h2>"
   ]
  },
  {
   "cell_type": "code",
   "execution_count": null,
   "id": "671625d0",
   "metadata": {},
   "outputs": [],
   "source": [
    "# Primeira coisa a se fazer sempre é importar as bibliotecas que iremos usar.\n",
    "import pandas as pd"
   ]
  },
  {
   "cell_type": "markdown",
   "id": "fb48949d",
   "metadata": {},
   "source": [
    "<h3 style=\"color: green\">Passo 1: Importar base de dados</h3>"
   ]
  },
  {
   "cell_type": "markdown",
   "id": "db1be9cc",
   "metadata": {},
   "source": [
    "<p style ='text-align:justify;'>Devemos importar a base de dados para manipular no python.\n",
    "Mas quais são os tipos de arquivos suportados pelo pandas?\n",
    "Alguns exemplos são <b>HTML, CSV, XLS, JSON, SQL, GBQ, HDF5</b> entre outros.\n",
    "Aqui está a <a href=\"https://pandas.pydata.org/docs/user_guide/io.html\">lista de todos as extensões suportadas</a> tanto para importação quanto para exportação.\n",
    "<br>\n",
    "Para importar uma base da dados, por exemplo um xlsx, usando o pandas devemos usar o comando:</p>"
   ]
  },
  {
   "cell_type": "code",
   "execution_count": null,
   "id": "653fa84a",
   "metadata": {},
   "outputs": [],
   "source": [
    "# Vamos atribuir o read da base de dados à uma variável em python para que possamos manipular\n",
    "tabela = pd.read_excel(\"nome_do_arquivo.xlsx\") # Assim, acabamos de importar uma base de dados em xlsx e atribuí-la\n",
    "# a uma variável\n",
    "# Podemos visualizar a base de dados atraves do comando print(tabela) ou usando o comando(somente no Jupyter):\n",
    "display(tabela)"
   ]
  },
  {
   "cell_type": "markdown",
   "id": "c56e015f",
   "metadata": {},
   "source": [
    "<h3 style=\"color: green\">Passo 2: Tratamento dos dados</h3>"
   ]
  },
  {
   "cell_type": "markdown",
   "id": "9ce243f2",
   "metadata": {},
   "source": [
    " <p style ='text-align:justify'>É sempre importante  fazer uma verificação de informações na base de dados usando o comando abaixo, assim teremos uma noção de linhas e colunas não preenchidas, o tipo dos dados que preenchem uma célula, entre outas informações que podemos extrair.</p>"
   ]
  },
  {
   "cell_type": "code",
   "execution_count": null,
   "id": "0a4dff65",
   "metadata": {},
   "outputs": [],
   "source": [
    "print(tabela.info()) # Aqui ele mostra as informações da tabela, como por exemplo a quantidade de colunas e quais \n",
    "# são essas tabelas, quantas linhas não nulas existem em cada coluna e o tipo de dado contido em cada coluna"
   ]
  },
  {
   "cell_type": "markdown",
   "id": "18b2979b",
   "metadata": {},
   "source": [
    "<p style ='text-align:justify'>Há uma ideia fundamental na parte de Análise de Dados que deve ser aplicada nesse passo, que é: <b style=\"color: #1E90FF\">Todo Dado que você não usa, te atrapalha.</b> Aqui devemos fazer o tratamento da tabela:</p> \n",
    "<ol style ='text-align:justify;'> \n",
    "    <li>Excluir colunas desnecessárias;</li>\n",
    "    <li>Converter tipos dos Dados que forem necessários;</li>\n",
    "    <li>Excluir linhas e colunas vazias.</li>\n",
    "</ol>\n",
    "<br>\n",
    "<p style ='text-align:justify;'>Podemos então fazer:</p>"
   ]
  },
  {
   "cell_type": "code",
   "execution_count": null,
   "id": "52872451",
   "metadata": {},
   "outputs": [],
   "source": [
    "# Para excluir uma coluna ou linha qualquer, independente de vazia ou não, pode-se ser usado o método:\n",
    "tabela = tabela.drop(\"NOME_DA_LINHA_OU_COLUNA\", axis= 0 ou 1) # O atributo axis é usado para desiginar se será usado linha\n",
    "# ou coluna. Para todos os efeitos, considere que: axis = 0 -> linha e axis = 1 -> coluna."
   ]
  },
  {
   "cell_type": "code",
   "execution_count": null,
   "id": "3bffd56c",
   "metadata": {},
   "outputs": [],
   "source": [
    "# Para transformar um object para um float64, podemos usar:\n",
    "tabela[\"NOME _DA_COLUNA\"] = pd.to_numeric(tabela[\"NOME_DA_COLUNA\"], errors=parametro) # Existem 3 parametros\n",
    "# possíveis para o tratamento de erros. Esses 3 são: \n",
    "# - \"raise\":  Emite uma mensagem de erro;\n",
    "# - \"coerce\": Deixa a célula em branco:\n",
    "# - \"ignore\": Ignora o erro e segue para a próxima linha."
   ]
  },
  {
   "cell_type": "code",
   "execution_count": null,
   "id": "7b6bcd3e",
   "metadata": {},
   "outputs": [],
   "source": [
    "# Para excluir linhas e colunas vazias, podemos fazer, respectivamente:\n",
    "tabela = tabela.dropna(how = \"any\", axis = 0) # Excluindo uma linha que tenha qualquer campo vazio. Para que aquele\n",
    "# campo vazio não venha falsear resultados e influenciar na análise. Mas tome cuidado nessa parte por, caso a \n",
    "# de dados, excluída pela exclusão das linhas, seja significante, isso pode refletir nos resultdos. POr exemplo,\n",
    "# se temos uma base de  dados com 5000 linhas, não faz diferença excluir 10, 20 linhas, entrentanto, se tivermos\n",
    "# uma base de dados com 100 linhas, essas 10 ou 20 linhas a menos fazem diferença.\n",
    "tabela = tabela.dropna(how = \"all\", axis = 1) # Excluindo coluna que tem todos os campos vazios."
   ]
  },
  {
   "cell_type": "code",
   "execution_count": null,
   "id": "e0754db4",
   "metadata": {},
   "outputs": [],
   "source": [
    "# Agora podemos repetir o comando:\n",
    "print(tabela.info()) # e verificar se está tudo certo para começar a análise."
   ]
  },
  {
   "cell_type": "markdown",
   "id": "05dc51df",
   "metadata": {},
   "source": [
    "<h3 style=\"color: green\">Passo 3: Análise inicial</h3>"
   ]
  },
  {
   "cell_type": "markdown",
   "id": "032832a7",
   "metadata": {},
   "source": [
    "<p style ='text-align:justify'>Primeiro devemos definir o que vamos análisar, para então saber o que devemos fazer e considerar na análise da base de dados. Por exemplo, vamos supor que queremos analisar a quantidade e a porcentagem de uma coluna da nossa base de dados. Para uma análise superficial inicial, podemos usar os comandos abaixo para realizar isso:</p>"
   ]
  },
  {
   "cell_type": "code",
   "execution_count": null,
   "id": "d63f4cd6",
   "metadata": {},
   "outputs": [],
   "source": [
    "print(tabela[\"NOME_DA_COLUNA\"].value_counts()) # Usado para mostra a quantidade de cada opção de preenchimento da\n",
    "# tabela.\n",
    "print(tabela[\"NOME_DA_COLUNA\"].value_counts(normalize = True).map(\"{:.2%}\".format)) # Para exibir o resultado acima\n",
    "# porém em porcentagem."
   ]
  },
  {
   "cell_type": "markdown",
   "id": "938c5720",
   "metadata": {},
   "source": [
    "<p style ='text-align: justify'> Note que usamos o argumento \"normalize = True\" no método value_count(), isso faz a normlaização da quantidade de linhas na tabela. Em Fìsica e Matemática, uma normalização leva um valor x para 1, desse modo, o número de tabelas se torna 1, e então é calculado a proporção de cada dado com esse novo valor. Em seguida, usamos o método .map() passando um formato como argumento que faz com que o dado seja apresentado segundo o formato passado pro .map(). Na primeira linha de comando da célula acima, podemos ver que o método value_count é passado sem argumento, isso faz com que seja usado o argumento padrão, que nesse caso é \"normalize = False\".</p>\n",
    "<p style ='text-align: justify'>Enfim, existem vários métodos para fazer a análise inicial da base de dados de acordo com que queremos extrair dela.</p>"
   ]
  },
  {
   "cell_type": "markdown",
   "id": "1e736f31",
   "metadata": {},
   "source": [
    "<h3 style=\"color: green\">Passo 4: Análise aprofundada</h3>"
   ]
  },
  {
   "cell_type": "markdown",
   "id": "5d1fe838",
   "metadata": {},
   "source": [
    "<p style=\"text-align: justify\"> Nessa parte, podemos buscar uma relação entre cada coluna da tabela para entender o que pode estar causando os resultados encontrados no passo anterior. Desse modo podemos analisar o gráfico de comparação de cada uma das outras colunas com a coluna analisada. Para isso devemos importar o módulo: </p>"
   ]
  },
  {
   "cell_type": "code",
   "execution_count": null,
   "id": "50ff73a9",
   "metadata": {},
   "outputs": [],
   "source": [
    "# Para plotar cada um dos gráficos\n",
    "!pip install plotly\n",
    "import plotly.express as pltx"
   ]
  },
  {
   "cell_type": "markdown",
   "id": "fcb10ac5",
   "metadata": {},
   "source": [
    "<p style=\"text-align: justify\">Para gerar cada um dos gráficos, podemos usar um laço de repetição, para não precisar repetir os comandos manualmente para cada coluna comparada.</p>\n",
    "<p style=\"text-align: justify\">Podemos consutar os tipos de gráficos <a href=\"https://plotly.com/python-api-reference/index.html\">aqui.</a> Assim, podemos escolher dentre vários tipos, o que melhor se encaixa na nossa análise.</p>"
   ]
  },
  {
   "cell_type": "code",
   "execution_count": null,
   "id": "c655ede2",
   "metadata": {},
   "outputs": [],
   "source": [
    "for coluna in tabela.columns:\n",
    "    grafico = pltx.histogram(tabela, x=coluna, color=\"NOME_DA_COLUNA-ANALISADA\")\n",
    "    # Para exibir o gráfico\n",
    "    grafico.show()"
   ]
  },
  {
   "cell_type": "markdown",
   "id": "58ed2369",
   "metadata": {},
   "source": [
    "<p style=\"text-align: justify\">A partir daqui podemos analisar de maneira gráfica, visual, a possível relação entre os dados apresentados na DB e então escrever a conclusão da análise.</p>"
   ]
  }
 ],
 "metadata": {
  "kernelspec": {
   "display_name": "Python 3 (ipykernel)",
   "language": "python",
   "name": "python3"
  },
  "language_info": {
   "codemirror_mode": {
    "name": "ipython",
    "version": 3
   },
   "file_extension": ".py",
   "mimetype": "text/x-python",
   "name": "python",
   "nbconvert_exporter": "python",
   "pygments_lexer": "ipython3",
   "version": "3.9.7"
  }
 },
 "nbformat": 4,
 "nbformat_minor": 5
}
