{
 "cells": [
  {
   "cell_type": "markdown",
   "id": "70a02fe3",
   "metadata": {},
   "source": [
    "# Bem-vindo! Este notebook foi escrito para te auxiliar nos estudos da LP Python3. \n",
    "### Espero que goste e aprenda com esse material."
   ]
  },
  {
   "cell_type": "markdown",
   "id": "128eb473",
   "metadata": {},
   "source": [
    "## Variáveis\n",
    "Em Python existem 4 tipos de variáveis: Numéricas (divididas em int e float), Strings (str) e Booleans (bool).\n",
    "### Exemplos\n",
    "int = ..., -3, -2, -1, 0, 1, 2, 3, ...;<br>\n",
    "float = ..., -3.0, -3.1, -3.11, ..., -2.0, ..., -1.0, ..., -0.5, ..., 0.0, 1.0, ...;<br>\n",
    "str = \"este texto é uma string\" (sempre declarada usando ' ' ou \" \", mas nunca misturando: ' \" ou \" '); <br>\n",
    "bool = True ou False (sempre com a primeira letra em maiúsculo)."
   ]
  },
  {
   "cell_type": "markdown",
   "id": "57517ac4",
   "metadata": {},
   "source": [
    "## Operações com variáveis\n",
    "\n",
    "Existem vários tipos de operações possíveis de se fazer com as variáveis. As mais comuns são: $+, -, *, /, **, //, %.$<br>\n",
    "Mas o que significa cada um desses símbolos?<br>\n",
    "Certo! Vamos por partes...<br>\n",
    "O símbolo $+$ é usado para adição ou concatenação de variáveis.<br>\n",
    "O símbolo $-$ é usado para subtração de variáveis.<br>\n",
    "O símbolo $*$ é usado para multiplicação de variáveis.<br>\n",
    "O símbolo $/$ é usado para divisão de variáveis.<br>\n",
    "O símbolo $**$ é usado para indicar potenciação.<br>\n",
    "O símbolo $//$ é usado para extrair a parte inteira de uma divisão variáveis.<br>\n",
    "O símbolo $%$ é usado para retornar o resto da divisão entre variáveis.<br>\n",
    "<br>\n",
    "Seguem a mesma lógica da matemática, ou seja, se usarmos parenteses, estaremos priorizando a opreação.<br>\n",
    "<b>Apesar representarem simples operações matemáticas, deve-se ter cuidado ao tipo de dado que é retornado ao realizarmos essas operações.<br>\n",
    "Por exemplo as operações com variáveis númericas:<br>"
   ]
  },
  {
   "cell_type": "code",
   "execution_count": 1,
   "id": "e4cf3ee9",
   "metadata": {},
   "outputs": [
    {
     "data": {
      "text/plain": [
       "4"
      ]
     },
     "execution_count": 1,
     "metadata": {},
     "output_type": "execute_result"
    }
   ],
   "source": [
    "2 + 2"
   ]
  },
  {
   "cell_type": "code",
   "execution_count": 2,
   "id": "8a9289d3",
   "metadata": {},
   "outputs": [
    {
     "data": {
      "text/plain": [
       "4.0"
      ]
     },
     "execution_count": 2,
     "metadata": {},
     "output_type": "execute_result"
    }
   ],
   "source": [
    "2 + 2.0"
   ]
  },
  {
   "cell_type": "code",
   "execution_count": 3,
   "id": "437afa38",
   "metadata": {},
   "outputs": [
    {
     "data": {
      "text/plain": [
       "2"
      ]
     },
     "execution_count": 3,
     "metadata": {},
     "output_type": "execute_result"
    }
   ],
   "source": [
    "4 - 2"
   ]
  },
  {
   "cell_type": "code",
   "execution_count": 4,
   "id": "e6cceb8b",
   "metadata": {},
   "outputs": [
    {
     "data": {
      "text/plain": [
       "2.0"
      ]
     },
     "execution_count": 4,
     "metadata": {},
     "output_type": "execute_result"
    }
   ],
   "source": [
    "4.0 - 2"
   ]
  },
  {
   "cell_type": "code",
   "execution_count": 5,
   "id": "70784b06",
   "metadata": {},
   "outputs": [
    {
     "data": {
      "text/plain": [
       "4"
      ]
     },
     "execution_count": 5,
     "metadata": {},
     "output_type": "execute_result"
    }
   ],
   "source": [
    "2 * 2"
   ]
  },
  {
   "cell_type": "code",
   "execution_count": 6,
   "id": "98a5410a",
   "metadata": {},
   "outputs": [
    {
     "data": {
      "text/plain": [
       "3.8"
      ]
     },
     "execution_count": 6,
     "metadata": {},
     "output_type": "execute_result"
    }
   ],
   "source": [
    "2 * 1.9"
   ]
  },
  {
   "cell_type": "code",
   "execution_count": 7,
   "id": "4a1d3c9b",
   "metadata": {},
   "outputs": [
    {
     "data": {
      "text/plain": [
       "5.0"
      ]
     },
     "execution_count": 7,
     "metadata": {},
     "output_type": "execute_result"
    }
   ],
   "source": [
    "10 / 2"
   ]
  },
  {
   "cell_type": "code",
   "execution_count": 8,
   "id": "b5e793aa",
   "metadata": {},
   "outputs": [
    {
     "data": {
      "text/plain": [
       "5.0"
      ]
     },
     "execution_count": 8,
     "metadata": {},
     "output_type": "execute_result"
    }
   ],
   "source": [
    "10.0 / 2.0"
   ]
  },
  {
   "cell_type": "code",
   "execution_count": 9,
   "id": "3c0187b4",
   "metadata": {},
   "outputs": [
    {
     "data": {
      "text/plain": [
       "8"
      ]
     },
     "execution_count": 9,
     "metadata": {},
     "output_type": "execute_result"
    }
   ],
   "source": [
    "2 ** 3"
   ]
  },
  {
   "cell_type": "code",
   "execution_count": 10,
   "id": "b56b6767",
   "metadata": {},
   "outputs": [
    {
     "data": {
      "text/plain": [
       "8.0"
      ]
     },
     "execution_count": 10,
     "metadata": {},
     "output_type": "execute_result"
    }
   ],
   "source": [
    "2 ** 3.0"
   ]
  },
  {
   "cell_type": "code",
   "execution_count": 11,
   "id": "1fd0bcc3",
   "metadata": {},
   "outputs": [
    {
     "data": {
      "text/plain": [
       "5"
      ]
     },
     "execution_count": 11,
     "metadata": {},
     "output_type": "execute_result"
    }
   ],
   "source": [
    "11 // 2"
   ]
  },
  {
   "cell_type": "code",
   "execution_count": 12,
   "id": "8e5e8fcd",
   "metadata": {},
   "outputs": [
    {
     "data": {
      "text/plain": [
       "5.0"
      ]
     },
     "execution_count": 12,
     "metadata": {},
     "output_type": "execute_result"
    }
   ],
   "source": [
    "11.0 // 2"
   ]
  },
  {
   "cell_type": "code",
   "execution_count": 13,
   "id": "89aad2c3",
   "metadata": {},
   "outputs": [
    {
     "data": {
      "text/plain": [
       "5.0"
      ]
     },
     "execution_count": 13,
     "metadata": {},
     "output_type": "execute_result"
    }
   ],
   "source": [
    "11.0 // 2.0"
   ]
  },
  {
   "cell_type": "code",
   "execution_count": 14,
   "id": "b872c55e",
   "metadata": {},
   "outputs": [
    {
     "data": {
      "text/plain": [
       "1"
      ]
     },
     "execution_count": 14,
     "metadata": {},
     "output_type": "execute_result"
    }
   ],
   "source": [
    "11 % 2"
   ]
  },
  {
   "cell_type": "code",
   "execution_count": 15,
   "id": "6495ae97",
   "metadata": {},
   "outputs": [
    {
     "data": {
      "text/plain": [
       "1.0"
      ]
     },
     "execution_count": 15,
     "metadata": {},
     "output_type": "execute_result"
    }
   ],
   "source": [
    "11.0 % 2"
   ]
  },
  {
   "cell_type": "code",
   "execution_count": 16,
   "id": "c23a1c76",
   "metadata": {},
   "outputs": [
    {
     "data": {
      "text/plain": [
       "1.0"
      ]
     },
     "execution_count": 16,
     "metadata": {},
     "output_type": "execute_result"
    }
   ],
   "source": [
    "11.0 % 2.0 "
   ]
  },
  {
   "cell_type": "markdown",
   "id": "907ffb24",
   "metadata": {},
   "source": [
    "#### Note que em alguns caso, por mais que as entradas fossem do tipo int, a operação retornava um float.<br>\n",
    "Por isso deve-se atentar ao tipo de dado que entra e sai do código, para evitar bugs, custo computacional desnecessário e erros em análises.<br>\n",
    "Para evitar essas situações, devemos conhecer o tipo da variável usada e também podemos fazer conversões de tipos de variável.<br>\n",
    "Para descobrir o tipo de um dados que vai entrar no código, podemos fazer o uso da função built-in <b>type().<br>\n",
    "Por exemplo:    "
   ]
  },
  {
   "cell_type": "code",
   "execution_count": 17,
   "id": "bdcf0729",
   "metadata": {},
   "outputs": [
    {
     "data": {
      "text/plain": [
       "str"
      ]
     },
     "execution_count": 17,
     "metadata": {},
     "output_type": "execute_result"
    }
   ],
   "source": [
    "a = \"Oi\"\n",
    "type(a)"
   ]
  },
  {
   "cell_type": "code",
   "execution_count": 18,
   "id": "6130746f",
   "metadata": {},
   "outputs": [
    {
     "data": {
      "text/plain": [
       "float"
      ]
     },
     "execution_count": 18,
     "metadata": {},
     "output_type": "execute_result"
    }
   ],
   "source": [
    "type(3.5)"
   ]
  },
  {
   "cell_type": "code",
   "execution_count": 19,
   "id": "d69ffa21",
   "metadata": {},
   "outputs": [
    {
     "data": {
      "text/plain": [
       "int"
      ]
     },
     "execution_count": 19,
     "metadata": {},
     "output_type": "execute_result"
    }
   ],
   "source": [
    "type(2)"
   ]
  },
  {
   "cell_type": "code",
   "execution_count": 20,
   "id": "e5a42777",
   "metadata": {},
   "outputs": [
    {
     "data": {
      "text/plain": [
       "bool"
      ]
     },
     "execution_count": 20,
     "metadata": {},
     "output_type": "execute_result"
    }
   ],
   "source": [
    "type(True)"
   ]
  },
  {
   "cell_type": "markdown",
   "id": "d952e602",
   "metadata": {},
   "source": [
    "#### Podemos também converter um variável entre tipos númericos e também para string. Veja abaixo:"
   ]
  },
  {
   "cell_type": "code",
   "execution_count": 21,
   "id": "3db77fa9",
   "metadata": {},
   "outputs": [
    {
     "name": "stdout",
     "output_type": "stream",
     "text": [
      "5\n"
     ]
    },
    {
     "data": {
      "text/plain": [
       "str"
      ]
     },
     "execution_count": 21,
     "metadata": {},
     "output_type": "execute_result"
    }
   ],
   "source": [
    "# Convertendo uma variável númerica em uma string\n",
    "a = 5\n",
    "b = str(a)\n",
    "print(b)\n",
    "type(b)"
   ]
  },
  {
   "cell_type": "markdown",
   "id": "c2746180",
   "metadata": {},
   "source": [
    "#### Note que mesmo retornando o número 5, a variável retorna uma string e se tentarmos realizar operações com uma variável númerica, teremos o seguinte output:"
   ]
  },
  {
   "cell_type": "code",
   "execution_count": 22,
   "id": "6dab9a29",
   "metadata": {},
   "outputs": [
    {
     "ename": "TypeError",
     "evalue": "unsupported operand type(s) for +: 'int' and 'str'",
     "output_type": "error",
     "traceback": [
      "\u001b[0;31m---------------------------------------------------------------------------\u001b[0m",
      "\u001b[0;31mTypeError\u001b[0m                                 Traceback (most recent call last)",
      "\u001b[0;32m/tmp/ipykernel_6397/1834569134.py\u001b[0m in \u001b[0;36m<module>\u001b[0;34m\u001b[0m\n\u001b[1;32m      1\u001b[0m \u001b[0;31m# Operações com tipo númerico e strings\u001b[0m\u001b[0;34m\u001b[0m\u001b[0;34m\u001b[0m\u001b[0m\n\u001b[0;32m----> 2\u001b[0;31m \u001b[0mx\u001b[0m \u001b[0;34m=\u001b[0m \u001b[0;36m5\u001b[0m \u001b[0;34m+\u001b[0m \u001b[0mb\u001b[0m\u001b[0;34m\u001b[0m\u001b[0;34m\u001b[0m\u001b[0m\n\u001b[0m\u001b[1;32m      3\u001b[0m \u001b[0mprint\u001b[0m\u001b[0;34m(\u001b[0m\u001b[0mx\u001b[0m\u001b[0;34m)\u001b[0m\u001b[0;34m\u001b[0m\u001b[0;34m\u001b[0m\u001b[0m\n",
      "\u001b[0;31mTypeError\u001b[0m: unsupported operand type(s) for +: 'int' and 'str'"
     ]
    }
   ],
   "source": [
    "# Operações com tipo númerico e strings\n",
    "x = 5 + b\n",
    "print(x)"
   ]
  },
  {
   "cell_type": "markdown",
   "id": "e395bd46",
   "metadata": {},
   "source": [
    "#### Já a conversão oposta não pode ser realizada caso a srting não seja um \"número\":"
   ]
  },
  {
   "cell_type": "code",
   "execution_count": 23,
   "id": "e3d2982d",
   "metadata": {},
   "outputs": [
    {
     "name": "stdout",
     "output_type": "stream",
     "text": [
      "5\n"
     ]
    },
    {
     "data": {
      "text/plain": [
       "int"
      ]
     },
     "execution_count": 23,
     "metadata": {},
     "output_type": "execute_result"
    }
   ],
   "source": [
    "a = \"5\"\n",
    "b = int(a)\n",
    "print(b)\n",
    "type(b)"
   ]
  },
  {
   "cell_type": "code",
   "execution_count": 24,
   "id": "93b134fd",
   "metadata": {},
   "outputs": [
    {
     "ename": "ValueError",
     "evalue": "invalid literal for int() with base 10: 'Oi'",
     "output_type": "error",
     "traceback": [
      "\u001b[0;31m---------------------------------------------------------------------------\u001b[0m",
      "\u001b[0;31mValueError\u001b[0m                                Traceback (most recent call last)",
      "\u001b[0;32m/tmp/ipykernel_6397/3767697062.py\u001b[0m in \u001b[0;36m<module>\u001b[0;34m\u001b[0m\n\u001b[1;32m      1\u001b[0m \u001b[0ma\u001b[0m \u001b[0;34m=\u001b[0m \u001b[0;34m\"Oi\"\u001b[0m\u001b[0;34m\u001b[0m\u001b[0;34m\u001b[0m\u001b[0m\n\u001b[0;32m----> 2\u001b[0;31m \u001b[0mb\u001b[0m \u001b[0;34m=\u001b[0m \u001b[0mint\u001b[0m\u001b[0;34m(\u001b[0m\u001b[0ma\u001b[0m\u001b[0;34m)\u001b[0m\u001b[0;34m\u001b[0m\u001b[0;34m\u001b[0m\u001b[0m\n\u001b[0m\u001b[1;32m      3\u001b[0m \u001b[0mprint\u001b[0m\u001b[0;34m(\u001b[0m\u001b[0mb\u001b[0m\u001b[0;34m)\u001b[0m\u001b[0;34m\u001b[0m\u001b[0;34m\u001b[0m\u001b[0m\n\u001b[1;32m      4\u001b[0m \u001b[0mtype\u001b[0m\u001b[0;34m(\u001b[0m\u001b[0mb\u001b[0m\u001b[0;34m)\u001b[0m\u001b[0;34m\u001b[0m\u001b[0;34m\u001b[0m\u001b[0m\n",
      "\u001b[0;31mValueError\u001b[0m: invalid literal for int() with base 10: 'Oi'"
     ]
    }
   ],
   "source": [
    "a = \"Oi\"\n",
    "b = int(a)\n",
    "print(b)\n",
    "type(b)"
   ]
  },
  {
   "cell_type": "markdown",
   "id": "d88678e9",
   "metadata": {},
   "source": [
    "#### Já a conversão entre tipos númericos é bem simples, entretando devemos notar que a conversão de um float para um int não é um arredendamento, mas na verdade considera-se apenas a parte inteira do número em questão."
   ]
  },
  {
   "cell_type": "code",
   "execution_count": 25,
   "id": "96dbcd1f",
   "metadata": {},
   "outputs": [
    {
     "name": "stdout",
     "output_type": "stream",
     "text": [
      "3\n",
      "2.0\n"
     ]
    }
   ],
   "source": [
    "print(int(3.99)) # Convertendo float para int, repare que não é uma um arredendamento ou aproximação.\n",
    "print(float(2)) # Convertendo int para float"
   ]
  },
  {
   "cell_type": "markdown",
   "id": "40460f7e",
   "metadata": {},
   "source": [
    "## Strings\n",
    "Ainda falando de operações..."
   ]
  },
  {
   "cell_type": "markdown",
   "id": "23233fcc",
   "metadata": {},
   "source": [
    "### Podemos realizar também a concatenação de strings fazendo:"
   ]
  },
  {
   "cell_type": "code",
   "execution_count": 26,
   "id": "4ebed20e",
   "metadata": {},
   "outputs": [
    {
     "name": "stdout",
     "output_type": "stream",
     "text": [
      "nomesobrenome\n"
     ]
    }
   ],
   "source": [
    "ex1 = \"nome\"\n",
    "ex2 = \"sobrenome\"\n",
    "ex = ex1 + ex2 # também pode ser feito de maneira direta: ex = \"nome\" + \"sobrenome\"\n",
    "print(ex)"
   ]
  },
  {
   "cell_type": "markdown",
   "id": "75b1ad9c",
   "metadata": {},
   "source": [
    "#### Note que apesar de serem duas strings concatenadas, o output foi uma string sem espaço entre as strings. Para contornar isso podemos fazer de 3 formas:"
   ]
  },
  {
   "cell_type": "code",
   "execution_count": 27,
   "id": "c324e01e",
   "metadata": {},
   "outputs": [
    {
     "name": "stdout",
     "output_type": "stream",
     "text": [
      "Primeira saída: nome sobrenome\n",
      "Primeira saída: nome sobrenome\n",
      "Segunda saída: nome sobrenome\n",
      "Segunda saída: nome sobrenome\n",
      "Terceira saída: nome sobrenome\n",
      "Terceira saída: nome sobrenome\n"
     ]
    }
   ],
   "source": [
    "nome = \"nome \"\n",
    "snome = \"sobrenome\"\n",
    "fnome = nome + snome # também pode ser feito de maneira direta: ex = \"nome \" + \"sobrenome\"\n",
    "print(\"Primeira saída:\", fnome)\n",
    "print(f\"Primeira saída: {fnome}\")\n",
    "nome = \"nome\"\n",
    "snome = \" sobrenome\"\n",
    "fnome = nome + snome # também pode ser feito de maneira direta: ex = \"nome\" + \" sobrenome\"\n",
    "print(\"Segunda saída:\", fnome)\n",
    "print(f\"Segunda saída: {fnome}\")\n",
    "nome = \"nome\"\n",
    "snome = \"sobrenome\"\n",
    "fnome = nome + \" \" + snome # também pode ser feito de maneira direta: ex = \"nome\" + \" \" + \"sobrenome\"\n",
    "print(\"Terceira saída:\", fnome)\n",
    "print(f\"Terceira saída: {fnome}\")"
   ]
  },
  {
   "cell_type": "markdown",
   "id": "ffe876a3",
   "metadata": {},
   "source": [
    "#### Outra ponto a se observar é que, mesmo utilizando o mesmo nome de variáveis para imprimir os 3 jeitos, o mesmo resultado foi obtido, pois o python considera sempre a última atribuição à variável. Veja no exemplo acima que primeiro imprimimos o valor de fnome e depois mudamos a atribuição das variáveis nome e snome, entretanto, sempre antes de mudar essa atribuição nós imprimimos o resultado. Talvez fique mais claro com o exemplo a seguir:"
   ]
  },
  {
   "cell_type": "code",
   "execution_count": 28,
   "id": "13b40ec6",
   "metadata": {},
   "outputs": [
    {
     "name": "stdout",
     "output_type": "stream",
     "text": [
      "Primeira saída: João Silva\n",
      " Segunda saída: José Souza\n",
      "Terceira saída: Maria Ferreira\n"
     ]
    }
   ],
   "source": [
    "nome = \"João \"\n",
    "snome = \"Silva\"\n",
    "fnome = nome + snome\n",
    "print(\"Primeira saída:\", fnome)\n",
    "nome = \"José\"\n",
    "snome = \" Souza\"\n",
    "fnome = nome + snome\n",
    "print(\" Segunda saída:\", fnome)\n",
    "nome = \"Maria\"\n",
    "snome = \"Ferreira\"\n",
    "fnome = nome + \" \" + snome \n",
    "print(\"Terceira saída:\", fnome)"
   ]
  },
  {
   "cell_type": "markdown",
   "id": "a8bc0e95",
   "metadata": {},
   "source": [
    "#### As strings são interpretadas pelo Python como uma sequencia de caracteres, desse modo podemos usar indices para localizar elementos de uma string.\n",
    "Em Python, a indexação começa sempre em 0 e podemos acessar os índices usando [ ].<br>\n",
    "Acompanhe com o exemplo abaixo:"
   ]
  },
  {
   "cell_type": "code",
   "execution_count": 29,
   "id": "3945b1dd",
   "metadata": {},
   "outputs": [
    {
     "name": "stdout",
     "output_type": "stream",
     "text": [
      "P\n",
      "y\n",
      "t\n",
      "h\n",
      "o\n",
      "n\n"
     ]
    }
   ],
   "source": [
    "string = \"Python\"\n",
    "print(string[0]) # P\n",
    "print(string[1]) # y\n",
    "print(string[2]) # t\n",
    "print(string[3]) # h\n",
    "print(string[4]) # o\n",
    "print(string[5]) # n"
   ]
  },
  {
   "cell_type": "markdown",
   "id": "b8ae462d",
   "metadata": {},
   "source": [
    "#### Usando a indexação para fazer o \"fatiamento\" (slicing) usando [ : ]. Veja:"
   ]
  },
  {
   "cell_type": "code",
   "execution_count": 30,
   "id": "d380d717",
   "metadata": {},
   "outputs": [
    {
     "name": "stdout",
     "output_type": "stream",
     "text": [
      "Pyt\n",
      "hon\n",
      "tho\n",
      "Python\n",
      "nohtyP\n",
      "Pytho\n",
      "Pto\n"
     ]
    }
   ],
   "source": [
    "string = \"Python\"\n",
    "print(string[:3])  # pegando os indices 0, 1 e 2. \n",
    "print(string[3:])  # pegando os indices 4, 5 e 6.\n",
    "print(string[2:5]) # pegando os indices 2, 3 e 4.\n",
    "print(string[:])   # retorna todos os indices.\n",
    "print(string[::-1])# retorna a ordem inversa. também pode ser string[-1]\n",
    "print(string[:-1]) # retorna a string até o indices negativo indicado\n",
    "print(string[::2]) # pega os indices a cada 2.\n",
    "#print(string[])\n",
    "# Note que o Slicing é exclusivo, ou seja, não inclui o indice final."
   ]
  },
  {
   "cell_type": "markdown",
   "id": "90c7a0fa",
   "metadata": {},
   "source": [
    "Manipule o exemplo acima para maior compreensão do fatiamento de strings, será útil para listas, etc..."
   ]
  },
  {
   "cell_type": "markdown",
   "id": "ea1d90d6",
   "metadata": {},
   "source": [
    "#### Uma string é uma entidade imutáavel, ou seja, por mais que possámos trabalhar com indexação para manipular strings, não alteramos o conteúdo da variável. Não é possível fazer uma atribuição à um indice da string."
   ]
  },
  {
   "cell_type": "code",
   "execution_count": 31,
   "id": "8043ba09",
   "metadata": {},
   "outputs": [
    {
     "ename": "TypeError",
     "evalue": "'str' object does not support item assignment",
     "output_type": "error",
     "traceback": [
      "\u001b[0;31m---------------------------------------------------------------------------\u001b[0m",
      "\u001b[0;31mTypeError\u001b[0m                                 Traceback (most recent call last)",
      "\u001b[0;32m/tmp/ipykernel_6397/1494659118.py\u001b[0m in \u001b[0;36m<module>\u001b[0;34m\u001b[0m\n\u001b[0;32m----> 1\u001b[0;31m \u001b[0mstring\u001b[0m\u001b[0;34m[\u001b[0m\u001b[0;36m0\u001b[0m\u001b[0;34m]\u001b[0m \u001b[0;34m=\u001b[0m \u001b[0;34m\"C\"\u001b[0m\u001b[0;34m\u001b[0m\u001b[0;34m\u001b[0m\u001b[0m\n\u001b[0m\u001b[1;32m      2\u001b[0m \u001b[0mprint\u001b[0m\u001b[0;34m(\u001b[0m\u001b[0mstring\u001b[0m\u001b[0;34m)\u001b[0m\u001b[0;34m\u001b[0m\u001b[0;34m\u001b[0m\u001b[0m\n",
      "\u001b[0;31mTypeError\u001b[0m: 'str' object does not support item assignment"
     ]
    }
   ],
   "source": [
    "string[0] = \"C\"\n",
    "print(string)"
   ]
  },
  {
   "cell_type": "markdown",
   "id": "786a1918",
   "metadata": {},
   "source": [
    "Entretanto podemos atribuir à toda string um novo valor:"
   ]
  },
  {
   "cell_type": "code",
   "execution_count": 32,
   "id": "8c7f1a78",
   "metadata": {},
   "outputs": [
    {
     "name": "stdout",
     "output_type": "stream",
     "text": [
      "Python é top demais!\n"
     ]
    }
   ],
   "source": [
    "# O símbolo += é equivalenta à = variável + ... ex.: x = x + 1 pode ser escrito como x += 1\n",
    "string += \" é top demais!\"\n",
    "print(string)"
   ]
  },
  {
   "cell_type": "markdown",
   "id": "65ee433c",
   "metadata": {},
   "source": [
    "#### Podemos realizar multiplicação tanto com a string quanto com indices ou slices da string."
   ]
  },
  {
   "cell_type": "code",
   "execution_count": 33,
   "id": "5d312ab0",
   "metadata": {},
   "outputs": [
    {
     "data": {
      "text/plain": [
       "'Python é top demais!Python é top demais!'"
      ]
     },
     "execution_count": 33,
     "metadata": {},
     "output_type": "execute_result"
    }
   ],
   "source": [
    "2*string"
   ]
  },
  {
   "cell_type": "code",
   "execution_count": 34,
   "id": "4146cbb3",
   "metadata": {},
   "outputs": [
    {
     "data": {
      "text/plain": [
       "'PPP'"
      ]
     },
     "execution_count": 34,
     "metadata": {},
     "output_type": "execute_result"
    }
   ],
   "source": [
    "3*string[0]"
   ]
  },
  {
   "cell_type": "code",
   "execution_count": 35,
   "id": "2ecfb9d5",
   "metadata": {},
   "outputs": [
    {
     "data": {
      "text/plain": [
       "'ththththth'"
      ]
     },
     "execution_count": 35,
     "metadata": {},
     "output_type": "execute_result"
    }
   ],
   "source": [
    "5*string[2:4]"
   ]
  },
  {
   "cell_type": "markdown",
   "id": "8333eca0",
   "metadata": {},
   "source": [
    "### Funções Built-in de Strings"
   ]
  },
  {
   "cell_type": "code",
   "execution_count": 36,
   "id": "2f1fd9bb",
   "metadata": {},
   "outputs": [
    {
     "data": {
      "text/plain": [
       "'Python é top demais!'"
      ]
     },
     "execution_count": 36,
     "metadata": {},
     "output_type": "execute_result"
    }
   ],
   "source": [
    "string"
   ]
  },
  {
   "cell_type": "code",
   "execution_count": 37,
   "id": "8e5de622",
   "metadata": {},
   "outputs": [
    {
     "data": {
      "text/plain": [
       "'PYTHON É TOP DEMAIS!'"
      ]
     },
     "execution_count": 37,
     "metadata": {},
     "output_type": "execute_result"
    }
   ],
   "source": [
    "# Maiuscula\n",
    "string.upper()"
   ]
  },
  {
   "cell_type": "code",
   "execution_count": 38,
   "id": "8b8e49bb",
   "metadata": {},
   "outputs": [
    {
     "data": {
      "text/plain": [
       "'python é top demais!'"
      ]
     },
     "execution_count": 38,
     "metadata": {},
     "output_type": "execute_result"
    }
   ],
   "source": [
    "# Minuscula\n",
    "string.lower()"
   ]
  },
  {
   "cell_type": "code",
   "execution_count": 39,
   "id": "7ae64804",
   "metadata": {},
   "outputs": [
    {
     "data": {
      "text/plain": [
       "['Python', 'é', 'top', 'demais!']"
      ]
     },
     "execution_count": 39,
     "metadata": {},
     "output_type": "execute_result"
    }
   ],
   "source": [
    "# Divide a string em uma lista por espaços em branco\n",
    "string.split()"
   ]
  },
  {
   "cell_type": "code",
   "execution_count": 40,
   "id": "131d663d",
   "metadata": {},
   "outputs": [
    {
     "data": {
      "text/plain": [
       "['Pyth', 'n é t', 'p demais!']"
      ]
     },
     "execution_count": 40,
     "metadata": {},
     "output_type": "execute_result"
    }
   ],
   "source": [
    "# Divide a string em uma lista por um caracter específico\n",
    "string.split(\"o\")"
   ]
  },
  {
   "cell_type": "markdown",
   "id": "f743c680",
   "metadata": {},
   "source": [
    "#### Funções de strings"
   ]
  },
  {
   "cell_type": "code",
   "execution_count": 41,
   "id": "9f36da61",
   "metadata": {},
   "outputs": [],
   "source": [
    "s = \"bem-vindo à esse universo lindo de programação em python!\""
   ]
  },
  {
   "cell_type": "code",
   "execution_count": 42,
   "id": "f01e48fc",
   "metadata": {},
   "outputs": [
    {
     "data": {
      "text/plain": [
       "'Bem-vindo à esse universo lindo de programação em python!'"
      ]
     },
     "execution_count": 42,
     "metadata": {},
     "output_type": "execute_result"
    }
   ],
   "source": [
    "#Primeira letra maiuscula\n",
    "s.capitalize()"
   ]
  },
  {
   "cell_type": "code",
   "execution_count": 43,
   "id": "ecf6a3a9",
   "metadata": {},
   "outputs": [
    {
     "data": {
      "text/plain": [
       "2"
      ]
     },
     "execution_count": 43,
     "metadata": {},
     "output_type": "execute_result"
    }
   ],
   "source": [
    "# Conta quantas vezes um caracter se repetiu\n",
    "s.count(\"a\")"
   ]
  },
  {
   "cell_type": "code",
   "execution_count": 44,
   "id": "f860e93d",
   "metadata": {},
   "outputs": [
    {
     "data": {
      "text/plain": [
       "1"
      ]
     },
     "execution_count": 44,
     "metadata": {},
     "output_type": "execute_result"
    }
   ],
   "source": [
    "# Encontra a primeira posição ocupada pelo caracter solicitado\n",
    "s.find(\"e\")"
   ]
  },
  {
   "cell_type": "code",
   "execution_count": 45,
   "id": "979a3ef1",
   "metadata": {},
   "outputs": [
    {
     "data": {
      "text/plain": [
       "True"
      ]
     },
     "execution_count": 45,
     "metadata": {},
     "output_type": "execute_result"
    }
   ],
   "source": [
    "# Verifica se todos os caracteres são minusculos\n",
    "s.islower()"
   ]
  },
  {
   "cell_type": "code",
   "execution_count": 46,
   "id": "dcc7a248",
   "metadata": {},
   "outputs": [
    {
     "data": {
      "text/plain": [
       "False"
      ]
     },
     "execution_count": 46,
     "metadata": {},
     "output_type": "execute_result"
    }
   ],
   "source": [
    "# Verifica se todos os caracteres são maiusculos\n",
    "s.isupper()"
   ]
  },
  {
   "cell_type": "code",
   "execution_count": 47,
   "id": "bbf62ce2",
   "metadata": {},
   "outputs": [
    {
     "data": {
      "text/plain": [
       "False"
      ]
     },
     "execution_count": 47,
     "metadata": {},
     "output_type": "execute_result"
    }
   ],
   "source": [
    "# Verifica se todos os caracteres são espaços em branco\n",
    "s.isspace()"
   ]
  },
  {
   "cell_type": "code",
   "execution_count": 48,
   "id": "c2e73422",
   "metadata": {},
   "outputs": [
    {
     "data": {
      "text/plain": [
       "False"
      ]
     },
     "execution_count": 48,
     "metadata": {},
     "output_type": "execute_result"
    }
   ],
   "source": [
    "# Verifica se a string termina em terminado caracter\n",
    "s.endswith(\"w\")"
   ]
  },
  {
   "cell_type": "code",
   "execution_count": 49,
   "id": "2eede260",
   "metadata": {},
   "outputs": [
    {
     "name": "stdout",
     "output_type": "stream",
     "text": [
      "True\n",
      "False\n"
     ]
    }
   ],
   "source": [
    "# Comparação de string (True para strings iguais e False para strings diferentes)\n",
    "print(\"Python\"==\"Python\")\n",
    "print(\"Python\"==\"python\") # Note que Python diferencia lower e upper case."
   ]
  },
  {
   "cell_type": "markdown",
   "id": "63c97a09",
   "metadata": {},
   "source": [
    "## Listas"
   ]
  },
  {
   "cell_type": "markdown",
   "id": "82081fa6",
   "metadata": {},
   "source": [
    "Podem ser tratadas com indexação, e ao contrário das strings, as listas são mutáveis.<br>\n",
    "São declaradas da seguinte maneira: lista = [item1, item2, ...] e podem conter strings e tipos númericos em seus itens."
   ]
  },
  {
   "cell_type": "code",
   "execution_count": 50,
   "id": "39bf40d9",
   "metadata": {},
   "outputs": [
    {
     "name": "stdout",
     "output_type": "stream",
     "text": [
      "[5.0, 'maçã', 'ovo', 100]\n"
     ]
    }
   ],
   "source": [
    "lista = [5.0, \"maçã\", \"ovo\", 100]\n",
    "print(lista)"
   ]
  },
  {
   "cell_type": "code",
   "execution_count": 51,
   "id": "7e8fd68f",
   "metadata": {},
   "outputs": [
    {
     "data": {
      "text/plain": [
       "'maçã'"
      ]
     },
     "execution_count": 51,
     "metadata": {},
     "output_type": "execute_result"
    }
   ],
   "source": [
    "lista[1]"
   ]
  },
  {
   "cell_type": "markdown",
   "id": "b7aa8c93",
   "metadata": {},
   "source": [
    "### Associação de índices"
   ]
  },
  {
   "cell_type": "code",
   "execution_count": 52,
   "id": "127b7122",
   "metadata": {},
   "outputs": [
    {
     "name": "stdout",
     "output_type": "stream",
     "text": [
      "[5.0, 'maçã', 'leite', 100]\n"
     ]
    }
   ],
   "source": [
    "# Mudando um item da lista\n",
    "lista[2] = \"leite\" # trocou ovo por leite\n",
    "print(lista)"
   ]
  },
  {
   "cell_type": "code",
   "execution_count": 53,
   "id": "a90e92ff",
   "metadata": {},
   "outputs": [
    {
     "name": "stdout",
     "output_type": "stream",
     "text": [
      "[5.0, 'leite', 100]\n"
     ]
    }
   ],
   "source": [
    "# Deletando um item da lista\n",
    "del lista[1] # deletando maçã\n",
    "print(lista)"
   ]
  },
  {
   "cell_type": "markdown",
   "id": "2a8427d5",
   "metadata": {},
   "source": [
    "### Listas Aninhadas (Lista dentro de lista)"
   ]
  },
  {
   "cell_type": "markdown",
   "id": "68e6f749",
   "metadata": {},
   "source": [
    "Listas aninhadas são matrizes."
   ]
  },
  {
   "cell_type": "code",
   "execution_count": 54,
   "id": "77c05fb2",
   "metadata": {},
   "outputs": [
    {
     "name": "stdout",
     "output_type": "stream",
     "text": [
      "[[1, 2, 3], [4, 5, 6], [7, 8, 9]]\n"
     ]
    }
   ],
   "source": [
    "listaA = [[1, 2 , 3], [4, 5, 6], [7, 8, 9]]\n",
    "print(listaA)"
   ]
  },
  {
   "cell_type": "code",
   "execution_count": 55,
   "id": "3a0e79ec",
   "metadata": {},
   "outputs": [
    {
     "name": "stdout",
     "output_type": "stream",
     "text": [
      "[1, 2, 3]\n",
      "3\n"
     ]
    }
   ],
   "source": [
    "print(listaA[0]) # pegando o indice 0 da listaA\n",
    "print(len(listaA)) # a função len retorna o tamanho da lista"
   ]
  },
  {
   "cell_type": "code",
   "execution_count": 56,
   "id": "e43e8087",
   "metadata": {},
   "outputs": [
    {
     "name": "stdout",
     "output_type": "stream",
     "text": [
      "3\n"
     ]
    }
   ],
   "source": [
    "print(listaA[0][2]) # pegando o indice 02 da matriz listaA"
   ]
  },
  {
   "cell_type": "code",
   "execution_count": 57,
   "id": "879f14a7",
   "metadata": {},
   "outputs": [
    {
     "name": "stdout",
     "output_type": "stream",
     "text": [
      "[[(0, 0), (0, 1), (0, 2)], [(1, 0), (1, 1), (1, 2)], [(2, 0), (2, 1), (2, 2)]]\n"
     ]
    }
   ],
   "source": [
    "# EXEMPLO (Não espero que entenda o que foi feito aqui, apenas observa a questão dos indices das listas)\n",
    "# Atribuindo um o \"valor do índice\" ao respectivo índice de uma matriz\n",
    "i = 0\n",
    "\n",
    "while i < len(listaA):\n",
    "    j = 0\n",
    "    while j < len(listaA[i]):\n",
    "        listaA[i][j] = i,j\n",
    "        j += 1\n",
    "    i += 1\n",
    "    \n",
    "print(listaA)"
   ]
  },
  {
   "cell_type": "code",
   "execution_count": 58,
   "id": "0cd28c6b",
   "metadata": {},
   "outputs": [
    {
     "name": "stdout",
     "output_type": "stream",
     "text": [
      "[(0, 0), (0, 1), (0, 2)]\n",
      "[(1, 0), (1, 1), (1, 2)]\n",
      "[(2, 0), (2, 1), (2, 2)]\n"
     ]
    }
   ],
   "source": [
    "# Visualização na forma \"convencional\" de matriz\n",
    "linha1 = str(listaA[0:][0])\n",
    "linha2 = str(listaA[1:][0])\n",
    "linha3 = str(listaA[2:][0])\n",
    "print(linha1 + \"\\n\" + linha2 + \"\\n\" + linha3)"
   ]
  },
  {
   "cell_type": "code",
   "execution_count": 59,
   "id": "f61b1077",
   "metadata": {},
   "outputs": [
    {
     "name": "stdout",
     "output_type": "stream",
     "text": [
      "[[1, 2], [3, 4], [5, 6], [7, 8], 9, 10, 11, 12]\n"
     ]
    }
   ],
   "source": [
    "# Concatenação de listas\n",
    "list1 = [[1, 2], [3, 4], [5, 6], [7, 8]]\n",
    "list2 = [9, 10, 11, 12]\n",
    "list_conc = list1 + list2\n",
    "print(list_conc)"
   ]
  },
  {
   "cell_type": "markdown",
   "id": "8b355ac9",
   "metadata": {},
   "source": [
    "#### Operador in"
   ]
  },
  {
   "cell_type": "markdown",
   "id": "6677f512",
   "metadata": {},
   "source": [
    "Verifica se existe o elemento desejado em um lista. True caso exista, False caso contrario."
   ]
  },
  {
   "cell_type": "code",
   "execution_count": 60,
   "id": "8e3bab9a",
   "metadata": {},
   "outputs": [
    {
     "name": "stdout",
     "output_type": "stream",
     "text": [
      "True\n",
      "False\n"
     ]
    }
   ],
   "source": [
    "print(12 in list_conc)\n",
    "print(20 in list_conc)"
   ]
  },
  {
   "cell_type": "markdown",
   "id": "fb8718ef",
   "metadata": {},
   "source": [
    "#### Funções Built-in para listas"
   ]
  },
  {
   "cell_type": "code",
   "execution_count": 61,
   "id": "e8e2a19e",
   "metadata": {},
   "outputs": [
    {
     "name": "stdout",
     "output_type": "stream",
     "text": [
      "2\n",
      "8\n"
     ]
    }
   ],
   "source": [
    "# Retorna o tamanho (quantidade de elementos) da lista\n",
    "print(len(list_conc[1]))\n",
    "print(len(list_conc))"
   ]
  },
  {
   "cell_type": "code",
   "execution_count": 62,
   "id": "0c57cd25",
   "metadata": {},
   "outputs": [
    {
     "name": "stdout",
     "output_type": "stream",
     "text": [
      "12\n"
     ]
    }
   ],
   "source": [
    "# Retorna o valor máximo de uma lista\n",
    "print(max(list2))"
   ]
  },
  {
   "cell_type": "code",
   "execution_count": 63,
   "id": "7d4408df",
   "metadata": {},
   "outputs": [
    {
     "name": "stdout",
     "output_type": "stream",
     "text": [
      "9\n"
     ]
    }
   ],
   "source": [
    "# Retorna o valor minimo de uma lista\n",
    "print(min(list2))"
   ]
  },
  {
   "cell_type": "code",
   "execution_count": 64,
   "id": "1dc9b66c",
   "metadata": {},
   "outputs": [
    {
     "name": "stdout",
     "output_type": "stream",
     "text": [
      "[5.0, 'leite', 100, 'carne']\n"
     ]
    }
   ],
   "source": [
    "# Adiciona um elemento no último indice \n",
    "lista.append(\"carne\")\n",
    "print(lista)"
   ]
  },
  {
   "cell_type": "code",
   "execution_count": 65,
   "id": "3ee6fb00",
   "metadata": {},
   "outputs": [
    {
     "data": {
      "text/plain": [
       "1"
      ]
     },
     "execution_count": 65,
     "metadata": {},
     "output_type": "execute_result"
    }
   ],
   "source": [
    "# Conta quantas vezes um elemento aparece na lista \n",
    "lista.count(\"carne\")"
   ]
  },
  {
   "cell_type": "code",
   "execution_count": 66,
   "id": "f28d7245",
   "metadata": {},
   "outputs": [
    {
     "name": "stdout",
     "output_type": "stream",
     "text": [
      "[1, 2, 3, 4, 5, 6]\n"
     ]
    }
   ],
   "source": [
    "# Merge listas\n",
    "#lista.extend([2,\"novo item\"])\n",
    "#print(lista)\n",
    "test = [1, 2, 3, 4]\n",
    "test1 = [5, 6]\n",
    "test.extend(test1)\n",
    "print(test)"
   ]
  },
  {
   "cell_type": "code",
   "execution_count": 67,
   "id": "fdabdb35",
   "metadata": {},
   "outputs": [
    {
     "data": {
      "text/plain": [
       "3"
      ]
     },
     "execution_count": 67,
     "metadata": {},
     "output_type": "execute_result"
    }
   ],
   "source": [
    "#Retorna o indice da primeira vez que o elemento aparece na lista\n",
    "lista.index(\"carne\")"
   ]
  },
  {
   "cell_type": "code",
   "execution_count": 68,
   "id": "6009f1e6",
   "metadata": {},
   "outputs": [
    {
     "name": "stdout",
     "output_type": "stream",
     "text": [
      "[1, 'carro', 2, 3, 4, 5, 6]\n"
     ]
    }
   ],
   "source": [
    "# Insere um elemento à lista em uma posição especifica. test.insert(1,\"carro\") vai inserir o elemento carro na posição 2 (indice 1).\n",
    "test.insert(1, \"carro\")\n",
    "print(test)"
   ]
  },
  {
   "cell_type": "code",
   "execution_count": 69,
   "id": "2807ccc1",
   "metadata": {},
   "outputs": [
    {
     "name": "stdout",
     "output_type": "stream",
     "text": [
      "[1, 'carro', 2, 3, 4, 5]\n"
     ]
    }
   ],
   "source": [
    "# Remove um elemento da lista\n",
    "test.remove(6)\n",
    "print(test)"
   ]
  },
  {
   "cell_type": "code",
   "execution_count": 70,
   "id": "13cbc27a",
   "metadata": {},
   "outputs": [
    {
     "name": "stdout",
     "output_type": "stream",
     "text": [
      "[5, 4, 3, 2, 1]\n"
     ]
    }
   ],
   "source": [
    "# Retorna a lista na ordem inversa\n",
    "test.reverse()\n",
    "test.remove(\"carro\")\n",
    "print(test)"
   ]
  },
  {
   "cell_type": "code",
   "execution_count": 71,
   "id": "c397b8a1",
   "metadata": {},
   "outputs": [
    {
     "name": "stdout",
     "output_type": "stream",
     "text": [
      "[1, 2, 3, 4, 5]\n"
     ]
    }
   ],
   "source": [
    "# Retorna a lista reordenada em ordem crescente\n",
    "test.sort()\n",
    "print(test)"
   ]
  },
  {
   "cell_type": "markdown",
   "id": "20ad710a",
   "metadata": {},
   "source": [
    "## Dicionários"
   ]
  },
  {
   "cell_type": "markdown",
   "id": "a524accf",
   "metadata": {},
   "source": [
    "Dicionários são estruturas de dados que mutáveis e que se caracteriza pela utilização de \"chaves\" (key) e \"valores\" (value) ao invés dos índices simples das listas e enquanto listas e tuplas(vamos discutir logo mais) são ordenadas, os dicionários não tem uma ordem específica (o que não atrapalha, uma vez que estamos trabalhando com mapeamento usando as keys). Por exemplo, num dicionário, sempre é gravado um <b>par</b> de key: value em cada elemento. Os dicionários são declarados da seguinte forma: <b>dict_name = {key1: value1, key2: value2, ...}</b>.<br>Uma boa prática de programação em Python usando dicionários é usar strings como as chaves ao invés de tipos numéricos pois <b>as keys funcionam como uma espécie de \"índice\" para buscar, mapear e manipular os dados do dicionário</b>, entretanto, quanto ao valor, não há nenhuma restrição de tipo de dado. Outra boa prática é não usar o mesmo \"nome\" para keys e values, pois isso pode evitar algum bug na execuação ou confusão de quem está fazendo manutenção no código."
   ]
  },
  {
   "cell_type": "code",
   "execution_count": 72,
   "id": "04a8f0e6",
   "metadata": {},
   "outputs": [],
   "source": [
    "dict_test = {\"nome\": \"João\", \n",
    "             \"idade\": 24, \n",
    "             \"hobbies\": (\"Estudar\", \"programar\", \"assistir conteúdo audiovisual\", \"jogar\"),\n",
    "            \"email\": \"testeteste@test.ts\"}"
   ]
  },
  {
   "cell_type": "code",
   "execution_count": 73,
   "id": "5dd12df2",
   "metadata": {},
   "outputs": [
    {
     "name": "stdout",
     "output_type": "stream",
     "text": [
      "O nome é:  João\n",
      "A idade é:  24\n",
      "Hobbies:  ('Estudar', 'programar', 'assistir conteúdo audiovisual', 'jogar')\n",
      "E-mail:  testeteste@test.ts\n"
     ]
    }
   ],
   "source": [
    "print(\"O nome é: \", dict_test[\"nome\"])\n",
    "print(\"A idade é: \", dict_test[\"idade\"])\n",
    "print(\"Hobbies: \", dict_test[\"hobbies\"])\n",
    "print(\"E-mail: \", dict_test[\"email\"])"
   ]
  },
  {
   "cell_type": "markdown",
   "id": "b1479b90",
   "metadata": {},
   "source": [
    "Podemos atribuir dados ao dicionário usando:"
   ]
  },
  {
   "cell_type": "code",
   "execution_count": 74,
   "id": "46610eda",
   "metadata": {},
   "outputs": [
    {
     "name": "stdout",
     "output_type": "stream",
     "text": [
      "{'nome': 'João', 'idade': 24, 'hobbies': ('Estudar', 'programar', 'assistir conteúdo audiovisual', 'jogar'), 'email': 'hahaha@haha.ha'}\n"
     ]
    }
   ],
   "source": [
    "dict_test[\"email\"] = \"hahaha@haha.ha\" # Atribuindo um novo valor à uma key já existente.\n",
    "print(dict_test)"
   ]
  },
  {
   "cell_type": "markdown",
   "id": "daa5f408",
   "metadata": {},
   "source": [
    "Podemos ainda inserir novos dados no nosso dicionário usando essa atribuição também, pois caso a chave passada como índice não exista, ela pe criada automáticamente. Veja:"
   ]
  },
  {
   "cell_type": "code",
   "execution_count": 75,
   "id": "65e5a6fa",
   "metadata": {},
   "outputs": [
    {
     "name": "stdout",
     "output_type": "stream",
     "text": [
      "{'nome': 'João', 'idade': 24, 'hobbies': ('Estudar', 'programar', 'assistir conteúdo audiovisual', 'jogar'), 'email': 'hahaha@haha.ha', 'Novo item': 'Test_dict'}\n"
     ]
    }
   ],
   "source": [
    "dict_test[\"Novo item\"] = \"Test_dict\" # Inserindo uma nova key atráves de atribuição do seu valor.\n",
    "print(dict_test)"
   ]
  },
  {
   "cell_type": "markdown",
   "id": "cd07a64d",
   "metadata": {},
   "source": [
    "Podemos também limpar todos os dados de um dicionário caso seja necessário, usando:"
   ]
  },
  {
   "cell_type": "code",
   "execution_count": 76,
   "id": "0c801e5e",
   "metadata": {},
   "outputs": [
    {
     "name": "stdout",
     "output_type": "stream",
     "text": [
      "{}\n"
     ]
    }
   ],
   "source": [
    "dict_test.clear()\n",
    "print(dict_test)"
   ]
  },
  {
   "cell_type": "markdown",
   "id": "5ec59b6d",
   "metadata": {},
   "source": [
    "Já para deletar um dicionário, o que devemos fazer é:"
   ]
  },
  {
   "cell_type": "code",
   "execution_count": 77,
   "id": "b7b3412d",
   "metadata": {},
   "outputs": [
    {
     "ename": "NameError",
     "evalue": "name 'dict_test' is not defined",
     "output_type": "error",
     "traceback": [
      "\u001b[0;31m---------------------------------------------------------------------------\u001b[0m",
      "\u001b[0;31mNameError\u001b[0m                                 Traceback (most recent call last)",
      "\u001b[0;32m/tmp/ipykernel_6397/1195083553.py\u001b[0m in \u001b[0;36m<module>\u001b[0;34m\u001b[0m\n\u001b[1;32m      1\u001b[0m \u001b[0;32mdel\u001b[0m \u001b[0mdict_test\u001b[0m\u001b[0;34m\u001b[0m\u001b[0;34m\u001b[0m\u001b[0m\n\u001b[0;32m----> 2\u001b[0;31m \u001b[0mprint\u001b[0m\u001b[0;34m(\u001b[0m\u001b[0mdict_test\u001b[0m\u001b[0;34m)\u001b[0m\u001b[0;34m\u001b[0m\u001b[0;34m\u001b[0m\u001b[0m\n\u001b[0m",
      "\u001b[0;31mNameError\u001b[0m: name 'dict_test' is not defined"
     ]
    }
   ],
   "source": [
    "del dict_test\n",
    "print(dict_test)"
   ]
  },
  {
   "cell_type": "markdown",
   "id": "a21b3df2",
   "metadata": {},
   "source": [
    "O tamanho do dicionário é computado pela quantidade <b>Pares</b>, não pela \"quantidade inidivual\" uma vez que cada elemento do dicionário é um par <b>k:v</b>. Dessa forma, para descobrir o tamanho do dicionário, ou seja quantos pares de dados, existem podemos usar: "
   ]
  },
  {
   "cell_type": "code",
   "execution_count": 78,
   "id": "df5dad1d",
   "metadata": {},
   "outputs": [],
   "source": [
    "dtest = {\"k1\": \"v1\", \"k2\": \"v2\", \"k3\": \"v3\", \"k4\": \"v4\"}"
   ]
  },
  {
   "cell_type": "code",
   "execution_count": 79,
   "id": "80f966f6",
   "metadata": {},
   "outputs": [
    {
     "data": {
      "text/plain": [
       "4"
      ]
     },
     "execution_count": 79,
     "metadata": {},
     "output_type": "execute_result"
    }
   ],
   "source": [
    "len(dtest)"
   ]
  },
  {
   "cell_type": "markdown",
   "id": "6c2701c4",
   "metadata": {},
   "source": [
    "Caso precise identificar quais as chaves ou os valores do dicionários sem ter que ficar verificando todo o dicionário, pode usar as funções Built-in:"
   ]
  },
  {
   "cell_type": "code",
   "execution_count": 80,
   "id": "8878e603",
   "metadata": {},
   "outputs": [
    {
     "name": "stdout",
     "output_type": "stream",
     "text": [
      "dict_keys(['k1', 'k2', 'k3', 'k4'])\n",
      "dict_values(['v1', 'v2', 'v3', 'v4'])\n"
     ]
    }
   ],
   "source": [
    "print(dtest.keys()) # Retorna as chaves (keys)\n",
    "print(dtest.values()) # Retorna os valores (values)"
   ]
  },
  {
   "cell_type": "markdown",
   "id": "455863ca",
   "metadata": {},
   "source": [
    "Ainda podemos retornar cada par k:v usando:"
   ]
  },
  {
   "cell_type": "code",
   "execution_count": 81,
   "id": "18cfed43",
   "metadata": {},
   "outputs": [
    {
     "name": "stdout",
     "output_type": "stream",
     "text": [
      "dict_items([('k1', 'v1'), ('k2', 'v2'), ('k3', 'v3'), ('k4', 'v4')])\n"
     ]
    }
   ],
   "source": [
    "print(dtest.items())"
   ]
  },
  {
   "cell_type": "markdown",
   "id": "22b27413",
   "metadata": {},
   "source": [
    "Podemos ainda fazer um <b>Merge</b> entre dicionários. Veja:"
   ]
  },
  {
   "cell_type": "code",
   "execution_count": 82,
   "id": "1e3432dc",
   "metadata": {},
   "outputs": [],
   "source": [
    "dtest2 = {\"kk1\": \"vv1\", \"kk2\": \"vv2\", \"kk3\": \"vv3\"}"
   ]
  },
  {
   "cell_type": "code",
   "execution_count": 83,
   "id": "f7bb0e30",
   "metadata": {},
   "outputs": [
    {
     "name": "stdout",
     "output_type": "stream",
     "text": [
      "{'k1': 'v1', 'k2': 'v2', 'k3': 'v3', 'k4': 'v4', 'kk1': 'vv1', 'kk2': 'vv2', 'kk3': 'vv3'}\n"
     ]
    }
   ],
   "source": [
    "dtest.update(dtest2) # Realizando o merge do dicionário 'dtest2' no 'dtest'.\n",
    "print(dtest)"
   ]
  },
  {
   "cell_type": "markdown",
   "id": "735e2379",
   "metadata": {},
   "source": [
    "É possível ainda fazer operações diretamento usando o slicing do dicionário. Por exemplo, imagine que tenha o dicionário:"
   ]
  },
  {
   "cell_type": "code",
   "execution_count": 84,
   "id": "38827245",
   "metadata": {},
   "outputs": [],
   "source": [
    "op_dict = {\"key1\": \"oi\", \"key2\": 31, \"key3\": 2.987}"
   ]
  },
  {
   "cell_type": "code",
   "execution_count": 85,
   "id": "660682ad",
   "metadata": {},
   "outputs": [
    {
     "name": "stdout",
     "output_type": "stream",
     "text": [
      "{'key1': 'oi, tudo bem?', 'key2': 19, 'key3': 14.935}\n"
     ]
    }
   ],
   "source": [
    "op_dict[\"key1\"] += \", tudo bem?\"\n",
    "op_dict[\"key2\"] -= 12\n",
    "op_dict[\"key3\"] *= 5\n",
    "print(op_dict)"
   ]
  },
  {
   "cell_type": "markdown",
   "id": "ee48af70",
   "metadata": {},
   "source": [
    "### Dicionários Aninhados\n",
    "\n",
    "Assim como Listas, podemos aninhas dicionários também. Podemos realizar aninhação com listas e com outros dicionários."
   ]
  },
  {
   "cell_type": "markdown",
   "id": "b9e75d6d",
   "metadata": {},
   "source": [
    "#### Aninhamento com Listas"
   ]
  },
  {
   "cell_type": "code",
   "execution_count": 86,
   "id": "5e245662",
   "metadata": {},
   "outputs": [
    {
     "name": "stdout",
     "output_type": "stream",
     "text": [
      "{'lista_1': ['oi', ',', 'tudo', 'bem', '?'], 'lista_2': [1, 2, 3, 4, 5], 'lista_3': [[0, 'a', 'A'], [1, 'b', 'B'], [2, 'c', 'C']], 'key4': ['a', 'b', 'c'], 'key5': ['A', 'B', 'C']}\n"
     ]
    }
   ],
   "source": [
    "lista1 = [\"oi\", \",\", \"tudo\", \"bem\", \"?\"]\n",
    "lista2 = [1, 2, 3, 4, 5]\n",
    "lista3 = [[0, \"a\", \"A\"], [1, \"b\", \"B\"], [2, \"c\", \"C\"]]\n",
    "\n",
    "dict1 = {\"lista_1\": lista1, \"lista_2\": lista2, \"lista_3\": lista3, \"key4\": [\"a\", \"b\", \"c\"], \"key5\": [\"A\", \"B\", \"C\"]}\n",
    "print(dict1)"
   ]
  },
  {
   "cell_type": "markdown",
   "id": "7bcec6c7",
   "metadata": {},
   "source": [
    "#### Aninhamento com dicionários"
   ]
  },
  {
   "cell_type": "code",
   "execution_count": 87,
   "id": "0e43bb55",
   "metadata": {},
   "outputs": [],
   "source": [
    "Infos_Joao = {\"nome\": \"João\", \"idade\": 24, \"email\": \"hahaha@haha.ha\", \"qqrCoisa\": \"sei la\"}\n",
    "Infos_Alguem = {\"nome\": \"Alguém\", \"idade\": 23, \"email\": \"hehehe@hehe.he\", \"qqrCoisa\": \"sei la1\"}\n",
    "Infos_Outro = {\"nome\": \"Outro\", \"idade\": 25, \"email\": \"hihihi@hihi.hi\", \"qqrCoisa\": \"sei la2\"}"
   ]
  },
  {
   "cell_type": "code",
   "execution_count": 88,
   "id": "da69d0cd",
   "metadata": {},
   "outputs": [
    {
     "name": "stdout",
     "output_type": "stream",
     "text": [
      "{'joao': {'nome': 'João', 'idade': 24, 'email': 'hahaha@haha.ha', 'qqrCoisa': 'sei la'}, 'alguem': {'nome': 'Alguém', 'idade': 23, 'email': 'hehehe@hehe.he', 'qqrCoisa': 'sei la1'}, 'outro': {'nome': 'Outro', 'idade': 25, 'email': 'hihihi@hihi.hi', 'qqrCoisa': 'sei la2'}}\n"
     ]
    }
   ],
   "source": [
    "users = {\"joao\": Infos_Joao, \"alguem\": Infos_Alguem, \"outro\": Infos_Outro}\n",
    "print(users)"
   ]
  },
  {
   "cell_type": "code",
   "execution_count": 89,
   "id": "c1f19edf",
   "metadata": {},
   "outputs": [
    {
     "name": "stdout",
     "output_type": "stream",
     "text": [
      "O nome do User é João e ele tem 24 anos.\n",
      "O nome do User é Alguém e ele tem 23 anos.\n",
      "O nome do User é Outro e ele tem 25 anos.\n"
     ]
    }
   ],
   "source": [
    "for k in users:\n",
    "    msg = \"O nome do User é %s e ele tem %s anos.\" % (users[k][\"nome\"], users[k][\"idade\"])\n",
    "    print(msg)"
   ]
  },
  {
   "cell_type": "markdown",
   "id": "249c38c8",
   "metadata": {},
   "source": [
    "## Tuplas"
   ]
  },
  {
   "cell_type": "markdown",
   "id": "e3d807c6",
   "metadata": {},
   "source": [
    "Tuplas são uma estrutura de dados semelhantes às Listas, entretanto assim com Strings, elas são <b>imutáveis.</b> São declaradas da seguinte forma: <b>tuple = (item1, item2, ...).</b>\n",
    "<br>\n",
    "Devem ser usadas para armazenar objetos que não sofrem mutação no decorrer do código, como por exemplo, se precisarmos trabalhar com os dias da semana, podemos armazená-los em uma tupla para manipular seus dados (sem mudar nenhum objeto, posição ou valor).\n",
    "<br>\n",
    "Mesmo sendo imutáveis, ainda podemos usar diversos métodos que vimos nos exemplos de litas, como por exemplo:"
   ]
  },
  {
   "cell_type": "code",
   "execution_count": 90,
   "id": "25d94266",
   "metadata": {},
   "outputs": [
    {
     "name": "stdout",
     "output_type": "stream",
     "text": [
      "Arroz\n"
     ]
    }
   ],
   "source": [
    "# Usar um elemento atráves de seu índice\n",
    "\n",
    "t1 = (\"Arroz\", \"Feijão\", \"Carne\")\n",
    "\n",
    "print(t1[0])"
   ]
  },
  {
   "cell_type": "code",
   "execution_count": 91,
   "id": "a89d65a1",
   "metadata": {},
   "outputs": [
    {
     "name": "stdout",
     "output_type": "stream",
     "text": [
      "('Feijão', 'Carne')\n"
     ]
    }
   ],
   "source": [
    "# Fazer slicing de uma tupla\n",
    "\n",
    "a = t1[1:]\n",
    "print(a)"
   ]
  },
  {
   "cell_type": "code",
   "execution_count": 92,
   "id": "28e2ecca",
   "metadata": {},
   "outputs": [
    {
     "name": "stdout",
     "output_type": "stream",
     "text": [
      "3\n"
     ]
    }
   ],
   "source": [
    "# Verificar o tamanho de um tupla\n",
    "\n",
    "print(len(t1))"
   ]
  },
  {
   "cell_type": "code",
   "execution_count": 93,
   "id": "7abc5c0d",
   "metadata": {},
   "outputs": [
    {
     "name": "stdout",
     "output_type": "stream",
     "text": [
      "1\n"
     ]
    }
   ],
   "source": [
    "# Verificando indices\n",
    "\n",
    "print(t1.index(\"Feijão\"))"
   ]
  },
  {
   "cell_type": "code",
   "execution_count": 94,
   "id": "0b16c420",
   "metadata": {},
   "outputs": [
    {
     "ename": "NameError",
     "evalue": "name 't1' is not defined",
     "output_type": "error",
     "traceback": [
      "\u001b[0;31m---------------------------------------------------------------------------\u001b[0m",
      "\u001b[0;31mNameError\u001b[0m                                 Traceback (most recent call last)",
      "\u001b[0;32m/tmp/ipykernel_6397/2204762151.py\u001b[0m in \u001b[0;36m<module>\u001b[0;34m\u001b[0m\n\u001b[1;32m      3\u001b[0m \u001b[0;32mdel\u001b[0m \u001b[0mt1\u001b[0m\u001b[0;34m\u001b[0m\u001b[0;34m\u001b[0m\u001b[0m\n\u001b[1;32m      4\u001b[0m \u001b[0;34m\u001b[0m\u001b[0m\n\u001b[0;32m----> 5\u001b[0;31m \u001b[0mprint\u001b[0m\u001b[0;34m(\u001b[0m\u001b[0mt1\u001b[0m\u001b[0;34m)\u001b[0m\u001b[0;34m\u001b[0m\u001b[0;34m\u001b[0m\u001b[0m\n\u001b[0m",
      "\u001b[0;31mNameError\u001b[0m: name 't1' is not defined"
     ]
    }
   ],
   "source": [
    "# deletar uma tupla inteira\n",
    "\n",
    "del t1\n",
    "\n",
    "print(t1)"
   ]
  },
  {
   "cell_type": "markdown",
   "id": "02b62d93",
   "metadata": {},
   "source": [
    "Para verficar a imutabilidade de tuplas, podemos fazer:"
   ]
  },
  {
   "cell_type": "code",
   "execution_count": 95,
   "id": "28c15bc9",
   "metadata": {},
   "outputs": [],
   "source": [
    "t2 = (1, 2, 3, \"a\")"
   ]
  },
  {
   "cell_type": "code",
   "execution_count": 96,
   "id": "bac84fc7",
   "metadata": {},
   "outputs": [
    {
     "ename": "AttributeError",
     "evalue": "'tuple' object has no attribute 'append'",
     "output_type": "error",
     "traceback": [
      "\u001b[0;31m---------------------------------------------------------------------------\u001b[0m",
      "\u001b[0;31mAttributeError\u001b[0m                            Traceback (most recent call last)",
      "\u001b[0;32m/tmp/ipykernel_6397/3348379285.py\u001b[0m in \u001b[0;36m<module>\u001b[0;34m\u001b[0m\n\u001b[1;32m      1\u001b[0m \u001b[0;31m# Tentando fazer um 'append' na tupla\u001b[0m\u001b[0;34m\u001b[0m\u001b[0;34m\u001b[0m\u001b[0m\n\u001b[1;32m      2\u001b[0m \u001b[0;34m\u001b[0m\u001b[0m\n\u001b[0;32m----> 3\u001b[0;31m \u001b[0mt2\u001b[0m\u001b[0;34m.\u001b[0m\u001b[0mappend\u001b[0m\u001b[0;34m(\u001b[0m\u001b[0;34m\"b\"\u001b[0m\u001b[0;34m)\u001b[0m\u001b[0;34m\u001b[0m\u001b[0;34m\u001b[0m\u001b[0m\n\u001b[0m",
      "\u001b[0;31mAttributeError\u001b[0m: 'tuple' object has no attribute 'append'"
     ]
    }
   ],
   "source": [
    "# Tentando fazer um 'append' na tupla\n",
    "\n",
    "t2.append(\"b\")"
   ]
  },
  {
   "cell_type": "code",
   "execution_count": 97,
   "id": "89d3ad34",
   "metadata": {},
   "outputs": [
    {
     "ename": "TypeError",
     "evalue": "'tuple' object doesn't support item deletion",
     "output_type": "error",
     "traceback": [
      "\u001b[0;31m---------------------------------------------------------------------------\u001b[0m",
      "\u001b[0;31mTypeError\u001b[0m                                 Traceback (most recent call last)",
      "\u001b[0;32m/tmp/ipykernel_6397/2629456967.py\u001b[0m in \u001b[0;36m<module>\u001b[0;34m\u001b[0m\n\u001b[1;32m      1\u001b[0m \u001b[0;31m# tentando deletar um elemento específico\u001b[0m\u001b[0;34m\u001b[0m\u001b[0;34m\u001b[0m\u001b[0m\n\u001b[1;32m      2\u001b[0m \u001b[0;34m\u001b[0m\u001b[0m\n\u001b[0;32m----> 3\u001b[0;31m \u001b[0;32mdel\u001b[0m \u001b[0mt2\u001b[0m\u001b[0;34m[\u001b[0m\u001b[0;36m3\u001b[0m\u001b[0;34m]\u001b[0m\u001b[0;34m\u001b[0m\u001b[0;34m\u001b[0m\u001b[0m\n\u001b[0m",
      "\u001b[0;31mTypeError\u001b[0m: 'tuple' object doesn't support item deletion"
     ]
    }
   ],
   "source": [
    "# tentando deletar um elemento específico\n",
    "\n",
    "del t2[3]"
   ]
  },
  {
   "cell_type": "code",
   "execution_count": 98,
   "id": "73b1c054",
   "metadata": {},
   "outputs": [
    {
     "ename": "TypeError",
     "evalue": "'tuple' object does not support item assignment",
     "output_type": "error",
     "traceback": [
      "\u001b[0;31m---------------------------------------------------------------------------\u001b[0m",
      "\u001b[0;31mTypeError\u001b[0m                                 Traceback (most recent call last)",
      "\u001b[0;32m/tmp/ipykernel_6397/397188287.py\u001b[0m in \u001b[0;36m<module>\u001b[0;34m\u001b[0m\n\u001b[1;32m      1\u001b[0m \u001b[0;31m# Tentando atribuir um novo valor para um índice\u001b[0m\u001b[0;34m\u001b[0m\u001b[0;34m\u001b[0m\u001b[0m\n\u001b[1;32m      2\u001b[0m \u001b[0;34m\u001b[0m\u001b[0m\n\u001b[0;32m----> 3\u001b[0;31m \u001b[0mt2\u001b[0m\u001b[0;34m[\u001b[0m\u001b[0;36m0\u001b[0m\u001b[0;34m]\u001b[0m \u001b[0;34m=\u001b[0m \u001b[0;34m\"OI\"\u001b[0m\u001b[0;34m\u001b[0m\u001b[0;34m\u001b[0m\u001b[0m\n\u001b[0m",
      "\u001b[0;31mTypeError\u001b[0m: 'tuple' object does not support item assignment"
     ]
    }
   ],
   "source": [
    "# Tentando atribuir um novo valor para um índice\n",
    "\n",
    "t2[0] = \"OI\""
   ]
  },
  {
   "cell_type": "markdown",
   "id": "c5301777",
   "metadata": {},
   "source": [
    "Para fazer modificações em tuplas, se necessário, não precisamos deletar a tupla e recriar com a alteração desejada. Podemos converter tuplas em listas, fazer operações e depois converter novamente para tuplas. Veja"
   ]
  },
  {
   "cell_type": "code",
   "execution_count": 99,
   "id": "99fbba83",
   "metadata": {},
   "outputs": [
    {
     "name": "stdout",
     "output_type": "stream",
     "text": [
      "[1, 2, 3, 'a']\n"
     ]
    }
   ],
   "source": [
    "t2 = list(t2)\n",
    "print(t2)"
   ]
  },
  {
   "cell_type": "code",
   "execution_count": 100,
   "id": "33cc7fb9",
   "metadata": {},
   "outputs": [
    {
     "name": "stdout",
     "output_type": "stream",
     "text": [
      "[1, 'haha', 6, 'novo item']\n"
     ]
    }
   ],
   "source": [
    "t2.remove(\"a\")\n",
    "t2[1] = \"haha\"\n",
    "t2.append(\"novo item\")\n",
    "t2[2] *= 2\n",
    "\n",
    "print(t2)"
   ]
  },
  {
   "cell_type": "code",
   "execution_count": 101,
   "id": "421959e2",
   "metadata": {},
   "outputs": [
    {
     "name": "stdout",
     "output_type": "stream",
     "text": [
      "(1, 'haha', 6, 'novo item')\n"
     ]
    }
   ],
   "source": [
    "t2 = tuple(t2)\n",
    "print(t2)"
   ]
  },
  {
   "cell_type": "code",
   "execution_count": null,
   "id": "1b503b68",
   "metadata": {},
   "outputs": [],
   "source": []
  }
 ],
 "metadata": {
  "kernelspec": {
   "display_name": "Python 3 (ipykernel)",
   "language": "python",
   "name": "python3"
  },
  "language_info": {
   "codemirror_mode": {
    "name": "ipython",
    "version": 3
   },
   "file_extension": ".py",
   "mimetype": "text/x-python",
   "name": "python",
   "nbconvert_exporter": "python",
   "pygments_lexer": "ipython3",
   "version": "3.9.7"
  }
 },
 "nbformat": 4,
 "nbformat_minor": 5
}
