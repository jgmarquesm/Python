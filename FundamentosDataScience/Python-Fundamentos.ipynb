{
 "cells": [
  {
   "cell_type": "markdown",
   "id": "70a02fe3",
   "metadata": {},
   "source": [
    "# Bem-vindo! Este notebook foi escrito para te auxiliar nos estudos da LP Python3. \n",
    "### Espero que goste e aprenda com esse material."
   ]
  },
  {
   "cell_type": "markdown",
   "id": "128eb473",
   "metadata": {},
   "source": [
    "## Variáveis\n",
    "Em Python existem 4 tipos de variáveis: Numéricas (divididas em int e float), Strings (str) e Booleans (bool).\n",
    "### Exemplos\n",
    "int = ..., -3, -2, -1, 0, 1, 2, 3, ...;<br>\n",
    "float = ..., -3.0, -3.1, -3.11, ..., -2.0, ..., -1.0, ..., -0.5, ..., 0.0, 1.0, ...;<br>\n",
    "str = \"este texto é uma string\" (sempre declarada usando ' ' ou \" \"); <br>\n",
    "bool = True ou False (sempre com a primeira letra em maiúsculo)."
   ]
  },
  {
   "cell_type": "markdown",
   "id": "57517ac4",
   "metadata": {},
   "source": [
    "## Operações com variáveis\n",
    "\n",
    "Existem vários tipos de operações possíveis de se fazer com as variáveis. As mais comuns são: $+, -, *, /, **, //, %.$<br>\n",
    "Mas o que significa cada um desses símbolos?<br>\n",
    "Certo! Vamos por partes...<br>\n",
    "O símbolo $+$ é usado para adição ou concatenação de variáveis.<br>\n",
    "O símbolo $-$ é usado para subtração de variáveis.<br>\n",
    "O símbolo $*$ é usado para multiplicação de variáveis.<br>\n",
    "O símbolo $/$ é usado para divisão de variáveis.<br>\n",
    "O símbolo $**$ é usado para indicar potenciação.<br>\n",
    "O símbolo $//$ é usado para extrair a parte inteira de uma divisão variáveis.<br>\n",
    "O símbolo $%$ é usado para retornar o resto da divisão entre variáveis.<br>\n",
    "<br>\n",
    "Seguem a mesma lógica da matemática, ou seja, se usarmos parenteses, estaremos priorizando a opreação.<br>\n",
    "<b>Apesar representarem simples operações matemáticas, deve-se ter cuidado ao tipo de dado que é retornado ao realizarmos essas operações.<br>\n",
    "Por exemplo as operações com variáveis númericas:<br>"
   ]
  },
  {
   "cell_type": "code",
   "execution_count": 1,
   "id": "e4cf3ee9",
   "metadata": {},
   "outputs": [
    {
     "data": {
      "text/plain": [
       "4"
      ]
     },
     "execution_count": 1,
     "metadata": {},
     "output_type": "execute_result"
    }
   ],
   "source": [
    "2 + 2"
   ]
  },
  {
   "cell_type": "code",
   "execution_count": 2,
   "id": "8a9289d3",
   "metadata": {},
   "outputs": [
    {
     "data": {
      "text/plain": [
       "4.0"
      ]
     },
     "execution_count": 2,
     "metadata": {},
     "output_type": "execute_result"
    }
   ],
   "source": [
    "2 + 2.0"
   ]
  },
  {
   "cell_type": "code",
   "execution_count": 3,
   "id": "437afa38",
   "metadata": {},
   "outputs": [
    {
     "data": {
      "text/plain": [
       "2"
      ]
     },
     "execution_count": 3,
     "metadata": {},
     "output_type": "execute_result"
    }
   ],
   "source": [
    "4 - 2"
   ]
  },
  {
   "cell_type": "code",
   "execution_count": 4,
   "id": "e6cceb8b",
   "metadata": {},
   "outputs": [
    {
     "data": {
      "text/plain": [
       "2.0"
      ]
     },
     "execution_count": 4,
     "metadata": {},
     "output_type": "execute_result"
    }
   ],
   "source": [
    "4.0 - 2"
   ]
  },
  {
   "cell_type": "code",
   "execution_count": 5,
   "id": "70784b06",
   "metadata": {},
   "outputs": [
    {
     "data": {
      "text/plain": [
       "4"
      ]
     },
     "execution_count": 5,
     "metadata": {},
     "output_type": "execute_result"
    }
   ],
   "source": [
    "2 * 2"
   ]
  },
  {
   "cell_type": "code",
   "execution_count": 6,
   "id": "98a5410a",
   "metadata": {},
   "outputs": [
    {
     "data": {
      "text/plain": [
       "3.8"
      ]
     },
     "execution_count": 6,
     "metadata": {},
     "output_type": "execute_result"
    }
   ],
   "source": [
    "2 * 1.9"
   ]
  },
  {
   "cell_type": "code",
   "execution_count": 7,
   "id": "4a1d3c9b",
   "metadata": {},
   "outputs": [
    {
     "data": {
      "text/plain": [
       "5.0"
      ]
     },
     "execution_count": 7,
     "metadata": {},
     "output_type": "execute_result"
    }
   ],
   "source": [
    "10 / 2"
   ]
  },
  {
   "cell_type": "code",
   "execution_count": 8,
   "id": "b5e793aa",
   "metadata": {},
   "outputs": [
    {
     "data": {
      "text/plain": [
       "5.0"
      ]
     },
     "execution_count": 8,
     "metadata": {},
     "output_type": "execute_result"
    }
   ],
   "source": [
    "10.0 / 2.0"
   ]
  },
  {
   "cell_type": "code",
   "execution_count": 9,
   "id": "3c0187b4",
   "metadata": {},
   "outputs": [
    {
     "data": {
      "text/plain": [
       "8"
      ]
     },
     "execution_count": 9,
     "metadata": {},
     "output_type": "execute_result"
    }
   ],
   "source": [
    "2 ** 3"
   ]
  },
  {
   "cell_type": "code",
   "execution_count": 10,
   "id": "b56b6767",
   "metadata": {},
   "outputs": [
    {
     "data": {
      "text/plain": [
       "8.0"
      ]
     },
     "execution_count": 10,
     "metadata": {},
     "output_type": "execute_result"
    }
   ],
   "source": [
    "2 ** 3.0"
   ]
  },
  {
   "cell_type": "code",
   "execution_count": 11,
   "id": "1fd0bcc3",
   "metadata": {},
   "outputs": [
    {
     "data": {
      "text/plain": [
       "5"
      ]
     },
     "execution_count": 11,
     "metadata": {},
     "output_type": "execute_result"
    }
   ],
   "source": [
    "11 // 2"
   ]
  },
  {
   "cell_type": "code",
   "execution_count": 12,
   "id": "8e5e8fcd",
   "metadata": {},
   "outputs": [
    {
     "data": {
      "text/plain": [
       "5.0"
      ]
     },
     "execution_count": 12,
     "metadata": {},
     "output_type": "execute_result"
    }
   ],
   "source": [
    "11.0 // 2"
   ]
  },
  {
   "cell_type": "code",
   "execution_count": 13,
   "id": "89aad2c3",
   "metadata": {},
   "outputs": [
    {
     "data": {
      "text/plain": [
       "5.0"
      ]
     },
     "execution_count": 13,
     "metadata": {},
     "output_type": "execute_result"
    }
   ],
   "source": [
    "11.0 // 2.0"
   ]
  },
  {
   "cell_type": "code",
   "execution_count": 14,
   "id": "b872c55e",
   "metadata": {},
   "outputs": [
    {
     "data": {
      "text/plain": [
       "1"
      ]
     },
     "execution_count": 14,
     "metadata": {},
     "output_type": "execute_result"
    }
   ],
   "source": [
    "11 % 2"
   ]
  },
  {
   "cell_type": "code",
   "execution_count": 15,
   "id": "6495ae97",
   "metadata": {},
   "outputs": [
    {
     "data": {
      "text/plain": [
       "1.0"
      ]
     },
     "execution_count": 15,
     "metadata": {},
     "output_type": "execute_result"
    }
   ],
   "source": [
    "11.0 % 2"
   ]
  },
  {
   "cell_type": "code",
   "execution_count": 16,
   "id": "c23a1c76",
   "metadata": {},
   "outputs": [
    {
     "data": {
      "text/plain": [
       "1.0"
      ]
     },
     "execution_count": 16,
     "metadata": {},
     "output_type": "execute_result"
    }
   ],
   "source": [
    "11.0 % 2.0 "
   ]
  },
  {
   "cell_type": "markdown",
   "id": "907ffb24",
   "metadata": {},
   "source": [
    "#### Note que em alguns caso, por mais que as entradas fossem do tipo int, a operação retornava um float.<br>\n",
    "Por isso deve-se atentar ao tipo de dado que entra e sai do código, para evitar bugs, custo computacional desnecessário e erros em análises.<br>\n",
    "Para evitar essas situações, devemos conhecer o tipo da variável usada e também podemos fazer conversões de tipos de variável.<br>\n",
    "Para descobrir o tipo de um dados que vai entrar no código, podemos fazer o uso da função built-in <b>type().<br>\n",
    "Por exemplo:    "
   ]
  },
  {
   "cell_type": "code",
   "execution_count": 17,
   "id": "bdcf0729",
   "metadata": {},
   "outputs": [
    {
     "data": {
      "text/plain": [
       "str"
      ]
     },
     "execution_count": 17,
     "metadata": {},
     "output_type": "execute_result"
    }
   ],
   "source": [
    "a = \"Oi\"\n",
    "type(a)"
   ]
  },
  {
   "cell_type": "code",
   "execution_count": 18,
   "id": "6130746f",
   "metadata": {},
   "outputs": [
    {
     "data": {
      "text/plain": [
       "float"
      ]
     },
     "execution_count": 18,
     "metadata": {},
     "output_type": "execute_result"
    }
   ],
   "source": [
    "type(3.5)"
   ]
  },
  {
   "cell_type": "code",
   "execution_count": 19,
   "id": "d69ffa21",
   "metadata": {},
   "outputs": [
    {
     "data": {
      "text/plain": [
       "int"
      ]
     },
     "execution_count": 19,
     "metadata": {},
     "output_type": "execute_result"
    }
   ],
   "source": [
    "type(2)"
   ]
  },
  {
   "cell_type": "code",
   "execution_count": 20,
   "id": "e5a42777",
   "metadata": {},
   "outputs": [
    {
     "data": {
      "text/plain": [
       "bool"
      ]
     },
     "execution_count": 20,
     "metadata": {},
     "output_type": "execute_result"
    }
   ],
   "source": [
    "type(True)"
   ]
  },
  {
   "cell_type": "markdown",
   "id": "d952e602",
   "metadata": {},
   "source": [
    "#### Podemos também converter um variável entre tipos númericos e também para string. Veja abaixo:"
   ]
  },
  {
   "cell_type": "code",
   "execution_count": 21,
   "id": "3db77fa9",
   "metadata": {},
   "outputs": [
    {
     "name": "stdout",
     "output_type": "stream",
     "text": [
      "5\n"
     ]
    },
    {
     "data": {
      "text/plain": [
       "str"
      ]
     },
     "execution_count": 21,
     "metadata": {},
     "output_type": "execute_result"
    }
   ],
   "source": [
    "# Convertendo uma variável númerica em uma string\n",
    "a = 5\n",
    "b = str(a)\n",
    "print(b)\n",
    "type(b)"
   ]
  },
  {
   "cell_type": "markdown",
   "id": "c2746180",
   "metadata": {},
   "source": [
    "#### Note que mesmo retornando o número 5, a variável retorna uma string e se tentarmos realizar operações com uma variável númerica, teremos o seguinte output:"
   ]
  },
  {
   "cell_type": "code",
   "execution_count": 22,
   "id": "6dab9a29",
   "metadata": {},
   "outputs": [
    {
     "ename": "TypeError",
     "evalue": "unsupported operand type(s) for +: 'int' and 'str'",
     "output_type": "error",
     "traceback": [
      "\u001b[0;31m---------------------------------------------------------------------------\u001b[0m",
      "\u001b[0;31mTypeError\u001b[0m                                 Traceback (most recent call last)",
      "\u001b[0;32m/tmp/ipykernel_193570/1834569134.py\u001b[0m in \u001b[0;36m<module>\u001b[0;34m\u001b[0m\n\u001b[1;32m      1\u001b[0m \u001b[0;31m# Operações com tipo númerico e strings\u001b[0m\u001b[0;34m\u001b[0m\u001b[0;34m\u001b[0m\u001b[0m\n\u001b[0;32m----> 2\u001b[0;31m \u001b[0mx\u001b[0m \u001b[0;34m=\u001b[0m \u001b[0;36m5\u001b[0m \u001b[0;34m+\u001b[0m \u001b[0mb\u001b[0m\u001b[0;34m\u001b[0m\u001b[0;34m\u001b[0m\u001b[0m\n\u001b[0m\u001b[1;32m      3\u001b[0m \u001b[0mprint\u001b[0m\u001b[0;34m(\u001b[0m\u001b[0mx\u001b[0m\u001b[0;34m)\u001b[0m\u001b[0;34m\u001b[0m\u001b[0;34m\u001b[0m\u001b[0m\n",
      "\u001b[0;31mTypeError\u001b[0m: unsupported operand type(s) for +: 'int' and 'str'"
     ]
    }
   ],
   "source": [
    "# Operações com tipo númerico e strings\n",
    "x = 5 + b\n",
    "print(x)"
   ]
  },
  {
   "cell_type": "markdown",
   "id": "e395bd46",
   "metadata": {},
   "source": [
    "#### Já a conversão oposta não pode ser realizada caso a srting não seja um \"número\":"
   ]
  },
  {
   "cell_type": "code",
   "execution_count": 23,
   "id": "e3d2982d",
   "metadata": {},
   "outputs": [
    {
     "name": "stdout",
     "output_type": "stream",
     "text": [
      "5\n"
     ]
    },
    {
     "data": {
      "text/plain": [
       "int"
      ]
     },
     "execution_count": 23,
     "metadata": {},
     "output_type": "execute_result"
    }
   ],
   "source": [
    "a = \"5\"\n",
    "b = int(a)\n",
    "print(b)\n",
    "type(b)"
   ]
  },
  {
   "cell_type": "code",
   "execution_count": 24,
   "id": "93b134fd",
   "metadata": {},
   "outputs": [
    {
     "ename": "ValueError",
     "evalue": "invalid literal for int() with base 10: 'Oi'",
     "output_type": "error",
     "traceback": [
      "\u001b[0;31m---------------------------------------------------------------------------\u001b[0m",
      "\u001b[0;31mValueError\u001b[0m                                Traceback (most recent call last)",
      "\u001b[0;32m/tmp/ipykernel_193570/3767697062.py\u001b[0m in \u001b[0;36m<module>\u001b[0;34m\u001b[0m\n\u001b[1;32m      1\u001b[0m \u001b[0ma\u001b[0m \u001b[0;34m=\u001b[0m \u001b[0;34m\"Oi\"\u001b[0m\u001b[0;34m\u001b[0m\u001b[0;34m\u001b[0m\u001b[0m\n\u001b[0;32m----> 2\u001b[0;31m \u001b[0mb\u001b[0m \u001b[0;34m=\u001b[0m \u001b[0mint\u001b[0m\u001b[0;34m(\u001b[0m\u001b[0ma\u001b[0m\u001b[0;34m)\u001b[0m\u001b[0;34m\u001b[0m\u001b[0;34m\u001b[0m\u001b[0m\n\u001b[0m\u001b[1;32m      3\u001b[0m \u001b[0mprint\u001b[0m\u001b[0;34m(\u001b[0m\u001b[0mb\u001b[0m\u001b[0;34m)\u001b[0m\u001b[0;34m\u001b[0m\u001b[0;34m\u001b[0m\u001b[0m\n\u001b[1;32m      4\u001b[0m \u001b[0mtype\u001b[0m\u001b[0;34m(\u001b[0m\u001b[0mb\u001b[0m\u001b[0;34m)\u001b[0m\u001b[0;34m\u001b[0m\u001b[0;34m\u001b[0m\u001b[0m\n",
      "\u001b[0;31mValueError\u001b[0m: invalid literal for int() with base 10: 'Oi'"
     ]
    }
   ],
   "source": [
    "a = \"Oi\"\n",
    "b = int(a)\n",
    "print(b)\n",
    "type(b)"
   ]
  },
  {
   "cell_type": "markdown",
   "id": "d88678e9",
   "metadata": {},
   "source": [
    "#### Já a conversão entre tipos númericos é bem simples, entretando devemos notar que a conversão de um float para um int não é um arredendamento, mas na verdade considera-se apenas a parte inteira do número em questão."
   ]
  },
  {
   "cell_type": "code",
   "execution_count": 25,
   "id": "96dbcd1f",
   "metadata": {},
   "outputs": [
    {
     "name": "stdout",
     "output_type": "stream",
     "text": [
      "3\n",
      "2.0\n"
     ]
    }
   ],
   "source": [
    "print(int(3.99)) # Convertendo float para int, repare que não é uma um arredendamento ou aproximação.\n",
    "print(float(2)) # Convertendo int para float"
   ]
  },
  {
   "cell_type": "markdown",
   "id": "40460f7e",
   "metadata": {},
   "source": [
    "## Strings\n",
    "Ainda falando de operações..."
   ]
  },
  {
   "cell_type": "markdown",
   "id": "23233fcc",
   "metadata": {},
   "source": [
    "### Podemos realizar também a concatenação de strings fazendo:"
   ]
  },
  {
   "cell_type": "code",
   "execution_count": 26,
   "id": "4ebed20e",
   "metadata": {},
   "outputs": [
    {
     "name": "stdout",
     "output_type": "stream",
     "text": [
      "nomesobrenome\n"
     ]
    }
   ],
   "source": [
    "ex1 = \"nome\"\n",
    "ex2 = \"sobrenome\"\n",
    "ex = ex1 + ex2 # também pode ser feito de maneira direta: ex = \"nome\" + \"sobrenome\"\n",
    "print(ex)"
   ]
  },
  {
   "cell_type": "markdown",
   "id": "75b1ad9c",
   "metadata": {},
   "source": [
    "#### Note que apesar de serem duas strings concatenadas, o output foi uma string sem espaço entre as strings. Para contornar isso podemos fazer de 3 formas:"
   ]
  },
  {
   "cell_type": "code",
   "execution_count": 27,
   "id": "c324e01e",
   "metadata": {},
   "outputs": [
    {
     "name": "stdout",
     "output_type": "stream",
     "text": [
      "Primeira saída:  nome sobrenome\n",
      " Segunda saída:  nome sobrenome\n",
      "Terceira saída:  nome sobrenome\n"
     ]
    }
   ],
   "source": [
    "nome = \"nome \"\n",
    "snome = \"sobrenome\"\n",
    "fnome = nome + snome # também pode ser feito de maneira direta: ex = \"nome \" + \"sobrenome\"\n",
    "print(\"Primeira saída: \", fnome)\n",
    "nome = \"nome\"\n",
    "snome = \" sobrenome\"\n",
    "fnome = nome + snome # também pode ser feito de maneira direta: ex = \"nome\" + \" sobrenome\"\n",
    "print(\" Segunda saída: \", fnome)\n",
    "nome = \"nome\"\n",
    "snome = \"sobrenome\"\n",
    "fnome = nome + \" \" + snome # também pode ser feito de maneira direta: ex = \"nome\" + \" \" + \"sobrenome\"\n",
    "print(\"Terceira saída: \", fnome)"
   ]
  },
  {
   "cell_type": "markdown",
   "id": "ffe876a3",
   "metadata": {},
   "source": [
    "#### Outra ponto a se observar é que, mesmo utilizando o mesmo nome de variáveis para imprimir os 3 jeitos, o mesmo resultado foi obtido, pois o python considera sempre a última atribuição à variável. Veja no exemplo acima que primeiro imprimimos o valor de fnome e depois mudamos a atribuição das variáveis nome e snome, entretanto, sempre antes de mudar essa atribuição nós imprimimos o resultado. Talvez fique mais claro com o exemplo a seguir:"
   ]
  },
  {
   "cell_type": "code",
   "execution_count": 28,
   "id": "13b40ec6",
   "metadata": {},
   "outputs": [
    {
     "name": "stdout",
     "output_type": "stream",
     "text": [
      "Primeira saída:  João Silva\n",
      " Segunda saída:  José Souza\n",
      "Terceira saída:  Maria Ferreira\n"
     ]
    }
   ],
   "source": [
    "nome = \"João \"\n",
    "snome = \"Silva\"\n",
    "fnome = nome + snome\n",
    "print(\"Primeira saída: \", fnome)\n",
    "nome = \"José\"\n",
    "snome = \" Souza\"\n",
    "fnome = nome + snome\n",
    "print(\" Segunda saída: \", fnome)\n",
    "nome = \"Maria\"\n",
    "snome = \"Ferreira\"\n",
    "fnome = nome + \" \" + snome \n",
    "print(\"Terceira saída: \", fnome)"
   ]
  },
  {
   "cell_type": "markdown",
   "id": "a8bc0e95",
   "metadata": {},
   "source": [
    "#### As strings são interpretadas pelo Python como uma sequencia de caracteres, desse modo podemos usar indices para localizar elementos de uma string.\n",
    "Em Python, a indexação começa sempre em 0 e podemos acessar os índices usando [ ].<br>\n",
    "Acompanhe com o exemplo abaixo:"
   ]
  },
  {
   "cell_type": "code",
   "execution_count": 29,
   "id": "3945b1dd",
   "metadata": {},
   "outputs": [
    {
     "name": "stdout",
     "output_type": "stream",
     "text": [
      "P\n",
      "y\n",
      "t\n",
      "h\n",
      "o\n",
      "n\n"
     ]
    }
   ],
   "source": [
    "string = \"Python\"\n",
    "print(string[0]) # P\n",
    "print(string[1]) # y\n",
    "print(string[2]) # t\n",
    "print(string[3]) # h\n",
    "print(string[4]) # o\n",
    "print(string[5]) # n"
   ]
  },
  {
   "cell_type": "markdown",
   "id": "b8ae462d",
   "metadata": {},
   "source": [
    "#### Usando a indexação para fazer o \"fatiamento\" (slicing) usando [ : ]. Veja:"
   ]
  },
  {
   "cell_type": "code",
   "execution_count": 30,
   "id": "d380d717",
   "metadata": {},
   "outputs": [
    {
     "name": "stdout",
     "output_type": "stream",
     "text": [
      "Pyt\n",
      "hon\n",
      "tho\n",
      "Python\n",
      "nohtyP\n",
      "Pytho\n",
      "Pto\n"
     ]
    }
   ],
   "source": [
    "string = \"Python\"\n",
    "print(string[:3])  # pegando os indices 0, 1 e 2. \n",
    "print(string[3:])  # pegando os indices 4, 5 e 6.\n",
    "print(string[2:5]) # pegando os indices 2, 3 e 4.\n",
    "print(string[:])   # retorna todos os indices.\n",
    "print(string[::-1])# retorna a ordem inversa. também pode ser string[-1]\n",
    "print(string[:-1]) # retorna a string até o indices negativo indicado\n",
    "print(string[::2]) # pega os indices a cada 2.\n",
    "#print(string[])\n",
    "# Note que o Slicing é exclusivo, ou seja, não inclui o indice final."
   ]
  },
  {
   "cell_type": "markdown",
   "id": "90c7a0fa",
   "metadata": {},
   "source": [
    "Manipule o exemplo acima para maior compreensão do fatiamento de strings, será útil para listas, etc..."
   ]
  },
  {
   "cell_type": "markdown",
   "id": "ea1d90d6",
   "metadata": {},
   "source": [
    "#### Uma string é uma entidade imutáavel, ou seja, por mais que possámos trabalhar com indexação para manipular strings, não alteramos o conteúdo da variável. Não é possível fazer uma atribuição à um indice da string."
   ]
  },
  {
   "cell_type": "code",
   "execution_count": 31,
   "id": "8043ba09",
   "metadata": {},
   "outputs": [
    {
     "ename": "TypeError",
     "evalue": "'str' object does not support item assignment",
     "output_type": "error",
     "traceback": [
      "\u001b[0;31m---------------------------------------------------------------------------\u001b[0m",
      "\u001b[0;31mTypeError\u001b[0m                                 Traceback (most recent call last)",
      "\u001b[0;32m/tmp/ipykernel_193570/1494659118.py\u001b[0m in \u001b[0;36m<module>\u001b[0;34m\u001b[0m\n\u001b[0;32m----> 1\u001b[0;31m \u001b[0mstring\u001b[0m\u001b[0;34m[\u001b[0m\u001b[0;36m0\u001b[0m\u001b[0;34m]\u001b[0m \u001b[0;34m=\u001b[0m \u001b[0;34m\"C\"\u001b[0m\u001b[0;34m\u001b[0m\u001b[0;34m\u001b[0m\u001b[0m\n\u001b[0m\u001b[1;32m      2\u001b[0m \u001b[0mprint\u001b[0m\u001b[0;34m(\u001b[0m\u001b[0mstring\u001b[0m\u001b[0;34m)\u001b[0m\u001b[0;34m\u001b[0m\u001b[0;34m\u001b[0m\u001b[0m\n",
      "\u001b[0;31mTypeError\u001b[0m: 'str' object does not support item assignment"
     ]
    }
   ],
   "source": [
    "string[0] = \"C\"\n",
    "print(string)"
   ]
  },
  {
   "cell_type": "markdown",
   "id": "786a1918",
   "metadata": {},
   "source": [
    "Entretanto podemos atribuir à toda string um novo valor:"
   ]
  },
  {
   "cell_type": "code",
   "execution_count": 32,
   "id": "8c7f1a78",
   "metadata": {},
   "outputs": [
    {
     "name": "stdout",
     "output_type": "stream",
     "text": [
      "Python é top demais!\n"
     ]
    }
   ],
   "source": [
    "# O símbolo += é equivalenta à = variável + ... ex.: x = x + 1 pode ser escrito como x += 1\n",
    "string += \" é top demais!\"\n",
    "print(string)"
   ]
  },
  {
   "cell_type": "markdown",
   "id": "65ee433c",
   "metadata": {},
   "source": [
    "#### Podemos realizar multiplicação tanto com a string quanto com indices ou slices da string."
   ]
  },
  {
   "cell_type": "code",
   "execution_count": 33,
   "id": "5d312ab0",
   "metadata": {},
   "outputs": [
    {
     "data": {
      "text/plain": [
       "'Python é top demais!Python é top demais!'"
      ]
     },
     "execution_count": 33,
     "metadata": {},
     "output_type": "execute_result"
    }
   ],
   "source": [
    "2*string"
   ]
  },
  {
   "cell_type": "code",
   "execution_count": 34,
   "id": "4146cbb3",
   "metadata": {},
   "outputs": [
    {
     "data": {
      "text/plain": [
       "'PPP'"
      ]
     },
     "execution_count": 34,
     "metadata": {},
     "output_type": "execute_result"
    }
   ],
   "source": [
    "3*string[0]"
   ]
  },
  {
   "cell_type": "code",
   "execution_count": 35,
   "id": "2ecfb9d5",
   "metadata": {},
   "outputs": [
    {
     "data": {
      "text/plain": [
       "'ththththth'"
      ]
     },
     "execution_count": 35,
     "metadata": {},
     "output_type": "execute_result"
    }
   ],
   "source": [
    "5*string[2:4]"
   ]
  },
  {
   "cell_type": "markdown",
   "id": "8333eca0",
   "metadata": {},
   "source": [
    "### Funções Built-in de Strings"
   ]
  },
  {
   "cell_type": "code",
   "execution_count": 36,
   "id": "2f1fd9bb",
   "metadata": {},
   "outputs": [
    {
     "data": {
      "text/plain": [
       "'Python é top demais!'"
      ]
     },
     "execution_count": 36,
     "metadata": {},
     "output_type": "execute_result"
    }
   ],
   "source": [
    "string"
   ]
  },
  {
   "cell_type": "code",
   "execution_count": 37,
   "id": "8e5de622",
   "metadata": {},
   "outputs": [
    {
     "data": {
      "text/plain": [
       "'PYTHON É TOP DEMAIS!'"
      ]
     },
     "execution_count": 37,
     "metadata": {},
     "output_type": "execute_result"
    }
   ],
   "source": [
    "# Maiuscula\n",
    "string.upper()"
   ]
  },
  {
   "cell_type": "code",
   "execution_count": 38,
   "id": "8b8e49bb",
   "metadata": {},
   "outputs": [
    {
     "data": {
      "text/plain": [
       "'python é top demais!'"
      ]
     },
     "execution_count": 38,
     "metadata": {},
     "output_type": "execute_result"
    }
   ],
   "source": [
    "# Minuscula\n",
    "string.lower()"
   ]
  },
  {
   "cell_type": "code",
   "execution_count": 39,
   "id": "7ae64804",
   "metadata": {},
   "outputs": [
    {
     "data": {
      "text/plain": [
       "['Python', 'é', 'top', 'demais!']"
      ]
     },
     "execution_count": 39,
     "metadata": {},
     "output_type": "execute_result"
    }
   ],
   "source": [
    "# Divide a string em uma lista por espaços em branco\n",
    "string.split()"
   ]
  },
  {
   "cell_type": "code",
   "execution_count": 40,
   "id": "131d663d",
   "metadata": {},
   "outputs": [
    {
     "data": {
      "text/plain": [
       "['Pyth', 'n é t', 'p demais!']"
      ]
     },
     "execution_count": 40,
     "metadata": {},
     "output_type": "execute_result"
    }
   ],
   "source": [
    "# Divide a string em uma lista por um caracter específico\n",
    "string.split(\"o\")"
   ]
  },
  {
   "cell_type": "markdown",
   "id": "f743c680",
   "metadata": {},
   "source": [
    "#### Funções de strings"
   ]
  },
  {
   "cell_type": "code",
   "execution_count": 41,
   "id": "9f36da61",
   "metadata": {},
   "outputs": [],
   "source": [
    "s = \"bem-vindo à esse universo lindo de programação em python!\""
   ]
  },
  {
   "cell_type": "code",
   "execution_count": 42,
   "id": "f01e48fc",
   "metadata": {},
   "outputs": [
    {
     "data": {
      "text/plain": [
       "'Bem-vindo à esse universo lindo de programação em python!'"
      ]
     },
     "execution_count": 42,
     "metadata": {},
     "output_type": "execute_result"
    }
   ],
   "source": [
    "#Primeira letra maiuscula\n",
    "s.capitalize()"
   ]
  },
  {
   "cell_type": "code",
   "execution_count": 43,
   "id": "ecf6a3a9",
   "metadata": {},
   "outputs": [
    {
     "data": {
      "text/plain": [
       "2"
      ]
     },
     "execution_count": 43,
     "metadata": {},
     "output_type": "execute_result"
    }
   ],
   "source": [
    "# Conta quantas vezes um caracter se repetiu\n",
    "s.count(\"a\")"
   ]
  },
  {
   "cell_type": "code",
   "execution_count": 44,
   "id": "f860e93d",
   "metadata": {},
   "outputs": [
    {
     "data": {
      "text/plain": [
       "1"
      ]
     },
     "execution_count": 44,
     "metadata": {},
     "output_type": "execute_result"
    }
   ],
   "source": [
    "# Encontra a primeira posição ocupada pelo caracter solicitado\n",
    "s.find(\"e\")"
   ]
  },
  {
   "cell_type": "code",
   "execution_count": 45,
   "id": "979a3ef1",
   "metadata": {},
   "outputs": [
    {
     "data": {
      "text/plain": [
       "True"
      ]
     },
     "execution_count": 45,
     "metadata": {},
     "output_type": "execute_result"
    }
   ],
   "source": [
    "# Verifica se todos os caracteres são minusculos\n",
    "s.islower()"
   ]
  },
  {
   "cell_type": "code",
   "execution_count": 46,
   "id": "dcc7a248",
   "metadata": {},
   "outputs": [
    {
     "data": {
      "text/plain": [
       "False"
      ]
     },
     "execution_count": 46,
     "metadata": {},
     "output_type": "execute_result"
    }
   ],
   "source": [
    "# Verifica se todos os caracteres são maiusculos\n",
    "s.isupper()"
   ]
  },
  {
   "cell_type": "code",
   "execution_count": 47,
   "id": "bbf62ce2",
   "metadata": {},
   "outputs": [
    {
     "data": {
      "text/plain": [
       "False"
      ]
     },
     "execution_count": 47,
     "metadata": {},
     "output_type": "execute_result"
    }
   ],
   "source": [
    "# Verifica se todos os caracteres são espaços em branco\n",
    "s.isspace()"
   ]
  },
  {
   "cell_type": "code",
   "execution_count": 48,
   "id": "c2e73422",
   "metadata": {},
   "outputs": [
    {
     "data": {
      "text/plain": [
       "False"
      ]
     },
     "execution_count": 48,
     "metadata": {},
     "output_type": "execute_result"
    }
   ],
   "source": [
    "# Verifica se a string termina em terminado caracter\n",
    "s.endswith(\"w\")"
   ]
  },
  {
   "cell_type": "code",
   "execution_count": 49,
   "id": "2eede260",
   "metadata": {},
   "outputs": [
    {
     "name": "stdout",
     "output_type": "stream",
     "text": [
      "True\n",
      "False\n"
     ]
    }
   ],
   "source": [
    "# Comparação de string (True para strings iguais e False para strings diferentes)\n",
    "print(\"Python\"==\"Python\")\n",
    "print(\"Python\"==\"python\") # Note que Python diferencia lower e upper case."
   ]
  },
  {
   "cell_type": "markdown",
   "id": "63c97a09",
   "metadata": {},
   "source": [
    "## Listas"
   ]
  },
  {
   "cell_type": "markdown",
   "id": "82081fa6",
   "metadata": {},
   "source": [
    "Podem ser tratadas com indexação, e ao contrário das strings, as listas são mutáveis.<br>\n",
    "São declaradas da seguinte maneira: lista = [item1, item2, ...] e podem conter strings e tipos númericos em seus itens."
   ]
  },
  {
   "cell_type": "code",
   "execution_count": 50,
   "id": "39bf40d9",
   "metadata": {},
   "outputs": [
    {
     "name": "stdout",
     "output_type": "stream",
     "text": [
      "[5.0, 'maçã', 'ovo', 100]\n"
     ]
    }
   ],
   "source": [
    "lista = [5.0, \"maçã\", \"ovo\", 100]\n",
    "print(lista)"
   ]
  },
  {
   "cell_type": "code",
   "execution_count": 51,
   "id": "7e8fd68f",
   "metadata": {},
   "outputs": [
    {
     "data": {
      "text/plain": [
       "'maçã'"
      ]
     },
     "execution_count": 51,
     "metadata": {},
     "output_type": "execute_result"
    }
   ],
   "source": [
    "lista[1]"
   ]
  },
  {
   "cell_type": "markdown",
   "id": "b7aa8c93",
   "metadata": {},
   "source": [
    "### Associação de índices"
   ]
  },
  {
   "cell_type": "code",
   "execution_count": 52,
   "id": "127b7122",
   "metadata": {},
   "outputs": [
    {
     "name": "stdout",
     "output_type": "stream",
     "text": [
      "[5.0, 'maçã', 'leite', 100]\n"
     ]
    }
   ],
   "source": [
    "# Mudando um item da lista\n",
    "lista[2] = \"leite\" # trocou ovo por leite\n",
    "print(lista)"
   ]
  },
  {
   "cell_type": "code",
   "execution_count": 53,
   "id": "a90e92ff",
   "metadata": {},
   "outputs": [
    {
     "name": "stdout",
     "output_type": "stream",
     "text": [
      "[5.0, 'leite', 100]\n"
     ]
    }
   ],
   "source": [
    "# Deletando um item da lista\n",
    "del lista[1] # deletando maçã\n",
    "print(lista)"
   ]
  },
  {
   "cell_type": "markdown",
   "id": "2a8427d5",
   "metadata": {},
   "source": [
    "### Listas Alinhadas (Lista dentro de lista)"
   ]
  },
  {
   "cell_type": "markdown",
   "id": "68e6f749",
   "metadata": {},
   "source": [
    "Listas alinhadas são matrizes."
   ]
  },
  {
   "cell_type": "code",
   "execution_count": 54,
   "id": "77c05fb2",
   "metadata": {},
   "outputs": [
    {
     "name": "stdout",
     "output_type": "stream",
     "text": [
      "[[1, 2, 3], [4, 5, 6], [7, 8, 9]]\n"
     ]
    }
   ],
   "source": [
    "listaA = [[1, 2 , 3], [4, 5, 6], [7, 8, 9]]\n",
    "print(listaA)"
   ]
  },
  {
   "cell_type": "code",
   "execution_count": 55,
   "id": "3a0e79ec",
   "metadata": {},
   "outputs": [
    {
     "name": "stdout",
     "output_type": "stream",
     "text": [
      "[1, 2, 3]\n",
      "3\n"
     ]
    }
   ],
   "source": [
    "print(listaA[0]) # pegando o indice 0 da listaA\n",
    "print(len(listaA))"
   ]
  },
  {
   "cell_type": "code",
   "execution_count": 56,
   "id": "e43e8087",
   "metadata": {},
   "outputs": [
    {
     "name": "stdout",
     "output_type": "stream",
     "text": [
      "3\n"
     ]
    }
   ],
   "source": [
    "print(listaA[0][2]) # pegando o indice 02 da matriz listaA"
   ]
  },
  {
   "cell_type": "code",
   "execution_count": 57,
   "id": "879f14a7",
   "metadata": {},
   "outputs": [
    {
     "name": "stdout",
     "output_type": "stream",
     "text": [
      "[[(0, 0), (0, 1), (0, 2)], [(1, 0), (1, 1), (1, 2)], [(2, 0), (2, 1), (2, 2)]]\n"
     ]
    }
   ],
   "source": [
    "# EXEMPLO (Não espero que entenda o que foi feito aqui, apenas observa a questão dos indices das listas)\n",
    "# atribuindo um o \"valor do indice\" ao respectivo indice de uma matriz\n",
    "i = 0\n",
    "\n",
    "while i < len(listaA):\n",
    "    j = 0\n",
    "    while j < len(listaA[i]):\n",
    "        listaA[i][j] = i,j\n",
    "        j += 1\n",
    "    i += 1\n",
    "    \n",
    "print(listaA)"
   ]
  },
  {
   "cell_type": "code",
   "execution_count": 58,
   "id": "0cd28c6b",
   "metadata": {},
   "outputs": [
    {
     "name": "stdout",
     "output_type": "stream",
     "text": [
      "[(0, 0), (0, 1), (0, 2)]\n",
      "[(1, 0), (1, 1), (1, 2)]\n",
      "[(2, 0), (2, 1), (2, 2)]\n"
     ]
    }
   ],
   "source": [
    "# Visualização na forma \"convencional\" de matriz\n",
    "linha1 = str(listaA[0:][0])\n",
    "linha2 = str(listaA[1:][0])\n",
    "linha3 = str(listaA[2:][0])\n",
    "print(linha1 + \"\\n\" + linha2 + \"\\n\" + linha3)"
   ]
  },
  {
   "cell_type": "code",
   "execution_count": 59,
   "id": "f61b1077",
   "metadata": {},
   "outputs": [
    {
     "name": "stdout",
     "output_type": "stream",
     "text": [
      "[[1, 2], [3, 4], [5, 6], [7, 8], 9, 10, 11, 12]\n"
     ]
    }
   ],
   "source": [
    "# Concatenação de listas\n",
    "list1 = [[1, 2], [3, 4], [5, 6], [7, 8]]\n",
    "list2 = [9, 10, 11, 12]\n",
    "list = list1 + list2\n",
    "print(list)"
   ]
  },
  {
   "cell_type": "markdown",
   "id": "8b355ac9",
   "metadata": {},
   "source": [
    "#### Operador in"
   ]
  },
  {
   "cell_type": "markdown",
   "id": "6677f512",
   "metadata": {},
   "source": [
    "Verifica se existe o elemento desejado em um lista. True caso exista, False caso contrario."
   ]
  },
  {
   "cell_type": "code",
   "execution_count": 60,
   "id": "8e3bab9a",
   "metadata": {},
   "outputs": [
    {
     "name": "stdout",
     "output_type": "stream",
     "text": [
      "True\n",
      "False\n"
     ]
    }
   ],
   "source": [
    "print(12 in list)\n",
    "print(20 in list)"
   ]
  },
  {
   "cell_type": "markdown",
   "id": "fb8718ef",
   "metadata": {},
   "source": [
    "#### Funções Built-in para listas"
   ]
  },
  {
   "cell_type": "code",
   "execution_count": 61,
   "id": "e8e2a19e",
   "metadata": {},
   "outputs": [
    {
     "name": "stdout",
     "output_type": "stream",
     "text": [
      "2\n",
      "8\n"
     ]
    }
   ],
   "source": [
    "# Retorna o tamanho (quantidade de elementos) da lista\n",
    "print(len(list[1]))\n",
    "print(len(list))"
   ]
  },
  {
   "cell_type": "code",
   "execution_count": 62,
   "id": "0c57cd25",
   "metadata": {},
   "outputs": [
    {
     "name": "stdout",
     "output_type": "stream",
     "text": [
      "12\n"
     ]
    }
   ],
   "source": [
    "# Retorna o valor máximo de uma lista\n",
    "print(max(list2))"
   ]
  },
  {
   "cell_type": "code",
   "execution_count": 63,
   "id": "7d4408df",
   "metadata": {},
   "outputs": [
    {
     "name": "stdout",
     "output_type": "stream",
     "text": [
      "9\n"
     ]
    }
   ],
   "source": [
    "# Retorna o valor minimo de uma lista\n",
    "print(min(list2))"
   ]
  },
  {
   "cell_type": "code",
   "execution_count": 64,
   "id": "1dc9b66c",
   "metadata": {},
   "outputs": [
    {
     "name": "stdout",
     "output_type": "stream",
     "text": [
      "[5.0, 'leite', 100, 'carne']\n"
     ]
    }
   ],
   "source": [
    "# Adiciona um elemento no último indice \n",
    "lista.append(\"carne\")\n",
    "print(lista)"
   ]
  },
  {
   "cell_type": "code",
   "execution_count": 65,
   "id": "3ee6fb00",
   "metadata": {},
   "outputs": [
    {
     "data": {
      "text/plain": [
       "1"
      ]
     },
     "execution_count": 65,
     "metadata": {},
     "output_type": "execute_result"
    }
   ],
   "source": [
    "# Conta quantas vezes um elemento aparece na lista \n",
    "lista.count(\"carne\")"
   ]
  },
  {
   "cell_type": "code",
   "execution_count": 66,
   "id": "f28d7245",
   "metadata": {},
   "outputs": [
    {
     "name": "stdout",
     "output_type": "stream",
     "text": [
      "[1, 2, 3, 4, 5, 6]\n"
     ]
    }
   ],
   "source": [
    "# Merge listas\n",
    "#lista.extend([2,\"novo item\"])\n",
    "#print(lista)\n",
    "test = [1, 2, 3, 4]\n",
    "test1 = [5, 6]\n",
    "test.extend(test1)\n",
    "print(test)"
   ]
  },
  {
   "cell_type": "code",
   "execution_count": 67,
   "id": "fdabdb35",
   "metadata": {},
   "outputs": [
    {
     "data": {
      "text/plain": [
       "3"
      ]
     },
     "execution_count": 67,
     "metadata": {},
     "output_type": "execute_result"
    }
   ],
   "source": [
    "#Retorna o indice da primeira vez que o elemento aparece na lista\n",
    "lista.index(\"carne\")"
   ]
  },
  {
   "cell_type": "code",
   "execution_count": 68,
   "id": "6009f1e6",
   "metadata": {},
   "outputs": [
    {
     "name": "stdout",
     "output_type": "stream",
     "text": [
      "[1, 'carro', 2, 3, 4, 5, 6]\n"
     ]
    }
   ],
   "source": [
    "# Insere um elemento à lista em uma posição especifica. test.insert(1,\"carro\") vai inserir o elemento carro na posição 2 (indice 1).\n",
    "test.insert(1, \"carro\")\n",
    "print(test)"
   ]
  },
  {
   "cell_type": "code",
   "execution_count": 69,
   "id": "2807ccc1",
   "metadata": {},
   "outputs": [
    {
     "name": "stdout",
     "output_type": "stream",
     "text": [
      "[1, 'carro', 2, 3, 4, 5]\n"
     ]
    }
   ],
   "source": [
    "# Remove um elemento da lista\n",
    "test.remove(6)\n",
    "print(test)"
   ]
  },
  {
   "cell_type": "code",
   "execution_count": 70,
   "id": "13cbc27a",
   "metadata": {},
   "outputs": [
    {
     "name": "stdout",
     "output_type": "stream",
     "text": [
      "[5, 4, 3, 2, 1]\n"
     ]
    }
   ],
   "source": [
    "# Retorna a lista na ordem inversa\n",
    "test.reverse()\n",
    "test.remove(\"carro\")\n",
    "print(test)"
   ]
  },
  {
   "cell_type": "code",
   "execution_count": 71,
   "id": "c397b8a1",
   "metadata": {},
   "outputs": [
    {
     "name": "stdout",
     "output_type": "stream",
     "text": [
      "[1, 2, 3, 4, 5]\n"
     ]
    }
   ],
   "source": [
    "# Retorna a lista reordenada em ordem crescente\n",
    "test.sort()\n",
    "print(test)"
   ]
  },
  {
   "cell_type": "markdown",
   "id": "20ad710a",
   "metadata": {},
   "source": [
    "## Dicionários"
   ]
  },
  {
   "cell_type": "code",
   "execution_count": null,
   "id": "84089233",
   "metadata": {},
   "outputs": [],
   "source": []
  },
  {
   "cell_type": "code",
   "execution_count": null,
   "id": "04a8f0e6",
   "metadata": {},
   "outputs": [],
   "source": []
  }
 ],
 "metadata": {
  "kernelspec": {
   "display_name": "Python 3 (ipykernel)",
   "language": "python",
   "name": "python3"
  },
  "language_info": {
   "codemirror_mode": {
    "name": "ipython",
    "version": 3
   },
   "file_extension": ".py",
   "mimetype": "text/x-python",
   "name": "python",
   "nbconvert_exporter": "python",
   "pygments_lexer": "ipython3",
   "version": "3.9.7"
  }
 },
 "nbformat": 4,
 "nbformat_minor": 5
}
