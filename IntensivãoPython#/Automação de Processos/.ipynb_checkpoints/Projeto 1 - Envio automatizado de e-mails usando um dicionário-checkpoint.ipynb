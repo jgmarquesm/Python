{
 "cells": [
  {
   "cell_type": "markdown",
   "id": "883b68d5",
   "metadata": {},
   "source": [
    "<h1 style=\"color: red\">Automação do envio de e-mails</h1>"
   ]
  },
  {
   "cell_type": "code",
   "execution_count": null,
   "id": "279a0db4",
   "metadata": {
    "scrolled": true
   },
   "outputs": [],
   "source": [
    "# Caso ainda não tenha o pyautogui instalado basta fazer:\n",
    "!pip install pyautogui # instale esse pacote no seu editor de código pelo terminal"
   ]
  },
  {
   "cell_type": "code",
   "execution_count": 4,
   "id": "a2b541db",
   "metadata": {},
   "outputs": [],
   "source": [
    "import pyautogui\n",
    "import time\n",
    "\n",
    "pyautogui.PAUSE = 1\n",
    "\n",
    "# Imagine que esteja rodando esse código fora do Jupyter, o que dever ser feito? Retire o comentário do código\n",
    "#abaixo:\n",
    "\n",
    "# Primeiramente, inicializar o navegador de internet\n",
    "# pyautogui.press(\"win\")\n",
    "# pyautogui.write(\"Google Chrome\")\n",
    "# pyautogui.press(\"enter\")\n",
    "# time.sleep(3)\n",
    "\n",
    "# Selecione o usuário que vai usar\n",
    "# pyautogui.click(x = 687, y = 443)\n",
    "\n",
    "# Abrindo o Gmail em uma nova guia\n",
    "pyautogui.hotkey(\"ctrl\", \"t\")\n",
    "pyautogui.write(\"gmail.com\")\n",
    "pyautogui.press(\"enter\")\n",
    "time.sleep(5)\n",
    "\n",
    "# Definindo o Dicionário que será usado para envio dos e-mails\n",
    "# substitua nomex pelo nome do contato e emailx pelo email do mesmo\n",
    "nome_email = {\"nome1\":\"email3\", \n",
    "              \"nome2\":\"email2\",\n",
    "              \"nome3\":\"email3\",\n",
    "              \"nome4\":\"email4\",\n",
    "              \"nome5\":\"email5\"}\n",
    "\n",
    "# Escrevendo e enviando os e-mails para cada item no dicionário\n",
    "for k, v in nome_email.items():\n",
    "    pyautogui.click(x = 31, y = 171)\n",
    "    time.sleep(1)\n",
    "    pyautogui.write(v)\n",
    "    pyautogui.press(\"tab\")\n",
    "    pyautogui.press(\"tab\")\n",
    "    assunto = \"Insira aqui o assunto do e-mail\"\n",
    "    pyautogui.write(assunto)\n",
    "    pyautogui.press(\"tab\")\n",
    "    texto = f\"\"\"Oi, {k}! \n",
    "\n",
    "Resto do e-mail.\"\"\"\n",
    "    pyautogui.write(texto)\n",
    "    pyautogui.hotkey(\"ctrl\", \"enter\")"
   ]
  },
  {
   "cell_type": "code",
   "execution_count": 6,
   "id": "b94ff39a",
   "metadata": {},
   "outputs": [
    {
     "data": {
      "text/plain": [
       "Point(x=348, y=511)"
      ]
     },
     "execution_count": 6,
     "metadata": {},
     "output_type": "execute_result"
    }
   ],
   "source": [
    "# OK! Mas como vou saber onde devo clicar e para executar esse código com precisão? Afinal, monitores diferentes,\n",
    "# na maioria das vezes, têm resoluções diferentes. Usando o método abaixo, devemos executar e mover o mouse para \n",
    "# posição deseja, em no máximo 3 segundos, pois após 3 segundos de execução dai, ele vai ler a posição do mouse.\n",
    "# Exemplo: executei o método e coloquei o mouse sobre o número 3 usado como parametro do time.sleep e a posição\n",
    "# no meu monitor foi Point(x=348, y=511).\n",
    "time.sleep(3)\n",
    "pyautogui.position() "
   ]
  },
  {
   "cell_type": "code",
   "execution_count": null,
   "id": "1c7fa8df",
   "metadata": {},
   "outputs": [],
   "source": []
  }
 ],
 "metadata": {
  "kernelspec": {
   "display_name": "Python 3 (ipykernel)",
   "language": "python",
   "name": "python3"
  },
  "language_info": {
   "codemirror_mode": {
    "name": "ipython",
    "version": 3
   },
   "file_extension": ".py",
   "mimetype": "text/x-python",
   "name": "python",
   "nbconvert_exporter": "python",
   "pygments_lexer": "ipython3",
   "version": "3.9.7"
  }
 },
 "nbformat": 4,
 "nbformat_minor": 5
}
