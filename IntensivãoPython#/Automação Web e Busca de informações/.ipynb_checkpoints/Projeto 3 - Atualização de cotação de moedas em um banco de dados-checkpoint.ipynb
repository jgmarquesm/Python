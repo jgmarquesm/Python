{
 "cells": [
  {
   "cell_type": "markdown",
   "id": "b93d89f0",
   "metadata": {},
   "source": [
    "<h1 style=\"color: red\">Atualizando cotação de moedas na DB</h1>"
   ]
  },
  {
   "cell_type": "code",
   "execution_count": null,
   "id": "2590cc14",
   "metadata": {},
   "outputs": [],
   "source": [
    "# Caso ainda não tenha o selenium instalado basta fazer:\n",
    "!pip install selenium # instale esse pacote no seu editor de código pelo terminal"
   ]
  },
  {
   "cell_type": "code",
   "execution_count": null,
   "id": "92b70287",
   "metadata": {},
   "outputs": [],
   "source": [
    "from selenium import webdriver as wd\n",
    "from selenium.webdriver.common.keys import Keys\n",
    "from selenium.webdriver.common.by import By\n",
    "from selenium.webdriver.chrome.options import Options\n",
    "from datetime import datetime as dt\n",
    "import pandas as pd\n",
    "\n",
    "hoje = dt.now()\n",
    "momento  = hoje.strftime(\"%d-%m-%Y %H:%M:%S\")\n",
    "\n",
    "navegador = wd.Chrome()\n",
    "# Abrindo um navegador Chrome em segundo plano\n",
    "# chrome_options = Options()\n",
    "# chrome_options.headless = True \n",
    "# navegador = wd.Chrome(options=chrome_options)\n",
    "\n",
    "# Entrando no página de busca do Google\n",
    "navegador.get(\"https://www.google.com/\")\n",
    "\n",
    "# Cotação do Dólar\n",
    "navegador.find_element(By.XPATH,\n",
    "    '/html/body/div[1]/div[3]/form/div[1]/div[1]/div[1]/div/div[2]/input').send_keys(\"cotação dólar\")\n",
    "\n",
    "navegador.find_element(By.XPATH,\n",
    "    '/html/body/div[1]/div[3]/form/div[1]/div[1]/div[1]/div/div[2]/input').send_keys(Keys.ENTER)\n",
    "\n",
    "cotacao_dolar = navegador.find_element(By.XPATH,\n",
    "    '//*[@id=\"knowledge-currency__updatable-data-column\"]/div[1]/div[2]/span[1]').get_attribute(\"data-value\") \n",
    "cd = float(cotacao_dolar)\n",
    "print(\"O Dólar vale R$ {1:.3f}. Pesquisa feita em: {0}.\".format(momento, cd)) # Verificando o preço\n",
    "\n",
    "# Cotação do Euro\n",
    "navegador.get(\"https://www.google.com/\")\n",
    "navegador.find_element(By.XPATH,\n",
    "    '/html/body/div[1]/div[3]/form/div[1]/div[1]/div[1]/div/div[2]/input').send_keys(\"cotação euro\")\n",
    "navegador.find_element(By.XPATH,\n",
    "    '/html/body/div[1]/div[3]/form/div[1]/div[1]/div[1]/div/div[2]/input').send_keys(Keys.ENTER)\n",
    "\n",
    "cotacao_euro = navegador.find_element(By.XPATH,\n",
    "    '//*[@id=\"knowledge-currency__updatable-data-column\"]/div[1]/div[2]/span[1]').get_attribute(\"data-value\")\n",
    "ce = float(cotacao_euro)\n",
    "print(\"O Euro vale R$ {1:.3f}. Pesquisa feita em: {0}.\".format(momento, ce)) # Verificando o preço\n",
    "\n",
    "# Cotação do Ouro\n",
    "# Acessando em uma página web que tem a cotação do ouro\n",
    "navegador.get(\"https://www.melhorcambio.com/ouro-hoje\")\n",
    "\n",
    "cotacao_ouro = navegador.find_element(By.XPATH, '//*[@id=\"comercial\"]').get_attribute(\"value\")\n",
    "cotacao_ouro = cotacao_ouro.replace(\",\", \".\") # Trocando as vírgulas por pontos (padrão da linguagem)\n",
    "co = float(cotacao_ouro)\n",
    "print(\"O grama do Ouro vale R$ {1:.3f}. Pesquisa feita em: {0}.\".format(momento, co)) # Verificando o preço\n",
    "\n",
    "# Fechando o navegador aberto\n",
    "navegador.quit()"
   ]
  },
  {
   "cell_type": "code",
   "execution_count": null,
   "id": "2dcfb019",
   "metadata": {},
   "outputs": [],
   "source": [
    "# Abrindo a DB para manipulação\n",
    "DB = pd.read_excel(\"Produtos.xlsx\")\n",
    "display(DB)"
   ]
  },
  {
   "cell_type": "code",
   "execution_count": null,
   "id": "0a24f2f4",
   "metadata": {
    "scrolled": false
   },
   "outputs": [],
   "source": [
    "# Se a coluna \"Moeda\" = Dólar, Euro ou Ouro: a coluna \"Cotação\" é atualizada de acordo com a moeda\n",
    "DB.loc[DB[\"Moeda\"] == \"Dólar\", \"Cotação\"] = round(cd, 3)\n",
    "DB.loc[DB[\"Moeda\"] == \"Euro\", \"Cotação\"] = round(ce, 3)\n",
    "DB.loc[DB[\"Moeda\"] == \"Ouro\", \"Cotação\"] = round(co, 3)\n",
    "\n",
    "# Atualizando o preço de compra em reais\n",
    "DB[\"Preço de Compra\"] = DB[\"Preço Original\"] * DB[\"Cotação\"]\n",
    "\n",
    "# Atualizando o preço de vendas em reais\n",
    "DB[\"Preço de Venda\"] = DB[\"Preço de Compra\"] * DB[\"Margem\"]\n",
    "\n",
    "# Formatando cotação em reais\n",
    "DB[\"Cotação\"] = DB[\"Cotação\"].map(\"R$ {:.2f}\".format)\n",
    "\n",
    "# Formatando preço de compra em reais\n",
    "DB[\"Preço de Compra\"] = DB[\"Preço de Compra\"].map(\"R$ {:.2f}\".format)\n",
    "\n",
    "# Formatando a margem de lucro\n",
    "DB[\"Margem\"] = DB[\"Margem\"].map(\"{:.2f} %\".format)\n",
    "\n",
    "# Formatando preço de vendas em reais\n",
    "DB[\"Preço de Venda\"] = DB[\"Preço de Venda\"].map(\"R$ {:.2f}\".format)\n",
    "\n",
    "# Formatando preço Original\n",
    "DB[\"Preço Original\"] = pd.to_numeric(DB[\"Preço Original\"], errors=\"coerce\")\n",
    "pod = DB[\"Preço Original\"].map(\"US$ {:.2f}\".format)\n",
    "poe = DB[\"Preço Original\"].map(\"€ {:.2f}\".format)\n",
    "poo = DB[\"Preço Original\"].map(\"{:.2f} g\".format)\n",
    "DB.loc[DB[\"Moeda\"] == \"Dólar\", \"Preço Original\"] = pod\n",
    "DB.loc[DB[\"Moeda\"] == \"Euro\", \"Preço Original\"] = poe\n",
    "DB.loc[DB[\"Moeda\"] == \"Ouro\", \"Preço Original\"] = poo\n",
    "\n",
    "display(DB)"
   ]
  },
  {
   "cell_type": "code",
   "execution_count": null,
   "id": "cda4fa5d",
   "metadata": {},
   "outputs": [],
   "source": [
    "#Salvando a DB atualizada\n",
    "nome = \"Produtos Atualizados em \" + momento + \".xlsx\"\n",
    "DB.to_excel(nome, index=False)"
   ]
  }
 ],
 "metadata": {
  "kernelspec": {
   "display_name": "Python 3 (ipykernel)",
   "language": "python",
   "name": "python3"
  },
  "language_info": {
   "codemirror_mode": {
    "name": "ipython",
    "version": 3
   },
   "file_extension": ".py",
   "mimetype": "text/x-python",
   "name": "python",
   "nbconvert_exporter": "python",
   "pygments_lexer": "ipython3",
   "version": "3.9.7"
  }
 },
 "nbformat": 4,
 "nbformat_minor": 5
}
