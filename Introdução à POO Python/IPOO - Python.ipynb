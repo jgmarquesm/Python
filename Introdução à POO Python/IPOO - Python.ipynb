{
 "cells": [
  {
   "cell_type": "markdown",
   "id": "5d33d9f3",
   "metadata": {},
   "source": [
    "<h1 style=\"color: red\">Introdução à POOPy* (Programação Orientada à Objetos em Python)</h1>\n",
    "<p>*nomeclatura autoral</p>"
   ]
  },
  {
   "cell_type": "markdown",
   "id": "042cb79c",
   "metadata": {},
   "source": [
    "<p>\n",
    "    <b>É uma boa prática programação usar Substantivos como nome de Calsses e Atributos e Verbos como nomes de Métodos.</b>\n",
    "</p>\n",
    "<p>\n",
    "    Atributos também podem ser chamados de Estados.\n",
    "</p>\n",
    " "
   ]
  },
  {
   "cell_type": "code",
   "execution_count": 344,
   "id": "80f5d254",
   "metadata": {},
   "outputs": [],
   "source": [
    "# Criando uma Classe sem parametros chamada Livro\n",
    "\n",
    "class Livro():\n",
    "    def __init__(self): # Esse método inicializa cada objeto criado a partir dessa classe\n",
    "        \n",
    "        # Aqui vem os atributos de cada objeto que é criado a partir dessa classe\n",
    "        self.title = \"O pequeno príncipe\"\n",
    "        self.isbn = 9788854172388\n",
    "        self.year = 1943\n",
    "        self.pages = 132\n",
    "        self.writers = [\"Antoine de Saint-Exupéry\"]\n",
    "        a = 0\n",
    "        while a < len(self.writers):\n",
    "            self.authors = self.writers[a] + \" \"\n",
    "            a += 1\n",
    "        self.genders = [\"Literatura infantil\", \"Fábula\", \"Novela\", \"Ficção especulativa\"]\n",
    "        self.lang = \"Francês\"\n",
    "        \n",
    "    def imprimir(self):\n",
    "        print(\"O livro '{0}' foi escrito por {5}, em {7} no ano de {2}, e tem {3} páginas.\".format(self.title, self.isbn, self.year, self.pages, self.writers, self.authors, self.genders, self.lang))"
   ]
  },
  {
   "cell_type": "code",
   "execution_count": 345,
   "id": "f38ccaec",
   "metadata": {},
   "outputs": [],
   "source": [
    "Livro1 = Livro()"
   ]
  },
  {
   "cell_type": "code",
   "execution_count": 346,
   "id": "885bd231",
   "metadata": {},
   "outputs": [
    {
     "data": {
      "text/plain": [
       "__main__.Livro"
      ]
     },
     "execution_count": 346,
     "metadata": {},
     "output_type": "execute_result"
    }
   ],
   "source": [
    "type(Livro1)"
   ]
  },
  {
   "cell_type": "code",
   "execution_count": 347,
   "id": "2a34ea7d",
   "metadata": {},
   "outputs": [
    {
     "data": {
      "text/plain": [
       "'O pequeno príncipe'"
      ]
     },
     "execution_count": 347,
     "metadata": {},
     "output_type": "execute_result"
    }
   ],
   "source": [
    "Livro1.title"
   ]
  },
  {
   "cell_type": "code",
   "execution_count": 348,
   "id": "f1e72868",
   "metadata": {},
   "outputs": [
    {
     "data": {
      "text/plain": [
       "132"
      ]
     },
     "execution_count": 348,
     "metadata": {},
     "output_type": "execute_result"
    }
   ],
   "source": [
    "Livro1.pages"
   ]
  },
  {
   "cell_type": "code",
   "execution_count": 349,
   "id": "a4d95a60",
   "metadata": {},
   "outputs": [
    {
     "name": "stdout",
     "output_type": "stream",
     "text": [
      "O livro 'O pequeno príncipe' foi escrito por Antoine de Saint-Exupéry , em Francês no ano de 1943, e tem 132 páginas.\n"
     ]
    }
   ],
   "source": [
    "Livro1.imprimir()"
   ]
  },
  {
   "cell_type": "code",
   "execution_count": 414,
   "id": "19d6967d",
   "metadata": {},
   "outputs": [],
   "source": [
    "# Criando uma Classe com parametros chamada Livros para cadastro de livros em uma livraria, por exemplo.\n",
    "\n",
    "class Livros():\n",
    "    # Esse método inicializa cada objeto criado a partir dessa classe\n",
    "    def __init__(self, title, isbn): \n",
    "        \n",
    "        # Aqui vem os atributos de cada objeto que é criado a partir dessa classe\n",
    "        self.title = title\n",
    "        self.isbn = isbn\n",
    "\n",
    "    # Imprime na tela informações sobre o livro\n",
    "    def infos(self):\n",
    "        print(f\"Título: {self.title}\")\n",
    "        print(f\"ISBN: {self.isbn}\")\n",
    "        "
   ]
  },
  {
   "cell_type": "code",
   "execution_count": 415,
   "id": "4122ffc4",
   "metadata": {},
   "outputs": [],
   "source": [
    "lpp = Livros(\"Le Petit Prince\", 9788854172388)"
   ]
  },
  {
   "cell_type": "code",
   "execution_count": 416,
   "id": "8fcf2fef",
   "metadata": {},
   "outputs": [
    {
     "data": {
      "text/plain": [
       "__main__.Livros"
      ]
     },
     "execution_count": 416,
     "metadata": {},
     "output_type": "execute_result"
    }
   ],
   "source": [
    "type(lpp)"
   ]
  },
  {
   "cell_type": "code",
   "execution_count": 417,
   "id": "1deb9586",
   "metadata": {},
   "outputs": [
    {
     "data": {
      "text/plain": [
       "'Le Petit Prince'"
      ]
     },
     "execution_count": 417,
     "metadata": {},
     "output_type": "execute_result"
    }
   ],
   "source": [
    "lpp.title"
   ]
  },
  {
   "cell_type": "code",
   "execution_count": 418,
   "id": "ad562d81",
   "metadata": {},
   "outputs": [
    {
     "name": "stdout",
     "output_type": "stream",
     "text": [
      "Título: Le Petit Prince\n",
      "ISBN: 9788854172388\n"
     ]
    }
   ],
   "source": [
    "lpp.infos()"
   ]
  },
  {
   "cell_type": "code",
   "execution_count": 419,
   "id": "a38003e7",
   "metadata": {},
   "outputs": [],
   "source": [
    "f1_halliday = Livros(\"Fundamentos de Física - Mecânica\", 8521630352)"
   ]
  },
  {
   "cell_type": "code",
   "execution_count": 420,
   "id": "31af7b61",
   "metadata": {},
   "outputs": [
    {
     "name": "stdout",
     "output_type": "stream",
     "text": [
      "Título: Fundamentos de Física - Mecânica\n",
      "ISBN: 8521630352\n"
     ]
    }
   ],
   "source": [
    "f1_halliday.infos()"
   ]
  },
  {
   "cell_type": "markdown",
   "id": "72a14f07",
   "metadata": {},
   "source": [
    "<h2 style=\"color: blue\">Atibutos e métodos privados</h2>"
   ]
  },
  {
   "cell_type": "code",
   "execution_count": 458,
   "id": "bca9ca10",
   "metadata": {},
   "outputs": [],
   "source": [
    "# Podemos ainda deixar atributos privados para o contexto da Classe apenas, sem que o objeto defino tenha permissão\n",
    "# de uso. Por exemplo:\n",
    "class Pessoa():\n",
    "    def __init__(self, nome, idade, cpf):\n",
    "        self.nome = nome\n",
    "        self.idade = idade\n",
    "        self.__cpf = cpf # Essa é forma de deixar o atributo privado para uso somente no contexto da classe\n",
    "        \n",
    "    def printCpf(self):\n",
    "        print(f\"CPF: {self.__cpf}\")\n",
    "        \n",
    "# Da mesma forma que podemos privar atributos, podemos também privar métodos. Por exemplo:\n",
    "    def correr(self):\n",
    "        print(f\"{self.nome} está correndo!\")\n",
    "        \n",
    "    def __apresentarCpf(self):\n",
    "        print(f\"Aqui está meu {self.__cpf}.\")\n",
    "    \n",
    "    def beber(self, bebida):\n",
    "        if bebida == \"cerveja\":\n",
    "            self.__apresentarCpf()\n",
    "        print(f\"{self.nome} está bebendo {bebida}.\")\n",
    "        "
   ]
  },
  {
   "cell_type": "code",
   "execution_count": 459,
   "id": "9fe0c2ec",
   "metadata": {},
   "outputs": [
    {
     "name": "stdout",
     "output_type": "stream",
     "text": [
      "A pessoa se chama João e tem 24 anos. Note que nome e idade foram printados.\n",
      "CPF: 36434232990\n",
      "\n",
      " Q: Como pode não ter CPF se printamos ele logo acima?\n",
      "\n",
      " A: Simples, o atributo está privado para uso somente no contexto interno da Classe.\n"
     ]
    },
    {
     "ename": "AttributeError",
     "evalue": "'Pessoa' object has no attribute 'cpf'",
     "output_type": "error",
     "traceback": [
      "\u001b[0;31m---------------------------------------------------------------------------\u001b[0m",
      "\u001b[0;31mAttributeError\u001b[0m                            Traceback (most recent call last)",
      "\u001b[0;32m/tmp/ipykernel_6578/157363135.py\u001b[0m in \u001b[0;36m<module>\u001b[0;34m\u001b[0m\n\u001b[1;32m      6\u001b[0m \u001b[0mprint\u001b[0m\u001b[0;34m(\u001b[0m\u001b[0;34m\"\\n\"\u001b[0m\u001b[0;34m,\u001b[0m \u001b[0;34m\"Q: Como pode não ter CPF se printamos ele logo acima?\"\u001b[0m\u001b[0;34m)\u001b[0m\u001b[0;34m\u001b[0m\u001b[0;34m\u001b[0m\u001b[0m\n\u001b[1;32m      7\u001b[0m \u001b[0mprint\u001b[0m\u001b[0;34m(\u001b[0m\u001b[0;34m\"\\n\"\u001b[0m\u001b[0;34m,\u001b[0m \u001b[0;34m\"A: Simples, o atributo está privado para uso somente no contexto interno da Classe.\"\u001b[0m\u001b[0;34m)\u001b[0m\u001b[0;34m\u001b[0m\u001b[0;34m\u001b[0m\u001b[0m\n\u001b[0;32m----> 8\u001b[0;31m \u001b[0mcpf\u001b[0m \u001b[0;34m=\u001b[0m \u001b[0mjoao\u001b[0m\u001b[0;34m.\u001b[0m\u001b[0mcpf\u001b[0m\u001b[0;34m\u001b[0m\u001b[0;34m\u001b[0m\u001b[0m\n\u001b[0m\u001b[1;32m      9\u001b[0m \u001b[0mprint\u001b[0m\u001b[0;34m(\u001b[0m\u001b[0mcpf\u001b[0m\u001b[0;34m)\u001b[0m\u001b[0;34m\u001b[0m\u001b[0;34m\u001b[0m\u001b[0m\n",
      "\u001b[0;31mAttributeError\u001b[0m: 'Pessoa' object has no attribute 'cpf'"
     ]
    }
   ],
   "source": [
    "joao = Pessoa(\"João\", 24, 36434232990)\n",
    "nome = joao.nome\n",
    "idade = joao.idade\n",
    "print(f\"A pessoa se chama {nome} e tem {idade} anos.\", \"Note que nome e idade foram printados.\")\n",
    "joao.printCpf()\n",
    "print(\"\\n\", \"Q: Como pode não ter CPF se printamos ele logo acima?\")\n",
    "print(\"\\n\", \"A: Simples, o atributo está privado para uso somente no contexto interno da Classe.\")\n",
    "cpf = joao.cpf\n",
    "print(cpf)"
   ]
  },
  {
   "cell_type": "code",
   "execution_count": 460,
   "id": "c559d149",
   "metadata": {},
   "outputs": [
    {
     "name": "stdout",
     "output_type": "stream",
     "text": [
      "João está correndo!\n",
      "\n",
      " Note que mesmo o método 'apresentarCpf' estando definido na Classe, ele não pode ser usado fora dela.\n",
      "\n",
      " Mas se agora usarmos ele da seguinte maneira, ele retornará resultado por está no contexto da Classe. \n",
      "\n",
      "Aqui está meu 36434232990.\n",
      "João está bebendo cerveja.\n",
      "João está bebendo Coca-Cola.\n"
     ]
    },
    {
     "ename": "AttributeError",
     "evalue": "'Pessoa' object has no attribute 'apresentarCpf'",
     "output_type": "error",
     "traceback": [
      "\u001b[0;31m---------------------------------------------------------------------------\u001b[0m",
      "\u001b[0;31mAttributeError\u001b[0m                            Traceback (most recent call last)",
      "\u001b[0;32m/tmp/ipykernel_6578/1422366019.py\u001b[0m in \u001b[0;36m<module>\u001b[0;34m\u001b[0m\n\u001b[1;32m      4\u001b[0m \u001b[0mjoao\u001b[0m\u001b[0;34m.\u001b[0m\u001b[0mbeber\u001b[0m\u001b[0;34m(\u001b[0m\u001b[0;34m\"cerveja\"\u001b[0m\u001b[0;34m)\u001b[0m\u001b[0;34m\u001b[0m\u001b[0;34m\u001b[0m\u001b[0m\n\u001b[1;32m      5\u001b[0m \u001b[0mjoao\u001b[0m\u001b[0;34m.\u001b[0m\u001b[0mbeber\u001b[0m\u001b[0;34m(\u001b[0m\u001b[0;34m\"Coca-Cola\"\u001b[0m\u001b[0;34m)\u001b[0m\u001b[0;34m\u001b[0m\u001b[0;34m\u001b[0m\u001b[0m\n\u001b[0;32m----> 6\u001b[0;31m \u001b[0mjoao\u001b[0m\u001b[0;34m.\u001b[0m\u001b[0mapresentarCpf\u001b[0m\u001b[0;34m(\u001b[0m\u001b[0;34m)\u001b[0m\u001b[0;34m\u001b[0m\u001b[0;34m\u001b[0m\u001b[0m\n\u001b[0m",
      "\u001b[0;31mAttributeError\u001b[0m: 'Pessoa' object has no attribute 'apresentarCpf'"
     ]
    }
   ],
   "source": [
    "joao.correr()\n",
    "print(\"\\n\", \"Note que mesmo o método 'apresentarCpf' estando definido na Classe, ele não pode ser usado fora dela.\")\n",
    "print(\"\\n\", \"Mas se agora usarmos ele da seguinte maneira, ele retornará resultado por está no contexto da Classe.\", \"\\n\")\n",
    "joao.beber(\"cerveja\")\n",
    "joao.beber(\"Coca-Cola\")\n",
    "joao.apresentarCpf()"
   ]
  },
  {
   "cell_type": "markdown",
   "id": "2d49c56e",
   "metadata": {},
   "source": [
    "<h3 style=\"color: green\">Exemplo: Calculadora</h3>"
   ]
  },
  {
   "cell_type": "code",
   "execution_count": 494,
   "id": "01d702f1",
   "metadata": {},
   "outputs": [],
   "source": [
    "class Calculadora():\n",
    "    \n",
    "    #def __init__(self):\n",
    "    #    print(\"oi\")\n",
    "        \n",
    "    def calcular(self, op, n1, n2):\n",
    "        if op == \"+\":\n",
    "            print(self.__adicionar(n1, n2))\n",
    "        elif op == \"-\":\n",
    "            print(self.__subtrair(n1, n2))\n",
    "        elif op == \"*\" or op == \"x\":\n",
    "            print(self.__multiplicar(n1, n2))\n",
    "        elif op == \"/\":\n",
    "            print(self.__dividir(n1, n2))\n",
    "    \n",
    "    def converterTipo(self, to, num):\n",
    "        if to == \"float\":\n",
    "            num = float(num)\n",
    "            print(num)\n",
    "        elif to == \"int\":\n",
    "            num = int(num)\n",
    "            print(num)\n",
    "        \n",
    "    def __adicionar(self, n, m):\n",
    "        return n + m\n",
    "    \n",
    "    def __subtrair(self, n, m):\n",
    "        return n - m\n",
    "    \n",
    "    def __multiplicar(self, n, m):\n",
    "        return n * m\n",
    "    \n",
    "    def __dividir(self, n, m):\n",
    "        if m == 0:\n",
    "            print(\"Não é possível dividir por zero (0).\")\n",
    "        else:\n",
    "            return n / m"
   ]
  },
  {
   "cell_type": "code",
   "execution_count": 496,
   "id": "fc1f903a",
   "metadata": {},
   "outputs": [
    {
     "name": "stdout",
     "output_type": "stream",
     "text": [
      "Para calcular, digite 1. Para convertir tipos, digit 2.\n",
      "O que você deseja fazer?2\n",
      "Quer converter para: int\n",
      "Número: 3.141592\n",
      "3\n"
     ]
    }
   ],
   "source": [
    "calculadora = Calculadora()\n",
    "print(\"Para calcular, digite 1. Para converter tipos, digit 2.\")\n",
    "action = int(input(\"O que você deseja fazer?\"))\n",
    "if action == 1:\n",
    "    op = input(\"Operação: \")\n",
    "    num1 = input(\"Primeiro número: \")\n",
    "    num2 = input(\"Segundo número: \")\n",
    "    x = calculadora.calcular(op, num1, num2)\n",
    "elif action == 2:\n",
    "    para = input(\"Quer converter para: \")\n",
    "    num = float(input(\"Número: \"))\n",
    "    a = [\"float\", \"int\"]\n",
    "    if para in a: \n",
    "        y = calculadora.converterTipo(para, num)\n",
    "    else:\n",
    "        print(\"Entrada inválida.\")\n",
    "else:\n",
    "    print(\"Entrada inválida.\")"
   ]
  },
  {
   "cell_type": "code",
   "execution_count": 502,
   "id": "b8fc67b4",
   "metadata": {},
   "outputs": [],
   "source": [
    "# Podemos fazer a mesma coisa que fizemos acima, jogando as decisoões para a classe, assim nosso código fica muito \n",
    "# mais limpo. Veja:\n",
    "\n",
    "class Calculadora2():\n",
    "    \n",
    "    def __init__(self, action):\n",
    "        self.action = action\n",
    "        self.a = a = [\"float\", \"int\"]\n",
    "        \n",
    "# Podemos inclusive copiar os métodos acima para ser mais rápido, ou ainda mais eficiente seria fazer com que essa\n",
    "# classe fosse herdeira da classe acima.\n",
    "    def selecionarCaso(self):\n",
    "        if self.action == 1:\n",
    "            op = input(\"Operação: \")\n",
    "            num1 = input(\"Primeiro número: \")\n",
    "            num2 = input(\"Segundo número: \")\n",
    "            return self.calcular(self, op, num1, num2)\n",
    "        elif self.action == 2:\n",
    "            to = input(\"Quer converter para: \")\n",
    "            num = float(input(\"Número: \"))\n",
    "            if to in self.a: \n",
    "                return self.converterTipo(to, num)\n",
    "            else:\n",
    "                print(\"Entrada inválida.\")\n",
    "        else:\n",
    "            print(\"Entrada inválida.\")\n",
    "        \n",
    "    def calcular(self, op, num1, num2):\n",
    "        if op == \"+\":\n",
    "            print(self.__adicionar(num1, num2))\n",
    "        elif op == \"-\":\n",
    "            print(self.__subtrair(num1, num2))\n",
    "        elif op == \"*\" or op == \"x\":\n",
    "            print(self.__multiplicar(num1, num2))\n",
    "        elif op == \"/\":\n",
    "            print(self.__dividir(num1, num2))\n",
    "    \n",
    "    def converterTipo(self, to, num1):\n",
    "        if to == \"float\":\n",
    "            num1 = float(num1)\n",
    "            print(num1)\n",
    "        elif to == \"int\":\n",
    "            num1 = int(num1)\n",
    "            print(num1)\n",
    "        \n",
    "    def __adicionar(self, n, m):\n",
    "        return n + m\n",
    "    \n",
    "    def __subtrair(self, n, m):\n",
    "        return n - m\n",
    "    \n",
    "    def __multiplicar(self, n, m):\n",
    "        return n * m\n",
    "    \n",
    "    def __dividir(self, n, m):\n",
    "        if m == 0:\n",
    "            print(\"Não é possível dividir por zero (0).\")\n",
    "        else:\n",
    "            return n / m\n"
   ]
  },
  {
   "cell_type": "code",
   "execution_count": 503,
   "id": "fd2a8be5",
   "metadata": {},
   "outputs": [
    {
     "name": "stdout",
     "output_type": "stream",
     "text": [
      "Para calcular, digite 1. Para converter tipos, digit 2.\n",
      "O que você deseja fazer?2\n",
      "Quer converter para: int\n",
      "Número: 3.141592\n",
      "3\n"
     ]
    }
   ],
   "source": [
    "print(\"Para calcular, digite 1. Para converter tipos, digit 2.\")\n",
    "case_in = int(input(\"O que você deseja fazer?\"))\n",
    "run = Calculadora2(case_in)\n",
    "calc = run.selecionarCaso()"
   ]
  },
  {
   "cell_type": "markdown",
   "id": "f354fb2f",
   "metadata": {},
   "source": [
    "<h2 style=\"color: blue\">Type Notations</h2>"
   ]
  },
  {
   "cell_type": "markdown",
   "id": "587621f0",
   "metadata": {},
   "source": [
    "<p>Para facilitar a compreensão e manutenção do código, podemos usar as Type Notations (que funciona de maneira semelhante à comentarios sobre o tipo de dados dos paramentros, atributos e das funções, classes, métodos, etc.)</p>\n",
    "<p>Para melhor entender, consulte a documentação <a href=\"https://docs.python.org/3/library/typing.html\">aqui</a>.</p>\n",
    "<p>Exemplo:</p>"
   ]
  },
  {
   "cell_type": "code",
   "execution_count": 484,
   "id": "284237da",
   "metadata": {},
   "outputs": [],
   "source": [
    "class Alarme():\n",
    "    \n",
    "    def __init__(self, estado: bool) -> None:\n",
    "        self.__estado = estado\n",
    "    \n",
    "    def getEstado(self) -> bool:\n",
    "        return self.__estado\n",
    "    \n",
    "    def setEstado(self, valor: bool) -> None: # Idependente do estado, ele \"seta\" no valor passado o alarme\n",
    "        if isinstance(valor, bool):\n",
    "            self.__estado = valor\n",
    "        else:\n",
    "            print(\"Não foi possível alterar o estado.\")\n",
    "        \n",
    "    def changeEstado(self) -> bool: # Ativar (se estiver desativado) e desativar (se estiver ativado)\n",
    "        self.__estado = not self.__estado\n",
    "        "
   ]
  },
  {
   "cell_type": "code",
   "execution_count": 485,
   "id": "c0a48d8c",
   "metadata": {},
   "outputs": [],
   "source": [
    "a = Alarme(True)"
   ]
  },
  {
   "cell_type": "code",
   "execution_count": 486,
   "id": "f4d20a4d",
   "metadata": {},
   "outputs": [
    {
     "data": {
      "text/plain": [
       "True"
      ]
     },
     "execution_count": 486,
     "metadata": {},
     "output_type": "execute_result"
    }
   ],
   "source": [
    "a.getEstado()"
   ]
  },
  {
   "cell_type": "code",
   "execution_count": 487,
   "id": "dab6b3d4",
   "metadata": {},
   "outputs": [
    {
     "data": {
      "text/plain": [
       "False"
      ]
     },
     "execution_count": 487,
     "metadata": {},
     "output_type": "execute_result"
    }
   ],
   "source": [
    "a.changeEstado()\n",
    "a.getEstado()"
   ]
  },
  {
   "cell_type": "code",
   "execution_count": 488,
   "id": "f05d69e6",
   "metadata": {},
   "outputs": [
    {
     "data": {
      "text/plain": [
       "True"
      ]
     },
     "execution_count": 488,
     "metadata": {},
     "output_type": "execute_result"
    }
   ],
   "source": [
    "a.changeEstado()\n",
    "a.getEstado()"
   ]
  },
  {
   "cell_type": "code",
   "execution_count": 489,
   "id": "6625e804",
   "metadata": {
    "scrolled": true
   },
   "outputs": [
    {
     "name": "stdout",
     "output_type": "stream",
     "text": [
      "Não foi possível alterar o estado.\n"
     ]
    },
    {
     "data": {
      "text/plain": [
       "True"
      ]
     },
     "execution_count": 489,
     "metadata": {},
     "output_type": "execute_result"
    }
   ],
   "source": [
    "a.setEstado(122)\n",
    "a.getEstado()"
   ]
  },
  {
   "cell_type": "code",
   "execution_count": 389,
   "id": "aaf26d35",
   "metadata": {},
   "outputs": [],
   "source": [
    "# Funções especias para manipulação de objetos pelos atributos:\n",
    "# hasattr(obj, atributo) -> verifica se o objeto possui o atributo passado;\n",
    "# setattr(obj, atributo, valor do atribuito) -> define no objeto passado o valor (que pode ser qualquer\n",
    "# estrutura de dados) passado para o atributo passado;\n",
    "# get(obj, atributo) -> retorna o valor atributo passado do objeto passado;\n",
    "# delattr(obj, atributo) -> deleta o atributo passado do objeto passado.\n",
    "# Exemplos:"
   ]
  },
  {
   "cell_type": "code",
   "execution_count": 390,
   "id": "d5deb40c",
   "metadata": {
    "scrolled": false
   },
   "outputs": [
    {
     "data": {
      "text/plain": [
       "True"
      ]
     },
     "execution_count": 390,
     "metadata": {},
     "output_type": "execute_result"
    }
   ],
   "source": [
    "hasattr(lpp, \"title\")"
   ]
  },
  {
   "cell_type": "code",
   "execution_count": 391,
   "id": "7b90f4e4",
   "metadata": {},
   "outputs": [],
   "source": [
    "setattr(lpp, \"title\", \"O Pequeno Principe\")"
   ]
  },
  {
   "cell_type": "code",
   "execution_count": 392,
   "id": "ff2511dd",
   "metadata": {
    "scrolled": true
   },
   "outputs": [
    {
     "data": {
      "text/plain": [
       "'O Pequeno Principe'"
      ]
     },
     "execution_count": 392,
     "metadata": {},
     "output_type": "execute_result"
    }
   ],
   "source": [
    "getattr(lpp, \"title\")"
   ]
  },
  {
   "cell_type": "code",
   "execution_count": 393,
   "id": "90c5cd2a",
   "metadata": {},
   "outputs": [
    {
     "data": {
      "text/plain": [
       "False"
      ]
     },
     "execution_count": 393,
     "metadata": {},
     "output_type": "execute_result"
    }
   ],
   "source": [
    "delattr(lpp, \"title\")\n",
    "hasattr(lpp, \"title\")"
   ]
  },
  {
   "cell_type": "code",
   "execution_count": 394,
   "id": "b083e1f4",
   "metadata": {},
   "outputs": [
    {
     "data": {
      "text/plain": [
       "'Le Petit Prince'"
      ]
     },
     "execution_count": 394,
     "metadata": {},
     "output_type": "execute_result"
    }
   ],
   "source": [
    "setattr(lpp, \"title\", \"Le Petit Prince\")\n",
    "getattr(lpp, \"title\")"
   ]
  },
  {
   "cell_type": "code",
   "execution_count": 395,
   "id": "58b6ed8c",
   "metadata": {},
   "outputs": [
    {
     "name": "stdout",
     "output_type": "stream",
     "text": [
      "{}\n"
     ]
    }
   ],
   "source": [
    "del dict_Livros[\"lpp\"]\n",
    "print(dict_Livros)"
   ]
  },
  {
   "cell_type": "code",
   "execution_count": 507,
   "id": "c120cc3d",
   "metadata": {},
   "outputs": [
    {
     "name": "stdout",
     "output_type": "stream",
     "text": [
      "<class 'int'>\n",
      "<class 'bool'>\n"
     ]
    }
   ],
   "source": [
    "x = 5\n",
    "print(type(x))\n",
    "print(type(x == 4))"
   ]
  },
  {
   "cell_type": "code",
   "execution_count": null,
   "id": "7cc9b72a",
   "metadata": {},
   "outputs": [],
   "source": []
  }
 ],
 "metadata": {
  "kernelspec": {
   "display_name": "Python 3 (ipykernel)",
   "language": "python",
   "name": "python3"
  },
  "language_info": {
   "codemirror_mode": {
    "name": "ipython",
    "version": 3
   },
   "file_extension": ".py",
   "mimetype": "text/x-python",
   "name": "python",
   "nbconvert_exporter": "python",
   "pygments_lexer": "ipython3",
   "version": "3.9.7"
  }
 },
 "nbformat": 4,
 "nbformat_minor": 5
}
