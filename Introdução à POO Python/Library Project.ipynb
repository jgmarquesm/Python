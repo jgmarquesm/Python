{
 "cells": [
  {
   "cell_type": "code",
   "execution_count": 18,
   "id": "c2bddd7c",
   "metadata": {},
   "outputs": [
    {
     "name": "stdout",
     "output_type": "stream",
     "text": [
      "Collecting odfpy\n",
      "  Downloading odfpy-1.4.1.tar.gz (717 kB)\n",
      "\u001b[K     |████████████████████████████████| 717 kB 1.9 MB/s eta 0:00:01\n",
      "\u001b[?25hRequirement already satisfied: defusedxml in /home/notebook/anaconda3/lib/python3.9/site-packages (from odfpy) (0.7.1)\n",
      "Building wheels for collected packages: odfpy\n",
      "  Building wheel for odfpy (setup.py) ... \u001b[?25ldone\n",
      "\u001b[?25h  Created wheel for odfpy: filename=odfpy-1.4.1-py2.py3-none-any.whl size=160693 sha256=f49e83486a182a8f2a2f47666887ff8382b8f8dbce10782955552e7065aed180\n",
      "  Stored in directory: /home/notebook/.cache/pip/wheels/20/ff/69/1b3f423ffe400b87afa368c70b43d2b5cd3bfb9ac8a613ba5b\n",
      "Successfully built odfpy\n",
      "Installing collected packages: odfpy\n",
      "Successfully installed odfpy-1.4.1\n"
     ]
    }
   ],
   "source": [
    "!pip install odfpy"
   ]
  },
  {
   "cell_type": "code",
   "execution_count": 20,
   "id": "34031ec6",
   "metadata": {},
   "outputs": [],
   "source": [
    "from typing import Any\n",
    "import pandas as pd \n",
    "import os"
   ]
  },
  {
   "cell_type": "code",
   "execution_count": 87,
   "id": "d1480051",
   "metadata": {},
   "outputs": [],
   "source": [
    "file = \"Biblioteca.ods\"\n",
    "\n",
    "try:\n",
    "    path_ = \"/home/notebook/Documentos/Biblioteca\"\n",
    "    os.mkdir(path_)\n",
    "    complete_path_ = os.path.join(path_, file)\n",
    "except:\n",
    "    path_ = \"/home/notebook/Documentos/Biblioteca\"\n",
    "    complete_path_ = os.path.join(path_, file)\n",
    "    \n",
    "tabela = pd.read_excel(\"Biblioteca.ods\")"
   ]
  },
  {
   "cell_type": "code",
   "execution_count": 85,
   "id": "6730596c",
   "metadata": {},
   "outputs": [],
   "source": [
    "class menu:\n",
    "    \n",
    "    def __init__(self) -> None:\n",
    "        self.__div = 59 * \"-\"\n",
    "        self.__ws = 25 * \"*\"\n",
    "        self.__msg = f\"{self.__ws}Bem-Vindo{self.__ws}\"\n",
    "        print(self.__div)\n",
    "        print(\"\\n\", self.__msg, \"\\n\")\n",
    "        print(self.__div)\n",
    "        print(\"\\n\", \"Para consultar, digite 1.\")\n",
    "        print(\"\\n\", \"Para cadastrar, digite 2.\")\n",
    "        print(self.__div)\n",
    "        "
   ]
  },
  {
   "cell_type": "code",
   "execution_count": 73,
   "id": "80e69a8d",
   "metadata": {},
   "outputs": [],
   "source": [
    "# Criando uma Classe com parametros chamada Livros para cadastro de livros em uma livraria, por exemplo.\n",
    "class Livros():\n",
    "    # Esse método inicializa cada objeto criado a partir dessa classe\n",
    "    def __init__(self, title: str, vol: int, writer: Any, ed: str, year: int, editor: str, isbn: int, page: int, gender: Any, lang_o: str, lang: str, translate: Any, cover: str, fornec: str, buyprice: float, profit : float, estoque: int) -> None: \n",
    "        \n",
    "        # Aqui vem os atributos de cada objeto que é criado a partir dessa classe\n",
    "        self.title = title\n",
    "        self.vol = vol\n",
    "        self.__writer = writer\n",
    "        a = 0\n",
    "        t = len(self.__writer)\n",
    "        if type(self.__writer) == type(\"string\"):\n",
    "            self.author = writer\n",
    "        else:\n",
    "            self.author = \"\"\n",
    "            while a < t-1:\n",
    "                self.author += self.__writer[a] + \", \"\n",
    "                a += 1\n",
    "            self.author += \"e \" + self.__writer[t-1]\n",
    "        self.ed = ed\n",
    "        self.year = year\n",
    "        self.editor = editor\n",
    "        self.isbn = isbn\n",
    "        self.page = page  \n",
    "        self.__gender = gender\n",
    "        b = 0\n",
    "        u = len(self.__gender)\n",
    "        if type(self.__gender) == type(\"string\"):\n",
    "            self.genders = gender\n",
    "        else:\n",
    "            self.genders = \"\"\n",
    "            while b < u-1:\n",
    "                self.genders += self.__gender[b] + \", \"\n",
    "                b += 1\n",
    "            self.genders += \"e \" + self.__gender[u-1]\n",
    "        self.lang_o = lang_o\n",
    "        self.lang = lang\n",
    "        self.__translate = translate\n",
    "        c = 0\n",
    "        v = len(self.__translate)\n",
    "        if type(self.__translate) == type(\"string\"):\n",
    "            self.translator = translate\n",
    "        else:\n",
    "            self.translator = \"\"\n",
    "            while c < v-1:\n",
    "                self.translator += self.__translate[c] + \", \"\n",
    "                c += 1\n",
    "            self.translator += \"e \" + self.__translate[v-1] \n",
    "        self.cover = cover\n",
    "        self.valor = buyprice * profit\n",
    "        self.__profit = profit\n",
    "        self.__buyprice = buyprice\n",
    "        self.__fornec = fornec\n",
    "        self.__estoque = estoque\n",
    "\n",
    "    # Imprime na tela informações sobre o livro\n",
    "    def infosClient(self) -> None:\n",
    "        print(f\"Título: {self.title}\")\n",
    "        print(f\"Volume: {self.vol}\")\n",
    "        print(f\"Autor(a/es/as): {self.author}\")\n",
    "        print(f\"Edição: {self.ed}\")\n",
    "        print(f\"Ano: {self.year}\")\n",
    "        print(f\"Editora: {self.editor}\")\n",
    "        print(f\"ISBN: {self.isbn}\")\n",
    "        print(f\"Número de páginas: {self.page}\")\n",
    "        print(f\"Gênero(s): {self.genders}\")\n",
    "        print(f\"Idioma Original: {self.lang_o}\")\n",
    "        print(f\"Traduzido para: {self.lang}\")\n",
    "        print(f\"Traduzido por: {self.translator}\")\n",
    "        print(f\"Tipo de capa: {self.cover}\")\n",
    "        print(f\"Preço: R$ {self.valor}\")\n",
    "        print(f\"Quantidade em estoque: {self.__estoque}\")\n",
    "    \n",
    "    def __infos(self) -> None:\n",
    "        print(f\"Título: {self.title}\")\n",
    "        print(f\"Volume: {self.vol}\")\n",
    "        print(f\"Autor(a/es/as): {self.author}\")\n",
    "        print(f\"Edição: {self.ed}\")\n",
    "        print(f\"Ano: {self.year}\")\n",
    "        print(f\"Editora: {self.editor}\")\n",
    "        print(f\"ISBN: {self.isbn}\")\n",
    "        print(f\"Número de páginas: {self.page}\")\n",
    "        print(f\"Gênero(s): {self.genders}\")\n",
    "        print(f\"Idioma Original: {self.lang_o}\")\n",
    "        print(f\"Traduzido para: {self.lang}\")\n",
    "        print(f\"Traduzido por: {self.translator}\")\n",
    "        print(f\"Tipo de capa: {self.cover}\")\n",
    "        print(f\"Fornecedor: {self.__fornec}\")\n",
    "        print(f\"Preço de compra: R$ {self.__buyprice}\")\n",
    "        print(f\"Margem de lucro: {self.__profit} %\")\n",
    "        print(f\"Preço de venda: R$ {self.valor}\")\n",
    "        print(f\"Quantidade em estoque: {self.__estoque}\")        \n",
    "        \n",
    "    def relatorio(self, tipo: str) -> None:\n",
    "        tipo = tipo.lower()\n",
    "        if tipo == \"completo\":\n",
    "            return self.__infos()\n",
    "        if tipo == \"estoque\":\n",
    "            print(f\"Quantidade em estoque: {self.__estoque}\")\n",
    "        if tipo == \"prices\":\n",
    "            print(f\"Preço de compra: R$ {self.__buyprice}\")\n",
    "            print(f\"Margem de lucro: {self.__profit} %\")\n",
    "            print(f\"Preço de venda: R$ {self.__valor}\")\n",
    "            \n",
    "            "
   ]
  },
  {
   "cell_type": "code",
   "execution_count": 92,
   "id": "dfefdb05",
   "metadata": {},
   "outputs": [],
   "source": [
    "class programa():\n",
    "    \n",
    "    def __init__(self, case: int) -> None:\n",
    "        \n",
    "        self.__case = case\n",
    "    \n",
    "    def selecionar(self):\n",
    "        \n",
    "        if self.__case == 1:\n",
    "            return self.__consultar()\n",
    "            \n",
    "        elif self.__case == 2:\n",
    "            return self.__cadastrar()\n",
    "        \n",
    "    def __consultar(self):\n",
    "        # ...\n",
    "        pass\n",
    "    \n",
    "    def __cadastrar(self):\n",
    "        pass\n",
    "        "
   ]
  },
  {
   "cell_type": "code",
   "execution_count": 93,
   "id": "c40f2f01",
   "metadata": {},
   "outputs": [
    {
     "name": "stdout",
     "output_type": "stream",
     "text": [
      "-----------------------------------------------------------\n",
      "\n",
      " *************************Bem-Vindo************************* \n",
      "\n",
      "-----------------------------------------------------------\n",
      "\n",
      " Para consultar, digite 1.\n",
      "\n",
      " Para cadastrar, digite 2.\n",
      "-----------------------------------------------------------\n",
      "<__main__.menu object at 0x7fb669cfe340>\n",
      "Digite aqui: 2\n"
     ]
    }
   ],
   "source": [
    "init = menu()\n",
    "print(init)\n",
    "case = int(input(\"Digite aqui: \"))\n",
    "obj = programa(case)"
   ]
  },
  {
   "cell_type": "code",
   "execution_count": 50,
   "id": "4645746b",
   "metadata": {},
   "outputs": [],
   "source": [
    "dict_Livros = {}"
   ]
  },
  {
   "cell_type": "code",
   "execution_count": 52,
   "id": "946f2d32",
   "metadata": {},
   "outputs": [],
   "source": [
    "linhas = len(tabela.index)"
   ]
  },
  {
   "cell_type": "code",
   "execution_count": null,
   "id": "477ccd39",
   "metadata": {},
   "outputs": [],
   "source": [
    "dict_Livros[\"livro\"] = {}\n",
    "ref = dict_Livros[\"livro\"]\n",
    "ref[\"isbn\"] = int(input(\"ISBN13: \"))\n",
    "isbn = ref[\"isbn\"]\n",
    "i = 0\n",
    "while i < linhas:\n",
    "    verificaISBN = tabela[\"ISBN13\"][i]\n",
    "    if verificaISBN == isbn:\n",
    "        print(\"Livro já adicionado!\")\n",
    "        break\n",
    "    else:\n",
    "        pass\n",
    "    i += 1"
   ]
  },
  {
   "cell_type": "code",
   "execution_count": 55,
   "id": "da274ec0",
   "metadata": {},
   "outputs": [
    {
     "name": "stdout",
     "output_type": "stream",
     "text": [
      "ISBN13: 9781529047967\n"
     ]
    }
   ],
   "source": [
    "dict_Livros[\"livro\"] = {}\n",
    "ref = dict_Livros[\"livro\"]\n",
    "ref[\"isbn\"] = int(input(\"ISBN13: \"))\n",
    "isbn = ref[\"isbn\"]"
   ]
  },
  {
   "cell_type": "code",
   "execution_count": 56,
   "id": "5eb65cf4",
   "metadata": {},
   "outputs": [
    {
     "name": "stdout",
     "output_type": "stream",
     "text": [
      "Livro já adicionado!\n"
     ]
    }
   ],
   "source": [
    "i = 0\n",
    "while i < linhas:\n",
    "    verificaISBN = tabela[\"ISBN13\"][i]\n",
    "    if verificaISBN == isbn:\n",
    "        print(\"Livro já adicionado!\")\n",
    "        break\n",
    "    else:\n",
    "        pass\n",
    "    i += 1"
   ]
  },
  {
   "cell_type": "code",
   "execution_count": 38,
   "id": "6adb9241",
   "metadata": {
    "scrolled": true
   },
   "outputs": [
    {
     "name": "stdout",
     "output_type": "stream",
     "text": [
      "Entre com uma referencia: ref\n",
      "Título: The Little Prince\n",
      "Volume único? s\n",
      "Quantos autores esse livro tem? 1\n",
      "Nome do Autor: Antoine de Saint-Exupéry\n",
      "Edição: 1\n",
      "Ano de publicação: 2020\n",
      "Editora: Macmillan Collector's Library\n",
      "ISBN13: 9781529047967\n",
      "Número de páginas: 128\n",
      "Quantos gêneros esse livro tem? 4\n",
      "Gênero 1: Literatura infantil\n",
      "Gênero 2: Fábula\n",
      "Gênero 3: Novela\n",
      "Gênero 4: Ficção especulativa\n",
      "O livro está no idoma original de publicação? n\n",
      "Idioma de publicação original: Francês\n",
      "Idoma de publicação: Inglês\n",
      "Quantos tradutores esse livro tem? 2\n",
      "Tradutor(a) 1: Chloe Schwartz\n",
      "Tradutor(a) 2: Ros Schwartz\n",
      "Tipo de capa: Dura\n",
      "Quem é o Fornecedor? amazon.com.br\n",
      "Preço de compra do livro: 142.78\n",
      "Margem de lucro: 0\n",
      "Quantidade em estoque: 0\n"
     ]
    }
   ],
   "source": [
    "ref[\"title\"] = input(\"Título: \")\n",
    "vv = input(\"Volume único? \")\n",
    "vv = vv.lower()\n",
    "if vv == \"y\" or vv == \"yes\" or vv == \"s\" or vv == \"sim\":\n",
    "    ref[\"vol\"] = \"Único\"\n",
    "else:\n",
    "    ref[\"vol\"] = int(input(\"Volume: \"))\n",
    "n = int(input(\"Quantos autores esse livro tem? \"))\n",
    "if n == 1:\n",
    "    ref[\"writer\"] = input(\"Nome do Autor: \")\n",
    "else:\n",
    "    count = 0\n",
    "    autor = []\n",
    "    while count < n:\n",
    "        a = input(f\"Nome do autor {count + 1}: \")\n",
    "        autor.append(a)\n",
    "        count += 1\n",
    "    ref[\"writer\"] = autor\n",
    "edition = input(\"Edição: \")\n",
    "ref[\"ed\"] = edition + \"ª\"\n",
    "ref[\"year\"] = int(input(\"Ano de publicação: \"))\n",
    "ref[\"editor\"] = input(\"Editora: \")\n",
    "ref[\"page\"] = int(input(\"Número de páginas: \"))\n",
    "m = int(input(\"Quantos gêneros esse livro tem? \"))\n",
    "if m == 1:\n",
    "    ref[\"gender\"] = input(\"Gênero: \")\n",
    "else:\n",
    "    count = 0\n",
    "    gen = []\n",
    "    while count < m:\n",
    "        g = input(f\"Gênero {count + 1}: \")\n",
    "        gen.append(g)\n",
    "        count += 1\n",
    "    ref[\"gender\"] = gen\n",
    "vi = input(\"O livro está no idoma original de publicação? \")\n",
    "vi = vi.lower()\n",
    "if vi == \"y\" or vi == \"yes\" or vi == \"s\" or vi == \"sim\":\n",
    "    idioma = input(\"Idoma de publicação: \")\n",
    "    ref[\"lang_o\"] = idioma\n",
    "    ref[\"lang\"] = \"-\"\n",
    "    ref[\"translate\"] = \"-\"\n",
    "else:    \n",
    "    ref[\"lang_o\"] = input(\"Idioma de publicação original: \")\n",
    "    ref[\"lang\"] = input(\"Idoma de publicação: \")\n",
    "    o = int(input(\"Quantos tradutores esse livro tem? \"))\n",
    "    if o == 1:\n",
    "        ref[\"translate\"] = input(\"Tradutor(a): \")\n",
    "    else:\n",
    "        count = 0\n",
    "        tradutores = []\n",
    "        while count < o:\n",
    "            t = input(f\"Tradutor(a) {count + 1}: \")\n",
    "            tradutores.append(t)\n",
    "            count += 1\n",
    "        ref[\"translate\"] = tradutores \n",
    "ref[\"cover\"] = input(\"Tipo de capa: \")\n",
    "ref[\"fornec\"] = input(\"Quem é o Fornecedor? \")\n",
    "ref[\"buyprice\"] = float(input(\"Preço de compra do livro: \"))\n",
    "ref[\"profit\"] = float(input(\"Margem de lucro: \"))\n",
    "ref[\"estoque\"] = int(input(\"Quantidade em estoque: \"))\n",
    "\n",
    "# Atribuindo os valores de cada atributo\n",
    "\n",
    "title = ref[\"title\"]\n",
    "vol = ref[\"vol\"]\n",
    "writer = ref[\"writer\"]\n",
    "ed = ref[\"ed\"]\n",
    "year = ref[\"year\"]\n",
    "editor = ref[\"editor\"]\n",
    "page = ref[\"page\"]\n",
    "gender = ref[\"gender\"]\n",
    "lang_o = ref[\"lang_o\"]\n",
    "lang = ref[\"lang\"]\n",
    "translate = ref[\"translate\"]\n",
    "cover = ref[\"cover\"]\n",
    "fornec = ref[\"fornec\"]\n",
    "buyprice = ref[\"buyprice\"]\n",
    "profit = ref[\"profit\"]\n",
    "estoque = ref[\"estoque\"]\n",
    "\n",
    "# Definindo o objeto\n",
    "\n",
    "x = Livros(title, vol, writer, ed, year, editor, isbn, page, gender, lang_o, lang, translate, cover, fornec, buyprice, profit, estoque)"
   ]
  },
  {
   "cell_type": "code",
   "execution_count": 31,
   "id": "eea30a66",
   "metadata": {},
   "outputs": [
    {
     "data": {
      "text/html": [
       "<div>\n",
       "<style scoped>\n",
       "    .dataframe tbody tr th:only-of-type {\n",
       "        vertical-align: middle;\n",
       "    }\n",
       "\n",
       "    .dataframe tbody tr th {\n",
       "        vertical-align: top;\n",
       "    }\n",
       "\n",
       "    .dataframe thead th {\n",
       "        text-align: right;\n",
       "    }\n",
       "</style>\n",
       "<table border=\"1\" class=\"dataframe\">\n",
       "  <thead>\n",
       "    <tr style=\"text-align: right;\">\n",
       "      <th></th>\n",
       "      <th>Código</th>\n",
       "      <th>Título</th>\n",
       "      <th>Volume</th>\n",
       "      <th>Autor</th>\n",
       "      <th>Edição</th>\n",
       "      <th>Ano</th>\n",
       "      <th>Editora</th>\n",
       "      <th>ISBN13</th>\n",
       "      <th>Qtd. Pags</th>\n",
       "      <th>Gêneros</th>\n",
       "      <th>Idioma Original</th>\n",
       "      <th>Idioma</th>\n",
       "      <th>Tradutores</th>\n",
       "      <th>Capa</th>\n",
       "      <th>Fornecedor</th>\n",
       "      <th>Preço Compra</th>\n",
       "      <th>Margem</th>\n",
       "      <th>Preço venda</th>\n",
       "      <th>Qtd. Estoque</th>\n",
       "    </tr>\n",
       "  </thead>\n",
       "  <tbody>\n",
       "  </tbody>\n",
       "</table>\n",
       "</div>"
      ],
      "text/plain": [
       "Empty DataFrame\n",
       "Columns: [Código, Título, Volume, Autor, Edição, Ano, Editora, ISBN13, Qtd. Pags, Gêneros, Idioma Original, Idioma, Tradutores, Capa, Fornecedor, Preço Compra, Margem, Preço venda, Qtd. Estoque]\n",
       "Index: []"
      ]
     },
     "metadata": {},
     "output_type": "display_data"
    }
   ],
   "source": [
    "display(tabela)"
   ]
  },
  {
   "cell_type": "code",
   "execution_count": 47,
   "id": "e00bd5bd",
   "metadata": {},
   "outputs": [],
   "source": [
    "valor = buyprice * profit\n",
    "code = \"L\" + str(linhas+1)"
   ]
  },
  {
   "cell_type": "code",
   "execution_count": 40,
   "id": "29cb5814",
   "metadata": {},
   "outputs": [],
   "source": [
    "addlivro = [code, title, vol, writer, ed, year, editor, isbn, page, gender, lang_o, lang, translate, cover, fornec, buyprice, profit, valor, estoque]\n",
    "tabela.loc[linhas] = addlivro"
   ]
  },
  {
   "cell_type": "code",
   "execution_count": 41,
   "id": "9e939dff",
   "metadata": {},
   "outputs": [
    {
     "data": {
      "text/html": [
       "<div>\n",
       "<style scoped>\n",
       "    .dataframe tbody tr th:only-of-type {\n",
       "        vertical-align: middle;\n",
       "    }\n",
       "\n",
       "    .dataframe tbody tr th {\n",
       "        vertical-align: top;\n",
       "    }\n",
       "\n",
       "    .dataframe thead th {\n",
       "        text-align: right;\n",
       "    }\n",
       "</style>\n",
       "<table border=\"1\" class=\"dataframe\">\n",
       "  <thead>\n",
       "    <tr style=\"text-align: right;\">\n",
       "      <th></th>\n",
       "      <th>Código</th>\n",
       "      <th>Título</th>\n",
       "      <th>Volume</th>\n",
       "      <th>Autor</th>\n",
       "      <th>Edição</th>\n",
       "      <th>Ano</th>\n",
       "      <th>Editora</th>\n",
       "      <th>ISBN13</th>\n",
       "      <th>Qtd. Pags</th>\n",
       "      <th>Gêneros</th>\n",
       "      <th>Idioma Original</th>\n",
       "      <th>Idioma</th>\n",
       "      <th>Tradutores</th>\n",
       "      <th>Capa</th>\n",
       "      <th>Fornecedor</th>\n",
       "      <th>Preço Compra</th>\n",
       "      <th>Margem</th>\n",
       "      <th>Preço venda</th>\n",
       "      <th>Qtd. Estoque</th>\n",
       "    </tr>\n",
       "  </thead>\n",
       "  <tbody>\n",
       "    <tr>\n",
       "      <th>0</th>\n",
       "      <td>L1</td>\n",
       "      <td>o Código Da Vinci</td>\n",
       "      <td>Único</td>\n",
       "      <td>Dan Brown</td>\n",
       "      <td>1ª</td>\n",
       "      <td>2004</td>\n",
       "      <td>Sextante</td>\n",
       "      <td>9788575421130</td>\n",
       "      <td>423</td>\n",
       "      <td>[Ficção, Ficção Americana]</td>\n",
       "      <td>Inglês</td>\n",
       "      <td>Português</td>\n",
       "      <td>Celina Cavalcante Falck-Cook</td>\n",
       "      <td>Comum</td>\n",
       "      <td>-</td>\n",
       "      <td>0.00</td>\n",
       "      <td>0.0</td>\n",
       "      <td>0.0</td>\n",
       "      <td>1</td>\n",
       "    </tr>\n",
       "    <tr>\n",
       "      <th>1</th>\n",
       "      <td>L2</td>\n",
       "      <td>The Little Prince</td>\n",
       "      <td>Único</td>\n",
       "      <td>Antoine de Saint-Exupéry</td>\n",
       "      <td>1ª</td>\n",
       "      <td>2020</td>\n",
       "      <td>Macmillan Collector's Library</td>\n",
       "      <td>9781529047967</td>\n",
       "      <td>128</td>\n",
       "      <td>[Literatura infantil, Fábula, Novela, Ficção e...</td>\n",
       "      <td>Francês</td>\n",
       "      <td>Inglês</td>\n",
       "      <td>[Chloe Schwartz, Ros Schwartz]</td>\n",
       "      <td>Dura</td>\n",
       "      <td>amazon.com.br</td>\n",
       "      <td>142.78</td>\n",
       "      <td>0.0</td>\n",
       "      <td>0.0</td>\n",
       "      <td>0</td>\n",
       "    </tr>\n",
       "  </tbody>\n",
       "</table>\n",
       "</div>"
      ],
      "text/plain": [
       "  Código             Título Volume                     Autor Edição   Ano  \\\n",
       "0     L1  o Código Da Vinci  Único                 Dan Brown     1ª  2004   \n",
       "1     L2  The Little Prince  Único  Antoine de Saint-Exupéry     1ª  2020   \n",
       "\n",
       "                         Editora         ISBN13 Qtd. Pags  \\\n",
       "0                       Sextante  9788575421130       423   \n",
       "1  Macmillan Collector's Library  9781529047967       128   \n",
       "\n",
       "                                             Gêneros Idioma Original  \\\n",
       "0                         [Ficção, Ficção Americana]          Inglês   \n",
       "1  [Literatura infantil, Fábula, Novela, Ficção e...         Francês   \n",
       "\n",
       "      Idioma                      Tradutores   Capa     Fornecedor  \\\n",
       "0  Português    Celina Cavalcante Falck-Cook  Comum              -   \n",
       "1     Inglês  [Chloe Schwartz, Ros Schwartz]   Dura  amazon.com.br   \n",
       "\n",
       "   Preço Compra  Margem  Preço venda Qtd. Estoque  \n",
       "0          0.00     0.0          0.0            1  \n",
       "1        142.78     0.0          0.0            0  "
      ]
     },
     "metadata": {},
     "output_type": "display_data"
    }
   ],
   "source": [
    "display(tabela)"
   ]
  },
  {
   "cell_type": "code",
   "execution_count": 48,
   "id": "e650d462",
   "metadata": {},
   "outputs": [
    {
     "name": "stdout",
     "output_type": "stream",
     "text": [
      "Livro já adicionado!\n"
     ]
    }
   ],
   "source": []
  },
  {
   "cell_type": "code",
   "execution_count": 58,
   "id": "a61925a6",
   "metadata": {},
   "outputs": [
    {
     "name": "stdout",
     "output_type": "stream",
     "text": [
      "{}\n"
     ]
    }
   ],
   "source": [
    "del dict_Livros[\"livro\"]\n",
    "print(dict_Livros)"
   ]
  },
  {
   "cell_type": "code",
   "execution_count": 43,
   "id": "eac9bd4f",
   "metadata": {},
   "outputs": [],
   "source": [
    "# Salvando a DB atualizada\n",
    "tabela.to_excel(file, index=False)"
   ]
  },
  {
   "cell_type": "code",
   "execution_count": null,
   "id": "54b4185b",
   "metadata": {},
   "outputs": [],
   "source": [
    "# Implementar mais tipos de relatórios.\n",
    "\n",
    "# Implementar um menu para seleção de Cadastro ou Consulta."
   ]
  }
 ],
 "metadata": {
  "kernelspec": {
   "display_name": "Python 3 (ipykernel)",
   "language": "python",
   "name": "python3"
  },
  "language_info": {
   "codemirror_mode": {
    "name": "ipython",
    "version": 3
   },
   "file_extension": ".py",
   "mimetype": "text/x-python",
   "name": "python",
   "nbconvert_exporter": "python",
   "pygments_lexer": "ipython3",
   "version": "3.9.7"
  }
 },
 "nbformat": 4,
 "nbformat_minor": 5
}
